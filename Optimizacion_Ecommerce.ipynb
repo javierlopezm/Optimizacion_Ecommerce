{
 "cells": [
  {
   "cell_type": "markdown",
   "metadata": {},
   "source": [
    "# **<font color = '#3498eb'>OBJETIVES</font>**"
   ]
  },
  {
   "cell_type": "markdown",
   "metadata": {},
   "source": [
    "· This cosmetics e-commerce has experienced flat growth over the past few months and, in general terms, aims to increase the number of conversions and the AOV (Average Order Value).\n",
    "\n",
    "· We want to create an RFM (Recency, Frequency, Monetary Value) segmentation and a recommendation system (Identify which products we want to put in front of every client).\n",
    "\n",
    "· We want to optimize every step of the customer journey (awareness, consideration, purchase, retention, and recommendation).\n",
    "\n",
    "· Optimize the campaigns.\n",
    "\n",
    "· Optimize the product catalog."
   ]
  },
  {
   "cell_type": "markdown",
   "metadata": {},
   "source": [
    "# **<font color = '#3498eb'>SECTOR, COMPANY</font>**"
   ]
  },
  {
   "cell_type": "markdown",
   "metadata": {},
   "source": [
    "# **<font color = '#3498eb'>SOME QUESTIONS TO START THE ANALYSIS</font>**"
   ]
  },
  {
   "cell_type": "markdown",
   "metadata": {},
   "source": [
    "- **Customer Journey**\n",
    "\n",
    "· What is the typical buying process.\n",
    "\n",
    "· In each session, how many products are viewed, added to the cart, abandoned, and purchased.\n",
    "\n",
    "· What has been the trend of these indicators in recent months.\n",
    "\n",
    "- **Clients**\n",
    "\n",
    "· How many products does each customer purchase.\n",
    "\n",
    "· How much does each customer spend.\n",
    "\n",
    "· Are there \"best customers\" that we want to identify and treat differently?\n",
    "\n",
    "· Are customers making repeat purchases in subsequent months?\n",
    "\n",
    "· What is the average LTV of a customer?\n",
    "\n",
    "· Can we create personalized campaigns, taking into account the LTV of the customer?\n",
    "\n",
    "- **Products**\n",
    "\n",
    "· Which products are most frequently purchased?\n",
    "\n",
    "· Are there products that are not being purchased?\n",
    "\n",
    "· Is there a correlation between product price and purchase volume?\n",
    "\n",
    "· Are there products that are viewed but not purchased?\n",
    "\n",
    "· Are there products that are removed from the shopping cart?\n",
    "\n",
    "· Can we make personalized product recommendations for each customer?"
   ]
  },
  {
   "cell_type": "markdown",
   "metadata": {},
   "source": [
    "# **<font color = '#3498eb'>LIBRARIES</font>**"
   ]
  },
  {
   "cell_type": "code",
   "execution_count": 5,
   "metadata": {},
   "outputs": [
    {
     "name": "stdout",
     "output_type": "stream",
     "text": [
      "Requirement already satisfied: tabulate in c:\\users\\usuario\\anaconda3\\envs\\entorno_ecommerce\\lib\\site-packages (0.9.0)\n",
      "Note: you may need to restart the kernel to use updated packages.\n"
     ]
    }
   ],
   "source": [
    "%pip install tabulate"
   ]
  },
  {
   "cell_type": "code",
   "execution_count": 1,
   "metadata": {},
   "outputs": [],
   "source": [
    "import numpy as np\n",
    "import pandas as pd\n",
    "import matplotlib.pyplot as plt\n",
    "%matplotlib inline\n",
    "import seaborn as sns\n",
    "%config IPCompleter.greedy=True\n",
    "import tabulate # Mejora la legibilidad de los resultados con independencia de la librería usada\n",
    "\n",
    "import sqlalchemy as sa\n",
    "from sqlalchemy import inspect"
   ]
  },
  {
   "cell_type": "markdown",
   "metadata": {},
   "source": [
    "# **<font color = '#3498eb'>DATA LOADING AND UNDERSTANDING</font>**"
   ]
  },
  {
   "cell_type": "code",
   "execution_count": 2,
   "metadata": {},
   "outputs": [],
   "source": [
    "conn_sqlite = sa.create_engine(r'sqlite:///F:\\GDrive_DATA\\DS4B\\DS_MASTERY\\02_BUSINESS_ANALYTICS\\07_CASOS\\CASO3_OPTIMIZACIÓN_ECOMMERCE\\ecommerce.db')"
   ]
  },
  {
   "cell_type": "code",
   "execution_count": 4,
   "metadata": {},
   "outputs": [
    {
     "data": {
      "text/plain": [
       "['2019-Dec', '2019-Nov', '2019-Oct', '2020-Feb', '2020-Jan']"
      ]
     },
     "execution_count": 4,
     "metadata": {},
     "output_type": "execute_result"
    }
   ],
   "source": [
    "inspect(conn_sqlite).get_table_names()"
   ]
  },
  {
   "cell_type": "code",
   "execution_count": 3,
   "metadata": {},
   "outputs": [],
   "source": [
    "oct19 = pd.read_sql('2019-Oct', conn_sqlite)\n",
    "nov19 = pd.read_sql('2019-Nov', conn_sqlite)\n",
    "dec19 = pd.read_sql('2019-Dec', conn_sqlite)\n",
    "jan19 = pd.read_sql('2020-Jan', conn_sqlite)\n",
    "feb19 = pd.read_sql('2020-Feb', conn_sqlite)"
   ]
  },
  {
   "cell_type": "code",
   "execution_count": 5,
   "metadata": {},
   "outputs": [
    {
     "data": {
      "text/html": [
       "<div>\n",
       "<style scoped>\n",
       "    .dataframe tbody tr th:only-of-type {\n",
       "        vertical-align: middle;\n",
       "    }\n",
       "\n",
       "    .dataframe tbody tr th {\n",
       "        vertical-align: top;\n",
       "    }\n",
       "\n",
       "    .dataframe thead th {\n",
       "        text-align: right;\n",
       "    }\n",
       "</style>\n",
       "<table border=\"1\" class=\"dataframe\">\n",
       "  <thead>\n",
       "    <tr style=\"text-align: right;\">\n",
       "      <th></th>\n",
       "      <th>index</th>\n",
       "      <th>event_time</th>\n",
       "      <th>event_type</th>\n",
       "      <th>product_id</th>\n",
       "      <th>category_id</th>\n",
       "      <th>category_code</th>\n",
       "      <th>brand</th>\n",
       "      <th>price</th>\n",
       "      <th>user_id</th>\n",
       "      <th>user_session</th>\n",
       "    </tr>\n",
       "  </thead>\n",
       "  <tbody>\n",
       "    <tr>\n",
       "      <th>0</th>\n",
       "      <td>68</td>\n",
       "      <td>2019-10-01 00:01:46 UTC</td>\n",
       "      <td>view</td>\n",
       "      <td>5843665</td>\n",
       "      <td>1487580005092295511</td>\n",
       "      <td>None</td>\n",
       "      <td>f.o.x</td>\n",
       "      <td>9.44</td>\n",
       "      <td>462033176</td>\n",
       "      <td>a18e0999-61a1-4218-8f8f-61ec1d375361</td>\n",
       "    </tr>\n",
       "    <tr>\n",
       "      <th>1</th>\n",
       "      <td>72</td>\n",
       "      <td>2019-10-01 00:01:55 UTC</td>\n",
       "      <td>cart</td>\n",
       "      <td>5868461</td>\n",
       "      <td>1487580013069861041</td>\n",
       "      <td>None</td>\n",
       "      <td>italwax</td>\n",
       "      <td>3.57</td>\n",
       "      <td>514753614</td>\n",
       "      <td>e2fecb2d-22d0-df2c-c661-15da44b3ccf1</td>\n",
       "    </tr>\n",
       "    <tr>\n",
       "      <th>2</th>\n",
       "      <td>95</td>\n",
       "      <td>2019-10-01 00:02:50 UTC</td>\n",
       "      <td>view</td>\n",
       "      <td>5877456</td>\n",
       "      <td>1487580006300255120</td>\n",
       "      <td>None</td>\n",
       "      <td>jessnail</td>\n",
       "      <td>122.22</td>\n",
       "      <td>527418424</td>\n",
       "      <td>86e77869-afbc-4dff-9aa2-6b7dd8c90770</td>\n",
       "    </tr>\n",
       "    <tr>\n",
       "      <th>3</th>\n",
       "      <td>122</td>\n",
       "      <td>2019-10-01 00:03:41 UTC</td>\n",
       "      <td>view</td>\n",
       "      <td>5649270</td>\n",
       "      <td>1487580013749338323</td>\n",
       "      <td>None</td>\n",
       "      <td>concept</td>\n",
       "      <td>6.19</td>\n",
       "      <td>555448072</td>\n",
       "      <td>b5f72ceb-0730-44de-a932-d16db62390df</td>\n",
       "    </tr>\n",
       "    <tr>\n",
       "      <th>4</th>\n",
       "      <td>124</td>\n",
       "      <td>2019-10-01 00:03:44 UTC</td>\n",
       "      <td>view</td>\n",
       "      <td>18082</td>\n",
       "      <td>1487580005411062629</td>\n",
       "      <td>None</td>\n",
       "      <td>cnd</td>\n",
       "      <td>16.03</td>\n",
       "      <td>552006247</td>\n",
       "      <td>2d8f304b-de45-4e59-8f40-50c603843fe5</td>\n",
       "    </tr>\n",
       "    <tr>\n",
       "      <th>...</th>\n",
       "      <td>...</td>\n",
       "      <td>...</td>\n",
       "      <td>...</td>\n",
       "      <td>...</td>\n",
       "      <td>...</td>\n",
       "      <td>...</td>\n",
       "      <td>...</td>\n",
       "      <td>...</td>\n",
       "      <td>...</td>\n",
       "      <td>...</td>\n",
       "    </tr>\n",
       "    <tr>\n",
       "      <th>429785</th>\n",
       "      <td>4156660</td>\n",
       "      <td>2020-02-29 23:58:49 UTC</td>\n",
       "      <td>cart</td>\n",
       "      <td>5815662</td>\n",
       "      <td>1487580006317032337</td>\n",
       "      <td>None</td>\n",
       "      <td>None</td>\n",
       "      <td>0.92</td>\n",
       "      <td>147995998</td>\n",
       "      <td>5ff96629-3627-493e-a25b-5a871ec78c90</td>\n",
       "    </tr>\n",
       "    <tr>\n",
       "      <th>429786</th>\n",
       "      <td>4156663</td>\n",
       "      <td>2020-02-29 23:58:57 UTC</td>\n",
       "      <td>view</td>\n",
       "      <td>5815665</td>\n",
       "      <td>1487580006317032337</td>\n",
       "      <td>None</td>\n",
       "      <td>None</td>\n",
       "      <td>0.59</td>\n",
       "      <td>147995998</td>\n",
       "      <td>5ff96629-3627-493e-a25b-5a871ec78c90</td>\n",
       "    </tr>\n",
       "    <tr>\n",
       "      <th>429787</th>\n",
       "      <td>4156668</td>\n",
       "      <td>2020-02-29 23:59:05 UTC</td>\n",
       "      <td>cart</td>\n",
       "      <td>5815665</td>\n",
       "      <td>1487580006317032337</td>\n",
       "      <td>None</td>\n",
       "      <td>None</td>\n",
       "      <td>0.59</td>\n",
       "      <td>147995998</td>\n",
       "      <td>5ff96629-3627-493e-a25b-5a871ec78c90</td>\n",
       "    </tr>\n",
       "    <tr>\n",
       "      <th>429788</th>\n",
       "      <td>4156675</td>\n",
       "      <td>2020-02-29 23:59:28 UTC</td>\n",
       "      <td>view</td>\n",
       "      <td>5817692</td>\n",
       "      <td>1487580010872045658</td>\n",
       "      <td>None</td>\n",
       "      <td>None</td>\n",
       "      <td>0.79</td>\n",
       "      <td>619841242</td>\n",
       "      <td>18af673b-7fb9-4202-a66d-5c855bc0fd2d</td>\n",
       "    </tr>\n",
       "    <tr>\n",
       "      <th>429789</th>\n",
       "      <td>4156680</td>\n",
       "      <td>2020-02-29 23:59:54 UTC</td>\n",
       "      <td>view</td>\n",
       "      <td>5716351</td>\n",
       "      <td>1487580010872045658</td>\n",
       "      <td>None</td>\n",
       "      <td>irisk</td>\n",
       "      <td>0.79</td>\n",
       "      <td>619841242</td>\n",
       "      <td>18af673b-7fb9-4202-a66d-5c855bc0fd2d</td>\n",
       "    </tr>\n",
       "  </tbody>\n",
       "</table>\n",
       "<p>2095076 rows × 10 columns</p>\n",
       "</div>"
      ],
      "text/plain": [
       "          index               event_time event_type  product_id  \\\n",
       "0            68  2019-10-01 00:01:46 UTC       view     5843665   \n",
       "1            72  2019-10-01 00:01:55 UTC       cart     5868461   \n",
       "2            95  2019-10-01 00:02:50 UTC       view     5877456   \n",
       "3           122  2019-10-01 00:03:41 UTC       view     5649270   \n",
       "4           124  2019-10-01 00:03:44 UTC       view       18082   \n",
       "...         ...                      ...        ...         ...   \n",
       "429785  4156660  2020-02-29 23:58:49 UTC       cart     5815662   \n",
       "429786  4156663  2020-02-29 23:58:57 UTC       view     5815665   \n",
       "429787  4156668  2020-02-29 23:59:05 UTC       cart     5815665   \n",
       "429788  4156675  2020-02-29 23:59:28 UTC       view     5817692   \n",
       "429789  4156680  2020-02-29 23:59:54 UTC       view     5716351   \n",
       "\n",
       "                category_id category_code     brand   price    user_id  \\\n",
       "0       1487580005092295511          None     f.o.x    9.44  462033176   \n",
       "1       1487580013069861041          None   italwax    3.57  514753614   \n",
       "2       1487580006300255120          None  jessnail  122.22  527418424   \n",
       "3       1487580013749338323          None   concept    6.19  555448072   \n",
       "4       1487580005411062629          None       cnd   16.03  552006247   \n",
       "...                     ...           ...       ...     ...        ...   \n",
       "429785  1487580006317032337          None      None    0.92  147995998   \n",
       "429786  1487580006317032337          None      None    0.59  147995998   \n",
       "429787  1487580006317032337          None      None    0.59  147995998   \n",
       "429788  1487580010872045658          None      None    0.79  619841242   \n",
       "429789  1487580010872045658          None     irisk    0.79  619841242   \n",
       "\n",
       "                                user_session  \n",
       "0       a18e0999-61a1-4218-8f8f-61ec1d375361  \n",
       "1       e2fecb2d-22d0-df2c-c661-15da44b3ccf1  \n",
       "2       86e77869-afbc-4dff-9aa2-6b7dd8c90770  \n",
       "3       b5f72ceb-0730-44de-a932-d16db62390df  \n",
       "4       2d8f304b-de45-4e59-8f40-50c603843fe5  \n",
       "...                                      ...  \n",
       "429785  5ff96629-3627-493e-a25b-5a871ec78c90  \n",
       "429786  5ff96629-3627-493e-a25b-5a871ec78c90  \n",
       "429787  5ff96629-3627-493e-a25b-5a871ec78c90  \n",
       "429788  18af673b-7fb9-4202-a66d-5c855bc0fd2d  \n",
       "429789  18af673b-7fb9-4202-a66d-5c855bc0fd2d  \n",
       "\n",
       "[2095076 rows x 10 columns]"
      ]
     },
     "execution_count": 5,
     "metadata": {},
     "output_type": "execute_result"
    }
   ],
   "source": [
    "df_ecom = pd.concat([oct19, nov19, dec19, jan19, feb19], axis=0)\n",
    "\n",
    "df_ecom"
   ]
  },
  {
   "cell_type": "markdown",
   "metadata": {},
   "source": [
    "# **<font color = '#3498eb'>DATA QUALITY</font>**"
   ]
  },
  {
   "cell_type": "markdown",
   "metadata": {},
   "source": [
    "### Variable analysis"
   ]
  },
  {
   "cell_type": "code",
   "execution_count": null,
   "metadata": {},
   "outputs": [],
   "source": [
    "df_ecom.info()"
   ]
  },
  {
   "cell_type": "code",
   "execution_count": 6,
   "metadata": {},
   "outputs": [],
   "source": [
    "# I delete the index column\n",
    "\n",
    "df_ecom.drop(columns='index', inplace=True)"
   ]
  },
  {
   "cell_type": "code",
   "execution_count": 3,
   "metadata": {},
   "outputs": [],
   "source": [
    "# Convert event_time to datetime\n",
    "\n",
    "df_ecom.event_time = pd.to_datetime(df_ecom.event_time)"
   ]
  },
  {
   "cell_type": "markdown",
   "metadata": {},
   "source": [
    "### Null Management"
   ]
  },
  {
   "cell_type": "code",
   "execution_count": 12,
   "metadata": {},
   "outputs": [
    {
     "data": {
      "text/html": [
       "<div>\n",
       "<style scoped>\n",
       "    .dataframe tbody tr th:only-of-type {\n",
       "        vertical-align: middle;\n",
       "    }\n",
       "\n",
       "    .dataframe tbody tr th {\n",
       "        vertical-align: top;\n",
       "    }\n",
       "\n",
       "    .dataframe thead th {\n",
       "        text-align: right;\n",
       "    }\n",
       "</style>\n",
       "<table border=\"1\" class=\"dataframe\">\n",
       "  <thead>\n",
       "    <tr style=\"text-align: right;\">\n",
       "      <th></th>\n",
       "      <th>Null_Count</th>\n",
       "      <th>Null_Percentage</th>\n",
       "    </tr>\n",
       "  </thead>\n",
       "  <tbody>\n",
       "    <tr>\n",
       "      <th>category_code</th>\n",
       "      <td>2060411</td>\n",
       "      <td>98</td>\n",
       "    </tr>\n",
       "    <tr>\n",
       "      <th>brand</th>\n",
       "      <td>891646</td>\n",
       "      <td>42</td>\n",
       "    </tr>\n",
       "    <tr>\n",
       "      <th>user_session</th>\n",
       "      <td>506</td>\n",
       "      <td>0</td>\n",
       "    </tr>\n",
       "    <tr>\n",
       "      <th>event_time</th>\n",
       "      <td>0</td>\n",
       "      <td>0</td>\n",
       "    </tr>\n",
       "    <tr>\n",
       "      <th>event_type</th>\n",
       "      <td>0</td>\n",
       "      <td>0</td>\n",
       "    </tr>\n",
       "    <tr>\n",
       "      <th>product_id</th>\n",
       "      <td>0</td>\n",
       "      <td>0</td>\n",
       "    </tr>\n",
       "    <tr>\n",
       "      <th>category_id</th>\n",
       "      <td>0</td>\n",
       "      <td>0</td>\n",
       "    </tr>\n",
       "    <tr>\n",
       "      <th>price</th>\n",
       "      <td>0</td>\n",
       "      <td>0</td>\n",
       "    </tr>\n",
       "    <tr>\n",
       "      <th>user_id</th>\n",
       "      <td>0</td>\n",
       "      <td>0</td>\n",
       "    </tr>\n",
       "  </tbody>\n",
       "</table>\n",
       "</div>"
      ],
      "text/plain": [
       "               Null_Count  Null_Percentage\n",
       "category_code     2060411               98\n",
       "brand              891646               42\n",
       "user_session          506                0\n",
       "event_time              0                0\n",
       "event_type              0                0\n",
       "product_id              0                0\n",
       "category_id             0                0\n",
       "price                   0                0\n",
       "user_id                 0                0"
      ]
     },
     "execution_count": 12,
     "metadata": {},
     "output_type": "execute_result"
    }
   ],
   "source": [
    "null_count  = df_ecom.isna().sum().sort_values(ascending=False)\n",
    "null_percentage = (df_ecom.isnull().mean() * 100).sort_values(ascending=False).astype(int)\n",
    "\n",
    "df_nulls = pd.DataFrame({'Null_Count':null_count, 'Null_Percentage':null_percentage})\n",
    "\n",
    "df_nulls"
   ]
  },
  {
   "cell_type": "code",
   "execution_count": 4,
   "metadata": {},
   "outputs": [
    {
     "data": {
      "text/html": [
       "<div>\n",
       "<style scoped>\n",
       "    .dataframe tbody tr th:only-of-type {\n",
       "        vertical-align: middle;\n",
       "    }\n",
       "\n",
       "    .dataframe tbody tr th {\n",
       "        vertical-align: top;\n",
       "    }\n",
       "\n",
       "    .dataframe thead th {\n",
       "        text-align: right;\n",
       "    }\n",
       "</style>\n",
       "<table border=\"1\" class=\"dataframe\">\n",
       "  <thead>\n",
       "    <tr style=\"text-align: right;\">\n",
       "      <th></th>\n",
       "      <th>event_time</th>\n",
       "      <th>event_type</th>\n",
       "      <th>product_id</th>\n",
       "      <th>category_id</th>\n",
       "      <th>price</th>\n",
       "      <th>user_id</th>\n",
       "      <th>user_session</th>\n",
       "    </tr>\n",
       "  </thead>\n",
       "  <tbody>\n",
       "    <tr>\n",
       "      <th>0</th>\n",
       "      <td>2019-10-01 00:01:46+00:00</td>\n",
       "      <td>view</td>\n",
       "      <td>5843665</td>\n",
       "      <td>1487580005092295511</td>\n",
       "      <td>9.44</td>\n",
       "      <td>462033176</td>\n",
       "      <td>a18e0999-61a1-4218-8f8f-61ec1d375361</td>\n",
       "    </tr>\n",
       "    <tr>\n",
       "      <th>1</th>\n",
       "      <td>2019-10-01 00:01:55+00:00</td>\n",
       "      <td>cart</td>\n",
       "      <td>5868461</td>\n",
       "      <td>1487580013069861041</td>\n",
       "      <td>3.57</td>\n",
       "      <td>514753614</td>\n",
       "      <td>e2fecb2d-22d0-df2c-c661-15da44b3ccf1</td>\n",
       "    </tr>\n",
       "    <tr>\n",
       "      <th>2</th>\n",
       "      <td>2019-10-01 00:02:50+00:00</td>\n",
       "      <td>view</td>\n",
       "      <td>5877456</td>\n",
       "      <td>1487580006300255120</td>\n",
       "      <td>122.22</td>\n",
       "      <td>527418424</td>\n",
       "      <td>86e77869-afbc-4dff-9aa2-6b7dd8c90770</td>\n",
       "    </tr>\n",
       "    <tr>\n",
       "      <th>3</th>\n",
       "      <td>2019-10-01 00:03:41+00:00</td>\n",
       "      <td>view</td>\n",
       "      <td>5649270</td>\n",
       "      <td>1487580013749338323</td>\n",
       "      <td>6.19</td>\n",
       "      <td>555448072</td>\n",
       "      <td>b5f72ceb-0730-44de-a932-d16db62390df</td>\n",
       "    </tr>\n",
       "    <tr>\n",
       "      <th>4</th>\n",
       "      <td>2019-10-01 00:03:44+00:00</td>\n",
       "      <td>view</td>\n",
       "      <td>18082</td>\n",
       "      <td>1487580005411062629</td>\n",
       "      <td>16.03</td>\n",
       "      <td>552006247</td>\n",
       "      <td>2d8f304b-de45-4e59-8f40-50c603843fe5</td>\n",
       "    </tr>\n",
       "    <tr>\n",
       "      <th>...</th>\n",
       "      <td>...</td>\n",
       "      <td>...</td>\n",
       "      <td>...</td>\n",
       "      <td>...</td>\n",
       "      <td>...</td>\n",
       "      <td>...</td>\n",
       "      <td>...</td>\n",
       "    </tr>\n",
       "    <tr>\n",
       "      <th>2095071</th>\n",
       "      <td>2020-02-29 23:58:49+00:00</td>\n",
       "      <td>cart</td>\n",
       "      <td>5815662</td>\n",
       "      <td>1487580006317032337</td>\n",
       "      <td>0.92</td>\n",
       "      <td>147995998</td>\n",
       "      <td>5ff96629-3627-493e-a25b-5a871ec78c90</td>\n",
       "    </tr>\n",
       "    <tr>\n",
       "      <th>2095072</th>\n",
       "      <td>2020-02-29 23:58:57+00:00</td>\n",
       "      <td>view</td>\n",
       "      <td>5815665</td>\n",
       "      <td>1487580006317032337</td>\n",
       "      <td>0.59</td>\n",
       "      <td>147995998</td>\n",
       "      <td>5ff96629-3627-493e-a25b-5a871ec78c90</td>\n",
       "    </tr>\n",
       "    <tr>\n",
       "      <th>2095073</th>\n",
       "      <td>2020-02-29 23:59:05+00:00</td>\n",
       "      <td>cart</td>\n",
       "      <td>5815665</td>\n",
       "      <td>1487580006317032337</td>\n",
       "      <td>0.59</td>\n",
       "      <td>147995998</td>\n",
       "      <td>5ff96629-3627-493e-a25b-5a871ec78c90</td>\n",
       "    </tr>\n",
       "    <tr>\n",
       "      <th>2095074</th>\n",
       "      <td>2020-02-29 23:59:28+00:00</td>\n",
       "      <td>view</td>\n",
       "      <td>5817692</td>\n",
       "      <td>1487580010872045658</td>\n",
       "      <td>0.79</td>\n",
       "      <td>619841242</td>\n",
       "      <td>18af673b-7fb9-4202-a66d-5c855bc0fd2d</td>\n",
       "    </tr>\n",
       "    <tr>\n",
       "      <th>2095075</th>\n",
       "      <td>2020-02-29 23:59:54+00:00</td>\n",
       "      <td>view</td>\n",
       "      <td>5716351</td>\n",
       "      <td>1487580010872045658</td>\n",
       "      <td>0.79</td>\n",
       "      <td>619841242</td>\n",
       "      <td>18af673b-7fb9-4202-a66d-5c855bc0fd2d</td>\n",
       "    </tr>\n",
       "  </tbody>\n",
       "</table>\n",
       "<p>2094570 rows × 7 columns</p>\n",
       "</div>"
      ],
      "text/plain": [
       "                       event_time event_type  product_id          category_id  \\\n",
       "0       2019-10-01 00:01:46+00:00       view     5843665  1487580005092295511   \n",
       "1       2019-10-01 00:01:55+00:00       cart     5868461  1487580013069861041   \n",
       "2       2019-10-01 00:02:50+00:00       view     5877456  1487580006300255120   \n",
       "3       2019-10-01 00:03:41+00:00       view     5649270  1487580013749338323   \n",
       "4       2019-10-01 00:03:44+00:00       view       18082  1487580005411062629   \n",
       "...                           ...        ...         ...                  ...   \n",
       "2095071 2020-02-29 23:58:49+00:00       cart     5815662  1487580006317032337   \n",
       "2095072 2020-02-29 23:58:57+00:00       view     5815665  1487580006317032337   \n",
       "2095073 2020-02-29 23:59:05+00:00       cart     5815665  1487580006317032337   \n",
       "2095074 2020-02-29 23:59:28+00:00       view     5817692  1487580010872045658   \n",
       "2095075 2020-02-29 23:59:54+00:00       view     5716351  1487580010872045658   \n",
       "\n",
       "          price    user_id                          user_session  \n",
       "0          9.44  462033176  a18e0999-61a1-4218-8f8f-61ec1d375361  \n",
       "1          3.57  514753614  e2fecb2d-22d0-df2c-c661-15da44b3ccf1  \n",
       "2        122.22  527418424  86e77869-afbc-4dff-9aa2-6b7dd8c90770  \n",
       "3          6.19  555448072  b5f72ceb-0730-44de-a932-d16db62390df  \n",
       "4         16.03  552006247  2d8f304b-de45-4e59-8f40-50c603843fe5  \n",
       "...         ...        ...                                   ...  \n",
       "2095071    0.92  147995998  5ff96629-3627-493e-a25b-5a871ec78c90  \n",
       "2095072    0.59  147995998  5ff96629-3627-493e-a25b-5a871ec78c90  \n",
       "2095073    0.59  147995998  5ff96629-3627-493e-a25b-5a871ec78c90  \n",
       "2095074    0.79  619841242  18af673b-7fb9-4202-a66d-5c855bc0fd2d  \n",
       "2095075    0.79  619841242  18af673b-7fb9-4202-a66d-5c855bc0fd2d  \n",
       "\n",
       "[2094570 rows x 7 columns]"
      ]
     },
     "execution_count": 4,
     "metadata": {},
     "output_type": "execute_result"
    }
   ],
   "source": [
    "# I remove two variables and the null values from the user_session\n",
    "\n",
    "df_ecom = df_ecom.drop(columns=[\"category_code\", \"brand\"]).dropna()\n",
    "\n",
    "df_ecom"
   ]
  },
  {
   "cell_type": "markdown",
   "metadata": {},
   "source": [
    "### Analysis of Numerical variables "
   ]
  },
  {
   "cell_type": "code",
   "execution_count": 7,
   "metadata": {},
   "outputs": [
    {
     "data": {
      "text/plain": [
       "count    2094570.00\n",
       "mean           8.42\n",
       "std           19.14\n",
       "min          -47.62\n",
       "25%            2.05\n",
       "50%            4.00\n",
       "75%            6.86\n",
       "max          327.78\n",
       "Name: price, dtype: float64"
      ]
     },
     "execution_count": 7,
     "metadata": {},
     "output_type": "execute_result"
    }
   ],
   "source": [
    "df_ecom['price'].describe().round(2)"
   ]
  },
  {
   "cell_type": "code",
   "execution_count": 11,
   "metadata": {},
   "outputs": [
    {
     "data": {
      "text/plain": [
       "20544"
      ]
     },
     "execution_count": 11,
     "metadata": {},
     "output_type": "execute_result"
    }
   ],
   "source": [
    "# Let's see how many prices are zero or negative\n",
    "\n",
    "df_ecom[df_ecom['price'] <= 0].shape[0]"
   ]
  },
  {
   "cell_type": "code",
   "execution_count": 14,
   "metadata": {},
   "outputs": [
    {
     "data": {
      "text/plain": [
       "array([5892052, 5889621, 5889622, ..., 5824841, 5826413, 5832437],\n",
       "      dtype=int64)"
      ]
     },
     "execution_count": 14,
     "metadata": {},
     "output_type": "execute_result"
    }
   ],
   "source": [
    "# Are these rows associated with a specific product?\n",
    "\n",
    "df_ecom[df_ecom['price'] <= 0]['product_id'].unique()\n"
   ]
  },
  {
   "cell_type": "code",
   "execution_count": 16,
   "metadata": {},
   "outputs": [],
   "source": [
    "# I remove  all the rows with zero or negative prices\n",
    "\n",
    "df_ecom = df_ecom[df_ecom['price'] > 0]"
   ]
  },
  {
   "cell_type": "markdown",
   "metadata": {},
   "source": [
    "### Analysis of Categorical variables"
   ]
  },
  {
   "cell_type": "code",
   "execution_count": 17,
   "metadata": {},
   "outputs": [
    {
     "data": {
      "text/plain": [
       "event_type\n",
       "view                961558\n",
       "cart                574547\n",
       "remove_from_cart    410357\n",
       "purchase            127564\n",
       "Name: count, dtype: int64"
      ]
     },
     "execution_count": 17,
     "metadata": {},
     "output_type": "execute_result"
    }
   ],
   "source": [
    "df_ecom.event_type.value_counts()"
   ]
  },
  {
   "cell_type": "code",
   "execution_count": 19,
   "metadata": {},
   "outputs": [
    {
     "data": {
      "text/plain": [
       "508"
      ]
     },
     "execution_count": 19,
     "metadata": {},
     "output_type": "execute_result"
    }
   ],
   "source": [
    "# How many unique categories are there?\n",
    "\n",
    "df_ecom.category_id.nunique()"
   ]
  },
  {
   "cell_type": "code",
   "execution_count": 20,
   "metadata": {},
   "outputs": [
    {
     "data": {
      "text/plain": [
       "45327"
      ]
     },
     "execution_count": 20,
     "metadata": {},
     "output_type": "execute_result"
    }
   ],
   "source": [
    "# How many unique products are there?\n",
    "\n",
    "df_ecom.product_id.nunique()"
   ]
  },
  {
   "cell_type": "markdown",
   "metadata": {},
   "source": [
    "### Index"
   ]
  },
  {
   "cell_type": "code",
   "execution_count": null,
   "metadata": {},
   "outputs": [],
   "source": [
    "# Let's set 'event_time' as the index\n",
    "\n",
    "df_ecom.set_index('event_time', inplace=True)"
   ]
  },
  {
   "cell_type": "code",
   "execution_count": 23,
   "metadata": {},
   "outputs": [
    {
     "data": {
      "text/html": [
       "<div>\n",
       "<style scoped>\n",
       "    .dataframe tbody tr th:only-of-type {\n",
       "        vertical-align: middle;\n",
       "    }\n",
       "\n",
       "    .dataframe tbody tr th {\n",
       "        vertical-align: top;\n",
       "    }\n",
       "\n",
       "    .dataframe thead th {\n",
       "        text-align: right;\n",
       "    }\n",
       "</style>\n",
       "<table border=\"1\" class=\"dataframe\">\n",
       "  <thead>\n",
       "    <tr style=\"text-align: right;\">\n",
       "      <th></th>\n",
       "      <th>event_type</th>\n",
       "      <th>product_id</th>\n",
       "      <th>category_id</th>\n",
       "      <th>price</th>\n",
       "      <th>user_id</th>\n",
       "      <th>user_session</th>\n",
       "    </tr>\n",
       "    <tr>\n",
       "      <th>event_time</th>\n",
       "      <th></th>\n",
       "      <th></th>\n",
       "      <th></th>\n",
       "      <th></th>\n",
       "      <th></th>\n",
       "      <th></th>\n",
       "    </tr>\n",
       "  </thead>\n",
       "  <tbody>\n",
       "    <tr>\n",
       "      <th>2019-10-01 00:01:46+00:00</th>\n",
       "      <td>view</td>\n",
       "      <td>5843665</td>\n",
       "      <td>1487580005092295511</td>\n",
       "      <td>9.44</td>\n",
       "      <td>462033176</td>\n",
       "      <td>a18e0999-61a1-4218-8f8f-61ec1d375361</td>\n",
       "    </tr>\n",
       "    <tr>\n",
       "      <th>2019-10-01 00:01:55+00:00</th>\n",
       "      <td>cart</td>\n",
       "      <td>5868461</td>\n",
       "      <td>1487580013069861041</td>\n",
       "      <td>3.57</td>\n",
       "      <td>514753614</td>\n",
       "      <td>e2fecb2d-22d0-df2c-c661-15da44b3ccf1</td>\n",
       "    </tr>\n",
       "  </tbody>\n",
       "</table>\n",
       "</div>"
      ],
      "text/plain": [
       "                          event_type  product_id          category_id  price  \\\n",
       "event_time                                                                     \n",
       "2019-10-01 00:01:46+00:00       view     5843665  1487580005092295511   9.44   \n",
       "2019-10-01 00:01:55+00:00       cart     5868461  1487580013069861041   3.57   \n",
       "\n",
       "                             user_id                          user_session  \n",
       "event_time                                                                  \n",
       "2019-10-01 00:01:46+00:00  462033176  a18e0999-61a1-4218-8f8f-61ec1d375361  \n",
       "2019-10-01 00:01:55+00:00  514753614  e2fecb2d-22d0-df2c-c661-15da44b3ccf1  "
      ]
     },
     "execution_count": 23,
     "metadata": {},
     "output_type": "execute_result"
    }
   ],
   "source": [
    "df_ecom.head(2)"
   ]
  },
  {
   "cell_type": "markdown",
   "metadata": {},
   "source": [
    "# **<font color = '#3498eb'>DATA TRANSFORMATION</font>**"
   ]
  },
  {
   "cell_type": "markdown",
   "metadata": {},
   "source": [
    "To conduct a more thorough analysis, I'll break down the components of event_time, include local holidays in the EEUU and incorporate days of special commercial interest."
   ]
  },
  {
   "cell_type": "markdown",
   "metadata": {},
   "source": [
    "### Components of event_time"
   ]
  },
  {
   "cell_type": "code",
   "execution_count": 2,
   "metadata": {},
   "outputs": [],
   "source": [
    "def date_components(dataframe):\n",
    "    date = dataframe.index.date\n",
    "    year = dataframe.index.year\n",
    "    month = dataframe.index.month\n",
    "    day = dataframe.index.day\n",
    "    hour = dataframe.index.hour\n",
    "    minute = dataframe.index.minute\n",
    "    second = dataframe.index.second\n",
    "    \n",
    "    return(pd.DataFrame({'date':date, 'year':year,'month':month, 'day':day, 'hour':hour, 'minute':minute, 'second':second}))"
   ]
  },
  {
   "cell_type": "code",
   "execution_count": 12,
   "metadata": {},
   "outputs": [],
   "source": [
    "df_ecom = pd.concat([df_ecom.reset_index(), date_components(df_ecom)], axis=1).set_index('event_time')"
   ]
  },
  {
   "cell_type": "code",
   "execution_count": 29,
   "metadata": {},
   "outputs": [
    {
     "data": {
      "text/html": [
       "<div>\n",
       "<style scoped>\n",
       "    .dataframe tbody tr th:only-of-type {\n",
       "        vertical-align: middle;\n",
       "    }\n",
       "\n",
       "    .dataframe tbody tr th {\n",
       "        vertical-align: top;\n",
       "    }\n",
       "\n",
       "    .dataframe thead th {\n",
       "        text-align: right;\n",
       "    }\n",
       "</style>\n",
       "<table border=\"1\" class=\"dataframe\">\n",
       "  <thead>\n",
       "    <tr style=\"text-align: right;\">\n",
       "      <th></th>\n",
       "      <th>event_type</th>\n",
       "      <th>product_id</th>\n",
       "      <th>category_id</th>\n",
       "      <th>price</th>\n",
       "      <th>user_id</th>\n",
       "      <th>user_session</th>\n",
       "      <th>date</th>\n",
       "      <th>year</th>\n",
       "      <th>month</th>\n",
       "      <th>day</th>\n",
       "      <th>hour</th>\n",
       "      <th>minute</th>\n",
       "      <th>second</th>\n",
       "      <th>date</th>\n",
       "      <th>year</th>\n",
       "      <th>month</th>\n",
       "      <th>day</th>\n",
       "      <th>hour</th>\n",
       "      <th>minute</th>\n",
       "      <th>second</th>\n",
       "    </tr>\n",
       "    <tr>\n",
       "      <th>event_time</th>\n",
       "      <th></th>\n",
       "      <th></th>\n",
       "      <th></th>\n",
       "      <th></th>\n",
       "      <th></th>\n",
       "      <th></th>\n",
       "      <th></th>\n",
       "      <th></th>\n",
       "      <th></th>\n",
       "      <th></th>\n",
       "      <th></th>\n",
       "      <th></th>\n",
       "      <th></th>\n",
       "      <th></th>\n",
       "      <th></th>\n",
       "      <th></th>\n",
       "      <th></th>\n",
       "      <th></th>\n",
       "      <th></th>\n",
       "      <th></th>\n",
       "    </tr>\n",
       "  </thead>\n",
       "  <tbody>\n",
       "    <tr>\n",
       "      <th>2019-10-01 00:01:46+00:00</th>\n",
       "      <td>view</td>\n",
       "      <td>5843665</td>\n",
       "      <td>1487580005092295511</td>\n",
       "      <td>9.44</td>\n",
       "      <td>462033176</td>\n",
       "      <td>a18e0999-61a1-4218-8f8f-61ec1d375361</td>\n",
       "      <td>2019-10-01</td>\n",
       "      <td>2019</td>\n",
       "      <td>10</td>\n",
       "      <td>1</td>\n",
       "      <td>0</td>\n",
       "      <td>1</td>\n",
       "      <td>46</td>\n",
       "      <td>2019-10-01</td>\n",
       "      <td>2019</td>\n",
       "      <td>10</td>\n",
       "      <td>1</td>\n",
       "      <td>0</td>\n",
       "      <td>1</td>\n",
       "      <td>46</td>\n",
       "    </tr>\n",
       "    <tr>\n",
       "      <th>2019-10-01 00:01:55+00:00</th>\n",
       "      <td>cart</td>\n",
       "      <td>5868461</td>\n",
       "      <td>1487580013069861041</td>\n",
       "      <td>3.57</td>\n",
       "      <td>514753614</td>\n",
       "      <td>e2fecb2d-22d0-df2c-c661-15da44b3ccf1</td>\n",
       "      <td>2019-10-01</td>\n",
       "      <td>2019</td>\n",
       "      <td>10</td>\n",
       "      <td>1</td>\n",
       "      <td>0</td>\n",
       "      <td>1</td>\n",
       "      <td>55</td>\n",
       "      <td>2019-10-01</td>\n",
       "      <td>2019</td>\n",
       "      <td>10</td>\n",
       "      <td>1</td>\n",
       "      <td>0</td>\n",
       "      <td>1</td>\n",
       "      <td>55</td>\n",
       "    </tr>\n",
       "  </tbody>\n",
       "</table>\n",
       "</div>"
      ],
      "text/plain": [
       "                          event_type  product_id          category_id  price  \\\n",
       "event_time                                                                     \n",
       "2019-10-01 00:01:46+00:00       view     5843665  1487580005092295511   9.44   \n",
       "2019-10-01 00:01:55+00:00       cart     5868461  1487580013069861041   3.57   \n",
       "\n",
       "                             user_id                          user_session  \\\n",
       "event_time                                                                   \n",
       "2019-10-01 00:01:46+00:00  462033176  a18e0999-61a1-4218-8f8f-61ec1d375361   \n",
       "2019-10-01 00:01:55+00:00  514753614  e2fecb2d-22d0-df2c-c661-15da44b3ccf1   \n",
       "\n",
       "                                 date  year  month  day  hour  minute  second  \\\n",
       "event_time                                                                      \n",
       "2019-10-01 00:01:46+00:00  2019-10-01  2019     10    1     0       1      46   \n",
       "2019-10-01 00:01:55+00:00  2019-10-01  2019     10    1     0       1      55   \n",
       "\n",
       "                                 date  year  month  day  hour  minute  second  \n",
       "event_time                                                                     \n",
       "2019-10-01 00:01:46+00:00  2019-10-01  2019     10    1     0       1      46  \n",
       "2019-10-01 00:01:55+00:00  2019-10-01  2019     10    1     0       1      55  "
      ]
     },
     "execution_count": 29,
     "metadata": {},
     "output_type": "execute_result"
    }
   ],
   "source": [
    "df_ecom.head(2)"
   ]
  },
  {
   "cell_type": "markdown",
   "metadata": {},
   "source": [
    "### Local holidays in EEUU"
   ]
  },
  {
   "cell_type": "code",
   "execution_count": null,
   "metadata": {},
   "outputs": [],
   "source": [
    "%conda install -c conda-forge holidays -y"
   ]
  },
  {
   "cell_type": "code",
   "execution_count": 10,
   "metadata": {},
   "outputs": [],
   "source": [
    "import holidays\n",
    "\n",
    "holidays_eeuu = holidays.US(years=2020)"
   ]
  },
  {
   "cell_type": "code",
   "execution_count": null,
   "metadata": {},
   "outputs": [],
   "source": [
    "# I'll add a variable that will indicate whether the record falls on a holiday or not\n",
    "\n",
    "df_ecom['holiday'] = df_ecom.date.apply(lambda record: 1 if (record in holidays_eeuu) else 0)"
   ]
  },
  {
   "cell_type": "code",
   "execution_count": 16,
   "metadata": {},
   "outputs": [
    {
     "data": {
      "text/plain": [
       "date\n",
       "2019-11-28    22560\n",
       "2020-02-17    15911\n",
       "2020-01-20    15328\n",
       "2019-10-14    13662\n",
       "2019-11-11    13520\n",
       "2019-12-25    11046\n",
       "2020-01-01     7644\n",
       "Name: count, dtype: int64"
      ]
     },
     "execution_count": 16,
     "metadata": {},
     "output_type": "execute_result"
    }
   ],
   "source": [
    "df_ecom[df_ecom.holiday == 1].date.value_counts()"
   ]
  },
  {
   "cell_type": "markdown",
   "metadata": {},
   "source": [
    "### Days of special commercial interest"
   ]
  },
  {
   "cell_type": "markdown",
   "metadata": {},
   "source": [
    "Since this is a cosmetics e-commerce, I will mark the records for dates that are especially significant for the target audience. My hypothesis is that around these dates we should see an increase in sales."
   ]
  },
  {
   "cell_type": "code",
   "execution_count": 21,
   "metadata": {},
   "outputs": [],
   "source": [
    "df_ecom['black_friday'] = 0\n",
    "df_ecom['2019-11-29','black_friday'] = 1\n",
    "\n",
    "df_ecom['valentines_day'] = 0\n",
    "df_ecom.loc['2019-02-14', 'valentines_day'] = 1\n",
    "df_ecom.loc['2020-02-14', 'valentines_day'] = 1\n",
    "\n",
    "df_ecom['mothers_day'] = 0\n",
    "df_ecom.loc['2019-05-12', 'mothers_day'] = 1\n",
    "df_ecom.loc['2020-05-10', 'mothers_day'] = 1\n",
    "\n",
    "df_ecom['cyber_monday'] = 0\n",
    "df_ecom.loc['2019-12-02', 'cyber_monday'] = 1\n",
    "df_ecom.loc['2020-11-30', 'cyber_monday'] = 1\n",
    "\n",
    "df_ecom['womens_day'] = 0\n",
    "df_ecom.loc['2019-03-08', 'womens_day'] = 1\n",
    "df_ecom.loc['2020-03-08', 'womens_day'] = 1\n",
    "\n",
    "df_ecom['halloween'] = 0\n",
    "df_ecom.loc['2019-10-31', 'halloween'] = 1\n",
    "df_ecom.loc['2020-10-31', 'halloween'] = 1\n",
    "\n",
    "df_ecom['prime_day'] = 0\n",
    "df_ecom.loc['2019-07-15', 'prime_day'] = 1\n",
    "df_ecom.loc['2020-10-13', 'prime_day'] = 1\n",
    "\n",
    "df_ecom['christmas'] = 0\n",
    "df_ecom.loc['2019-12-25', 'christmas'] = 1\n",
    "df_ecom.loc['2020-12-25', 'christmas'] = 1\n",
    "\n",
    "df_ecom['new_years_eve'] = 0\n",
    "df_ecom.loc['2019-12-31', 'new_years_eve'] = 1\n",
    "df_ecom.loc['2020-12-31', 'new_years_eve'] = 1"
   ]
  },
  {
   "cell_type": "code",
   "execution_count": 19,
   "metadata": {},
   "outputs": [
    {
     "data": {
      "text/html": [
       "<div>\n",
       "<style scoped>\n",
       "    .dataframe tbody tr th:only-of-type {\n",
       "        vertical-align: middle;\n",
       "    }\n",
       "\n",
       "    .dataframe tbody tr th {\n",
       "        vertical-align: top;\n",
       "    }\n",
       "\n",
       "    .dataframe thead th {\n",
       "        text-align: right;\n",
       "    }\n",
       "</style>\n",
       "<table border=\"1\" class=\"dataframe\">\n",
       "  <thead>\n",
       "    <tr style=\"text-align: right;\">\n",
       "      <th></th>\n",
       "      <th>event_type</th>\n",
       "      <th>product_id</th>\n",
       "      <th>category_id</th>\n",
       "      <th>price</th>\n",
       "      <th>user_id</th>\n",
       "      <th>user_session</th>\n",
       "      <th>date</th>\n",
       "      <th>year</th>\n",
       "      <th>month</th>\n",
       "      <th>day</th>\n",
       "      <th>...</th>\n",
       "      <th>second</th>\n",
       "      <th>holiday</th>\n",
       "      <th>valentines_day</th>\n",
       "      <th>mothers_day</th>\n",
       "      <th>cyber_monday</th>\n",
       "      <th>womens_day</th>\n",
       "      <th>halloween</th>\n",
       "      <th>prime_day</th>\n",
       "      <th>christmas</th>\n",
       "      <th>new_years_eve</th>\n",
       "    </tr>\n",
       "    <tr>\n",
       "      <th>event_time</th>\n",
       "      <th></th>\n",
       "      <th></th>\n",
       "      <th></th>\n",
       "      <th></th>\n",
       "      <th></th>\n",
       "      <th></th>\n",
       "      <th></th>\n",
       "      <th></th>\n",
       "      <th></th>\n",
       "      <th></th>\n",
       "      <th></th>\n",
       "      <th></th>\n",
       "      <th></th>\n",
       "      <th></th>\n",
       "      <th></th>\n",
       "      <th></th>\n",
       "      <th></th>\n",
       "      <th></th>\n",
       "      <th></th>\n",
       "      <th></th>\n",
       "      <th></th>\n",
       "    </tr>\n",
       "  </thead>\n",
       "  <tbody>\n",
       "    <tr>\n",
       "      <th>2019-10-01 00:01:46+00:00</th>\n",
       "      <td>view</td>\n",
       "      <td>5843665.0</td>\n",
       "      <td>1.487580e+18</td>\n",
       "      <td>9.44</td>\n",
       "      <td>462033176.0</td>\n",
       "      <td>a18e0999-61a1-4218-8f8f-61ec1d375361</td>\n",
       "      <td>2019-10-01</td>\n",
       "      <td>2019.0</td>\n",
       "      <td>10.0</td>\n",
       "      <td>1.0</td>\n",
       "      <td>...</td>\n",
       "      <td>46.0</td>\n",
       "      <td>0.0</td>\n",
       "      <td>0.0</td>\n",
       "      <td>0</td>\n",
       "      <td>0</td>\n",
       "      <td>0</td>\n",
       "      <td>0</td>\n",
       "      <td>0</td>\n",
       "      <td>0</td>\n",
       "      <td>0</td>\n",
       "    </tr>\n",
       "    <tr>\n",
       "      <th>2019-10-01 00:01:55+00:00</th>\n",
       "      <td>cart</td>\n",
       "      <td>5868461.0</td>\n",
       "      <td>1.487580e+18</td>\n",
       "      <td>3.57</td>\n",
       "      <td>514753614.0</td>\n",
       "      <td>e2fecb2d-22d0-df2c-c661-15da44b3ccf1</td>\n",
       "      <td>2019-10-01</td>\n",
       "      <td>2019.0</td>\n",
       "      <td>10.0</td>\n",
       "      <td>1.0</td>\n",
       "      <td>...</td>\n",
       "      <td>55.0</td>\n",
       "      <td>0.0</td>\n",
       "      <td>0.0</td>\n",
       "      <td>0</td>\n",
       "      <td>0</td>\n",
       "      <td>0</td>\n",
       "      <td>0</td>\n",
       "      <td>0</td>\n",
       "      <td>0</td>\n",
       "      <td>0</td>\n",
       "    </tr>\n",
       "  </tbody>\n",
       "</table>\n",
       "<p>2 rows × 22 columns</p>\n",
       "</div>"
      ],
      "text/plain": [
       "                          event_type  product_id   category_id  price  \\\n",
       "event_time                                                              \n",
       "2019-10-01 00:01:46+00:00       view   5843665.0  1.487580e+18   9.44   \n",
       "2019-10-01 00:01:55+00:00       cart   5868461.0  1.487580e+18   3.57   \n",
       "\n",
       "                               user_id                          user_session  \\\n",
       "event_time                                                                     \n",
       "2019-10-01 00:01:46+00:00  462033176.0  a18e0999-61a1-4218-8f8f-61ec1d375361   \n",
       "2019-10-01 00:01:55+00:00  514753614.0  e2fecb2d-22d0-df2c-c661-15da44b3ccf1   \n",
       "\n",
       "                                 date    year  month  day  ...  second  \\\n",
       "event_time                                                 ...           \n",
       "2019-10-01 00:01:46+00:00  2019-10-01  2019.0   10.0  1.0  ...    46.0   \n",
       "2019-10-01 00:01:55+00:00  2019-10-01  2019.0   10.0  1.0  ...    55.0   \n",
       "\n",
       "                           holiday  valentines_day  mothers_day  cyber_monday  \\\n",
       "event_time                                                                      \n",
       "2019-10-01 00:01:46+00:00      0.0             0.0            0             0   \n",
       "2019-10-01 00:01:55+00:00      0.0             0.0            0             0   \n",
       "\n",
       "                           womens_day  halloween  prime_day  christmas  \\\n",
       "event_time                                                               \n",
       "2019-10-01 00:01:46+00:00           0          0          0          0   \n",
       "2019-10-01 00:01:55+00:00           0          0          0          0   \n",
       "\n",
       "                           new_years_eve  \n",
       "event_time                                \n",
       "2019-10-01 00:01:46+00:00              0  \n",
       "2019-10-01 00:01:55+00:00              0  \n",
       "\n",
       "[2 rows x 22 columns]"
      ]
     },
     "execution_count": 19,
     "metadata": {},
     "output_type": "execute_result"
    }
   ],
   "source": [
    "df_ecom.head(2)"
   ]
  },
  {
   "cell_type": "code",
   "execution_count": 23,
   "metadata": {},
   "outputs": [
    {
     "data": {
      "text/plain": [
       "valentines_day\n",
       "0    2061781\n",
       "1      12246\n",
       "Name: count, dtype: int64"
      ]
     },
     "execution_count": 23,
     "metadata": {},
     "output_type": "execute_result"
    }
   ],
   "source": [
    "df_ecom['valentines_day'].value_counts()"
   ]
  },
  {
   "cell_type": "markdown",
   "metadata": {},
   "source": [
    "# **<font color = '#3498eb'>ANALYSIS AND INSIGHTS</font>**"
   ]
  },
  {
   "cell_type": "markdown",
   "metadata": {},
   "source": [
    "## UNDERSTANDING EVENTS"
   ]
  },
  {
   "cell_type": "markdown",
   "metadata": {},
   "source": [
    "### How does the customer journey work?"
   ]
  },
  {
   "cell_type": "markdown",
   "metadata": {},
   "source": [
    "### On average, how many products are viewed, added to the cart, abandoned and purchased in each session?"
   ]
  },
  {
   "cell_type": "markdown",
   "metadata": {},
   "source": [
    "### Are there differences in events by the hour?"
   ]
  },
  {
   "cell_type": "markdown",
   "metadata": {},
   "source": [
    "### On average, what is the monthly revenue?"
   ]
  },
  {
   "cell_type": "markdown",
   "metadata": {},
   "source": [
    "### In the latest month, what is the trend?"
   ]
  },
  {
   "cell_type": "markdown",
   "metadata": {},
   "source": [
    "### What are the days and hours when most purchases are made?"
   ]
  },
  {
   "cell_type": "markdown",
   "metadata": {},
   "source": [
    "## UNDERSTANDING CLIENTS"
   ]
  },
  {
   "cell_type": "markdown",
   "metadata": {},
   "source": [
    "### Introduccion"
   ]
  },
  {
   "cell_type": "markdown",
   "metadata": {},
   "source": [
    "### How are customers distributed based on their spending?"
   ]
  },
  {
   "cell_type": "markdown",
   "metadata": {},
   "source": [
    "### How are customers distributed based on the number of purchases?"
   ]
  },
  {
   "cell_type": "markdown",
   "metadata": {},
   "source": [
    "### On average, how many products does a customer buy in a single purchase?"
   ]
  },
  {
   "cell_type": "markdown",
   "metadata": {},
   "source": [
    "### Which customers generated the most revenue?"
   ]
  },
  {
   "cell_type": "markdown",
   "metadata": {},
   "source": [
    "### What is the LTV (Lifetime Value) of customers?"
   ]
  },
  {
   "cell_type": "markdown",
   "metadata": {},
   "source": [
    "### Which customers are most valuable for targeting in future campaigns?"
   ]
  },
  {
   "cell_type": "markdown",
   "metadata": {},
   "source": [
    "## UNDERSTANDING PRODUCTS?"
   ]
  },
  {
   "cell_type": "markdown",
   "metadata": {},
   "source": [
    "### Introduccion"
   ]
  },
  {
   "cell_type": "markdown",
   "metadata": {},
   "source": [
    "### What are the most purchased products?"
   ]
  },
  {
   "cell_type": "markdown",
   "metadata": {},
   "source": [
    "### Are there products that haven't been purchased and can be removed from the catalog?"
   ]
  },
  {
   "cell_type": "markdown",
   "metadata": {},
   "source": [
    "### What is the correlation between the price of a product and its sales volume?"
   ]
  },
  {
   "cell_type": "markdown",
   "metadata": {},
   "source": [
    "### Are there products that are more frequently removed from the cart?"
   ]
  },
  {
   "cell_type": "markdown",
   "metadata": {},
   "source": [
    "### What are the most viewed products?"
   ]
  },
  {
   "cell_type": "markdown",
   "metadata": {},
   "source": [
    "### Are there products that are viewed frequently but not purchased?"
   ]
  },
  {
   "cell_type": "markdown",
   "metadata": {},
   "source": [
    "### Building a product recommendation system"
   ]
  },
  {
   "cell_type": "markdown",
   "metadata": {},
   "source": [
    "# **<font color = '#3498eb'>CONCLUSIONS</font>**"
   ]
  },
  {
   "cell_type": "markdown",
   "metadata": {},
   "source": [
    "# **<font color = 'purple'>I save all the work I did today</font>**"
   ]
  },
  {
   "cell_type": "code",
   "execution_count": 10,
   "metadata": {},
   "outputs": [],
   "source": [
    "# 29/9/2023 14:42\n",
    "df_ecom.to_pickle('F:\\\\GDrive_DATA\\\\DS4B\\\\DS_MASTERY\\\\02_BUSINESS_ANALYTICS\\\\07_CASOS\\\\CASO3_OPTIMIZACIÓN_ECOMMERCE\\\\df_ecomNoindex.pickle')"
   ]
  },
  {
   "cell_type": "code",
   "execution_count": 2,
   "metadata": {},
   "outputs": [
    {
     "data": {
      "text/html": [
       "<div>\n",
       "<style scoped>\n",
       "    .dataframe tbody tr th:only-of-type {\n",
       "        vertical-align: middle;\n",
       "    }\n",
       "\n",
       "    .dataframe tbody tr th {\n",
       "        vertical-align: top;\n",
       "    }\n",
       "\n",
       "    .dataframe thead th {\n",
       "        text-align: right;\n",
       "    }\n",
       "</style>\n",
       "<table border=\"1\" class=\"dataframe\">\n",
       "  <thead>\n",
       "    <tr style=\"text-align: right;\">\n",
       "      <th></th>\n",
       "      <th>event_type</th>\n",
       "      <th>product_id</th>\n",
       "      <th>category_id</th>\n",
       "      <th>price</th>\n",
       "      <th>user_id</th>\n",
       "      <th>user_session</th>\n",
       "      <th>date</th>\n",
       "      <th>year</th>\n",
       "      <th>month</th>\n",
       "      <th>day</th>\n",
       "      <th>...</th>\n",
       "      <th>holiday</th>\n",
       "      <th>valentines_day</th>\n",
       "      <th>mothers_day</th>\n",
       "      <th>cyber_monday</th>\n",
       "      <th>womens_day</th>\n",
       "      <th>halloween</th>\n",
       "      <th>prime_day</th>\n",
       "      <th>christmas</th>\n",
       "      <th>new_years_eve</th>\n",
       "      <th>black_friday</th>\n",
       "    </tr>\n",
       "    <tr>\n",
       "      <th>event_time</th>\n",
       "      <th></th>\n",
       "      <th></th>\n",
       "      <th></th>\n",
       "      <th></th>\n",
       "      <th></th>\n",
       "      <th></th>\n",
       "      <th></th>\n",
       "      <th></th>\n",
       "      <th></th>\n",
       "      <th></th>\n",
       "      <th></th>\n",
       "      <th></th>\n",
       "      <th></th>\n",
       "      <th></th>\n",
       "      <th></th>\n",
       "      <th></th>\n",
       "      <th></th>\n",
       "      <th></th>\n",
       "      <th></th>\n",
       "      <th></th>\n",
       "      <th></th>\n",
       "    </tr>\n",
       "  </thead>\n",
       "  <tbody>\n",
       "    <tr>\n",
       "      <th>2019-10-01 00:01:46+00:00</th>\n",
       "      <td>view</td>\n",
       "      <td>5843665.0</td>\n",
       "      <td>1.487580e+18</td>\n",
       "      <td>9.44</td>\n",
       "      <td>462033176.0</td>\n",
       "      <td>a18e0999-61a1-4218-8f8f-61ec1d375361</td>\n",
       "      <td>2019-10-01</td>\n",
       "      <td>2019.0</td>\n",
       "      <td>10.0</td>\n",
       "      <td>1.0</td>\n",
       "      <td>...</td>\n",
       "      <td>0.0</td>\n",
       "      <td>0</td>\n",
       "      <td>0</td>\n",
       "      <td>0</td>\n",
       "      <td>0</td>\n",
       "      <td>0</td>\n",
       "      <td>0</td>\n",
       "      <td>0</td>\n",
       "      <td>0</td>\n",
       "      <td>0</td>\n",
       "    </tr>\n",
       "    <tr>\n",
       "      <th>2019-10-01 00:01:55+00:00</th>\n",
       "      <td>cart</td>\n",
       "      <td>5868461.0</td>\n",
       "      <td>1.487580e+18</td>\n",
       "      <td>3.57</td>\n",
       "      <td>514753614.0</td>\n",
       "      <td>e2fecb2d-22d0-df2c-c661-15da44b3ccf1</td>\n",
       "      <td>2019-10-01</td>\n",
       "      <td>2019.0</td>\n",
       "      <td>10.0</td>\n",
       "      <td>1.0</td>\n",
       "      <td>...</td>\n",
       "      <td>0.0</td>\n",
       "      <td>0</td>\n",
       "      <td>0</td>\n",
       "      <td>0</td>\n",
       "      <td>0</td>\n",
       "      <td>0</td>\n",
       "      <td>0</td>\n",
       "      <td>0</td>\n",
       "      <td>0</td>\n",
       "      <td>0</td>\n",
       "    </tr>\n",
       "  </tbody>\n",
       "</table>\n",
       "<p>2 rows × 23 columns</p>\n",
       "</div>"
      ],
      "text/plain": [
       "                          event_type  product_id   category_id  price  \\\n",
       "event_time                                                              \n",
       "2019-10-01 00:01:46+00:00       view   5843665.0  1.487580e+18   9.44   \n",
       "2019-10-01 00:01:55+00:00       cart   5868461.0  1.487580e+18   3.57   \n",
       "\n",
       "                               user_id                          user_session  \\\n",
       "event_time                                                                     \n",
       "2019-10-01 00:01:46+00:00  462033176.0  a18e0999-61a1-4218-8f8f-61ec1d375361   \n",
       "2019-10-01 00:01:55+00:00  514753614.0  e2fecb2d-22d0-df2c-c661-15da44b3ccf1   \n",
       "\n",
       "                                 date    year  month  day  ...  holiday  \\\n",
       "event_time                                                 ...            \n",
       "2019-10-01 00:01:46+00:00  2019-10-01  2019.0   10.0  1.0  ...      0.0   \n",
       "2019-10-01 00:01:55+00:00  2019-10-01  2019.0   10.0  1.0  ...      0.0   \n",
       "\n",
       "                           valentines_day  mothers_day  cyber_monday  \\\n",
       "event_time                                                             \n",
       "2019-10-01 00:01:46+00:00               0            0             0   \n",
       "2019-10-01 00:01:55+00:00               0            0             0   \n",
       "\n",
       "                           womens_day  halloween  prime_day  christmas  \\\n",
       "event_time                                                               \n",
       "2019-10-01 00:01:46+00:00           0          0          0          0   \n",
       "2019-10-01 00:01:55+00:00           0          0          0          0   \n",
       "\n",
       "                           new_years_eve  black_friday  \n",
       "event_time                                              \n",
       "2019-10-01 00:01:46+00:00              0             0  \n",
       "2019-10-01 00:01:55+00:00              0             0  \n",
       "\n",
       "[2 rows x 23 columns]"
      ]
     },
     "execution_count": 2,
     "metadata": {},
     "output_type": "execute_result"
    }
   ],
   "source": [
    "df_ecom = pd.read_pickle('F:\\\\GDrive_DATA\\\\DS4B\\\\DS_MASTERY\\\\02_BUSINESS_ANALYTICS\\\\07_CASOS\\\\CASO3_OPTIMIZACIÓN_ECOMMERCE\\\\df_ecomNoindex.pickle')\n",
    "\n",
    "df_ecom.head(2)"
   ]
  }
 ],
 "metadata": {
  "kernelspec": {
   "display_name": "entorno_Ecommerce",
   "language": "python",
   "name": "python3"
  },
  "language_info": {
   "codemirror_mode": {
    "name": "ipython",
    "version": 3
   },
   "file_extension": ".py",
   "mimetype": "text/x-python",
   "name": "python",
   "nbconvert_exporter": "python",
   "pygments_lexer": "ipython3",
   "version": "3.11.0"
  },
  "orig_nbformat": 4
 },
 "nbformat": 4,
 "nbformat_minor": 2
}
