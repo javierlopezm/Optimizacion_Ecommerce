{
 "cells": [
  {
   "cell_type": "markdown",
   "metadata": {},
   "source": [
    "# **<font color = '#3498eb'>OBJETIVES</font>**"
   ]
  },
  {
   "cell_type": "markdown",
   "metadata": {},
   "source": [
    "· This cosmetics e-commerce has experienced flat growth over the past few months and, in general terms, aims to increase the number of conversions and the AOV (Average Order Value).\n",
    "\n",
    "· We want to create an RFM (Recency, Frequency, Monetary Value) segmentation and a recommendation system (Identify which products we want to put in front of every client).\n",
    "\n",
    "· We want to optimize every step of the customer journey (awareness, consideration, purchase, retention, and recommendation).\n",
    "\n",
    "· Optimize the campaigns.\n",
    "\n",
    "· Optimize the product catalog."
   ]
  },
  {
   "cell_type": "markdown",
   "metadata": {},
   "source": [
    "# **<font color = '#3498eb'>SECTOR, COMPANY</font>**"
   ]
  },
  {
   "cell_type": "markdown",
   "metadata": {},
   "source": [
    "# **<font color = '#3498eb'>SOME QUESTIONS TO START THE ANALYSIS</font>**"
   ]
  },
  {
   "cell_type": "markdown",
   "metadata": {},
   "source": [
    "- **Customer Journey**\n",
    "\n",
    "· What is the typical buying process.\n",
    "\n",
    "· In each session, how many products are viewed, added to the cart, abandoned, and purchased.\n",
    "\n",
    "· What has been the trend of these indicators in recent months.\n",
    "\n",
    "- **Clients**\n",
    "\n",
    "· How many products does each customer purchase.\n",
    "\n",
    "· How much does each customer spend.\n",
    "\n",
    "· Are there \"best customers\" that we want to identify and treat differently?\n",
    "\n",
    "· Are customers making repeat purchases in subsequent months?\n",
    "\n",
    "· What is the average LTV of a customer?\n",
    "\n",
    "· Can we create personalized campaigns, taking into account the LTV of the customer?\n",
    "\n",
    "- **Products**\n",
    "\n",
    "· Which products are most frequently purchased?\n",
    "\n",
    "· Are there products that are not being purchased?\n",
    "\n",
    "· Is there a correlation between product price and purchase volume?\n",
    "\n",
    "· Are there products that are viewed but not purchased?\n",
    "\n",
    "· Are there products that are removed from the shopping cart?\n",
    "\n",
    "· Can we make personalized product recommendations for each customer?"
   ]
  },
  {
   "cell_type": "markdown",
   "metadata": {},
   "source": [
    "# **<font color = '#3498eb'>LIBRARIES</font>**"
   ]
  },
  {
   "cell_type": "code",
   "execution_count": 1,
   "metadata": {},
   "outputs": [],
   "source": [
    "import numpy as np\n",
    "import pandas as pd\n",
    "import matplotlib.pyplot as plt\n",
    "%matplotlib inline\n",
    "import seaborn as sns\n",
    "%config IPCompleter.greedy=True"
   ]
  },
  {
   "cell_type": "markdown",
   "metadata": {},
   "source": [
    "# **<font color = '#3498eb'>DATA LOADING AND UNDERSTANDING</font>**"
   ]
  },
  {
   "cell_type": "code",
   "execution_count": 2,
   "metadata": {},
   "outputs": [],
   "source": [
    "conn_sqlite = sa.create_engine(r'sqlite:///F:\\GDrive_DATA\\DS4B\\DS_MASTERY\\02_BUSINESS_ANALYTICS\\07_CASOS\\CASO3_OPTIMIZACIÓN_ECOMMERCE\\ecommerce.db')"
   ]
  },
  {
   "cell_type": "code",
   "execution_count": 4,
   "metadata": {},
   "outputs": [
    {
     "data": {
      "text/plain": [
       "['2019-Dec', '2019-Nov', '2019-Oct', '2020-Feb', '2020-Jan']"
      ]
     },
     "execution_count": 4,
     "metadata": {},
     "output_type": "execute_result"
    }
   ],
   "source": [
    "inspect(conn_sqlite).get_table_names()"
   ]
  },
  {
   "cell_type": "code",
   "execution_count": 3,
   "metadata": {},
   "outputs": [],
   "source": [
    "oct19 = pd.read_sql('2019-Oct', conn_sqlite)\n",
    "nov19 = pd.read_sql('2019-Nov', conn_sqlite)\n",
    "dec19 = pd.read_sql('2019-Dec', conn_sqlite)\n",
    "jan19 = pd.read_sql('2020-Jan', conn_sqlite)\n",
    "feb19 = pd.read_sql('2020-Feb', conn_sqlite)"
   ]
  },
  {
   "cell_type": "code",
   "execution_count": 5,
   "metadata": {},
   "outputs": [
    {
     "data": {
      "text/html": [
       "<div>\n",
       "<style scoped>\n",
       "    .dataframe tbody tr th:only-of-type {\n",
       "        vertical-align: middle;\n",
       "    }\n",
       "\n",
       "    .dataframe tbody tr th {\n",
       "        vertical-align: top;\n",
       "    }\n",
       "\n",
       "    .dataframe thead th {\n",
       "        text-align: right;\n",
       "    }\n",
       "</style>\n",
       "<table border=\"1\" class=\"dataframe\">\n",
       "  <thead>\n",
       "    <tr style=\"text-align: right;\">\n",
       "      <th></th>\n",
       "      <th>index</th>\n",
       "      <th>event_time</th>\n",
       "      <th>event_type</th>\n",
       "      <th>product_id</th>\n",
       "      <th>category_id</th>\n",
       "      <th>category_code</th>\n",
       "      <th>brand</th>\n",
       "      <th>price</th>\n",
       "      <th>user_id</th>\n",
       "      <th>user_session</th>\n",
       "    </tr>\n",
       "  </thead>\n",
       "  <tbody>\n",
       "    <tr>\n",
       "      <th>0</th>\n",
       "      <td>68</td>\n",
       "      <td>2019-10-01 00:01:46 UTC</td>\n",
       "      <td>view</td>\n",
       "      <td>5843665</td>\n",
       "      <td>1487580005092295511</td>\n",
       "      <td>None</td>\n",
       "      <td>f.o.x</td>\n",
       "      <td>9.44</td>\n",
       "      <td>462033176</td>\n",
       "      <td>a18e0999-61a1-4218-8f8f-61ec1d375361</td>\n",
       "    </tr>\n",
       "    <tr>\n",
       "      <th>1</th>\n",
       "      <td>72</td>\n",
       "      <td>2019-10-01 00:01:55 UTC</td>\n",
       "      <td>cart</td>\n",
       "      <td>5868461</td>\n",
       "      <td>1487580013069861041</td>\n",
       "      <td>None</td>\n",
       "      <td>italwax</td>\n",
       "      <td>3.57</td>\n",
       "      <td>514753614</td>\n",
       "      <td>e2fecb2d-22d0-df2c-c661-15da44b3ccf1</td>\n",
       "    </tr>\n",
       "    <tr>\n",
       "      <th>2</th>\n",
       "      <td>95</td>\n",
       "      <td>2019-10-01 00:02:50 UTC</td>\n",
       "      <td>view</td>\n",
       "      <td>5877456</td>\n",
       "      <td>1487580006300255120</td>\n",
       "      <td>None</td>\n",
       "      <td>jessnail</td>\n",
       "      <td>122.22</td>\n",
       "      <td>527418424</td>\n",
       "      <td>86e77869-afbc-4dff-9aa2-6b7dd8c90770</td>\n",
       "    </tr>\n",
       "    <tr>\n",
       "      <th>3</th>\n",
       "      <td>122</td>\n",
       "      <td>2019-10-01 00:03:41 UTC</td>\n",
       "      <td>view</td>\n",
       "      <td>5649270</td>\n",
       "      <td>1487580013749338323</td>\n",
       "      <td>None</td>\n",
       "      <td>concept</td>\n",
       "      <td>6.19</td>\n",
       "      <td>555448072</td>\n",
       "      <td>b5f72ceb-0730-44de-a932-d16db62390df</td>\n",
       "    </tr>\n",
       "    <tr>\n",
       "      <th>4</th>\n",
       "      <td>124</td>\n",
       "      <td>2019-10-01 00:03:44 UTC</td>\n",
       "      <td>view</td>\n",
       "      <td>18082</td>\n",
       "      <td>1487580005411062629</td>\n",
       "      <td>None</td>\n",
       "      <td>cnd</td>\n",
       "      <td>16.03</td>\n",
       "      <td>552006247</td>\n",
       "      <td>2d8f304b-de45-4e59-8f40-50c603843fe5</td>\n",
       "    </tr>\n",
       "    <tr>\n",
       "      <th>...</th>\n",
       "      <td>...</td>\n",
       "      <td>...</td>\n",
       "      <td>...</td>\n",
       "      <td>...</td>\n",
       "      <td>...</td>\n",
       "      <td>...</td>\n",
       "      <td>...</td>\n",
       "      <td>...</td>\n",
       "      <td>...</td>\n",
       "      <td>...</td>\n",
       "    </tr>\n",
       "    <tr>\n",
       "      <th>429785</th>\n",
       "      <td>4156660</td>\n",
       "      <td>2020-02-29 23:58:49 UTC</td>\n",
       "      <td>cart</td>\n",
       "      <td>5815662</td>\n",
       "      <td>1487580006317032337</td>\n",
       "      <td>None</td>\n",
       "      <td>None</td>\n",
       "      <td>0.92</td>\n",
       "      <td>147995998</td>\n",
       "      <td>5ff96629-3627-493e-a25b-5a871ec78c90</td>\n",
       "    </tr>\n",
       "    <tr>\n",
       "      <th>429786</th>\n",
       "      <td>4156663</td>\n",
       "      <td>2020-02-29 23:58:57 UTC</td>\n",
       "      <td>view</td>\n",
       "      <td>5815665</td>\n",
       "      <td>1487580006317032337</td>\n",
       "      <td>None</td>\n",
       "      <td>None</td>\n",
       "      <td>0.59</td>\n",
       "      <td>147995998</td>\n",
       "      <td>5ff96629-3627-493e-a25b-5a871ec78c90</td>\n",
       "    </tr>\n",
       "    <tr>\n",
       "      <th>429787</th>\n",
       "      <td>4156668</td>\n",
       "      <td>2020-02-29 23:59:05 UTC</td>\n",
       "      <td>cart</td>\n",
       "      <td>5815665</td>\n",
       "      <td>1487580006317032337</td>\n",
       "      <td>None</td>\n",
       "      <td>None</td>\n",
       "      <td>0.59</td>\n",
       "      <td>147995998</td>\n",
       "      <td>5ff96629-3627-493e-a25b-5a871ec78c90</td>\n",
       "    </tr>\n",
       "    <tr>\n",
       "      <th>429788</th>\n",
       "      <td>4156675</td>\n",
       "      <td>2020-02-29 23:59:28 UTC</td>\n",
       "      <td>view</td>\n",
       "      <td>5817692</td>\n",
       "      <td>1487580010872045658</td>\n",
       "      <td>None</td>\n",
       "      <td>None</td>\n",
       "      <td>0.79</td>\n",
       "      <td>619841242</td>\n",
       "      <td>18af673b-7fb9-4202-a66d-5c855bc0fd2d</td>\n",
       "    </tr>\n",
       "    <tr>\n",
       "      <th>429789</th>\n",
       "      <td>4156680</td>\n",
       "      <td>2020-02-29 23:59:54 UTC</td>\n",
       "      <td>view</td>\n",
       "      <td>5716351</td>\n",
       "      <td>1487580010872045658</td>\n",
       "      <td>None</td>\n",
       "      <td>irisk</td>\n",
       "      <td>0.79</td>\n",
       "      <td>619841242</td>\n",
       "      <td>18af673b-7fb9-4202-a66d-5c855bc0fd2d</td>\n",
       "    </tr>\n",
       "  </tbody>\n",
       "</table>\n",
       "<p>2095076 rows × 10 columns</p>\n",
       "</div>"
      ],
      "text/plain": [
       "          index               event_time event_type  product_id  \\\n",
       "0            68  2019-10-01 00:01:46 UTC       view     5843665   \n",
       "1            72  2019-10-01 00:01:55 UTC       cart     5868461   \n",
       "2            95  2019-10-01 00:02:50 UTC       view     5877456   \n",
       "3           122  2019-10-01 00:03:41 UTC       view     5649270   \n",
       "4           124  2019-10-01 00:03:44 UTC       view       18082   \n",
       "...         ...                      ...        ...         ...   \n",
       "429785  4156660  2020-02-29 23:58:49 UTC       cart     5815662   \n",
       "429786  4156663  2020-02-29 23:58:57 UTC       view     5815665   \n",
       "429787  4156668  2020-02-29 23:59:05 UTC       cart     5815665   \n",
       "429788  4156675  2020-02-29 23:59:28 UTC       view     5817692   \n",
       "429789  4156680  2020-02-29 23:59:54 UTC       view     5716351   \n",
       "\n",
       "                category_id category_code     brand   price    user_id  \\\n",
       "0       1487580005092295511          None     f.o.x    9.44  462033176   \n",
       "1       1487580013069861041          None   italwax    3.57  514753614   \n",
       "2       1487580006300255120          None  jessnail  122.22  527418424   \n",
       "3       1487580013749338323          None   concept    6.19  555448072   \n",
       "4       1487580005411062629          None       cnd   16.03  552006247   \n",
       "...                     ...           ...       ...     ...        ...   \n",
       "429785  1487580006317032337          None      None    0.92  147995998   \n",
       "429786  1487580006317032337          None      None    0.59  147995998   \n",
       "429787  1487580006317032337          None      None    0.59  147995998   \n",
       "429788  1487580010872045658          None      None    0.79  619841242   \n",
       "429789  1487580010872045658          None     irisk    0.79  619841242   \n",
       "\n",
       "                                user_session  \n",
       "0       a18e0999-61a1-4218-8f8f-61ec1d375361  \n",
       "1       e2fecb2d-22d0-df2c-c661-15da44b3ccf1  \n",
       "2       86e77869-afbc-4dff-9aa2-6b7dd8c90770  \n",
       "3       b5f72ceb-0730-44de-a932-d16db62390df  \n",
       "4       2d8f304b-de45-4e59-8f40-50c603843fe5  \n",
       "...                                      ...  \n",
       "429785  5ff96629-3627-493e-a25b-5a871ec78c90  \n",
       "429786  5ff96629-3627-493e-a25b-5a871ec78c90  \n",
       "429787  5ff96629-3627-493e-a25b-5a871ec78c90  \n",
       "429788  18af673b-7fb9-4202-a66d-5c855bc0fd2d  \n",
       "429789  18af673b-7fb9-4202-a66d-5c855bc0fd2d  \n",
       "\n",
       "[2095076 rows x 10 columns]"
      ]
     },
     "execution_count": 5,
     "metadata": {},
     "output_type": "execute_result"
    }
   ],
   "source": [
    "df_ecom = pd.concat([oct19, nov19, dec19, jan19, feb19], axis=0)\n",
    "\n",
    "df_ecom"
   ]
  },
  {
   "cell_type": "markdown",
   "metadata": {},
   "source": [
    "user_id: is a unique identifier for each user, stored as an int64.\n",
    "\n",
    "user_session: represents the unique session ID for user activities, stored as an object (usually a string).\n",
    "\n",
    "event_type: specifies the type of user interaction (e.g., 'view', 'cart', 'purchase'), stored as an object (usually a string).\n",
    "\n",
    "event_time: captures the timestamp of when the event occurred, stored as an object (could be converted to datetime for time-series analysis).\n",
    "\n",
    "category_id: is an identifier for each product category, stored as an int64.\n",
    "\n",
    "category_code: contains the code or name of the product category, stored as an object (usually a string).\n",
    "\n",
    "brand: indicates the brand name of the product, stored as an object (usually a string).\n",
    "\n",
    "product_id: is a unique identifier for each product, stored as an int64.\n",
    "\n",
    "price: represents the price of the product, stored as a float64."
   ]
  },
  {
   "cell_type": "markdown",
   "metadata": {},
   "source": [
    "# **<font color = '#3498eb'>DATA QUALITY</font>**"
   ]
  },
  {
   "cell_type": "markdown",
   "metadata": {},
   "source": [
    "### Variable analysis"
   ]
  },
  {
   "cell_type": "code",
   "execution_count": null,
   "metadata": {},
   "outputs": [],
   "source": [
    "df_ecom.info()"
   ]
  },
  {
   "cell_type": "code",
   "execution_count": 6,
   "metadata": {},
   "outputs": [],
   "source": [
    "# I delete the index column\n",
    "\n",
    "df_ecom.drop(columns='index', inplace=True)"
   ]
  },
  {
   "cell_type": "code",
   "execution_count": 3,
   "metadata": {},
   "outputs": [],
   "source": [
    "# Convert event_time to datetime\n",
    "\n",
    "df_ecom.event_time = pd.to_datetime(df_ecom.event_time)"
   ]
  },
  {
   "cell_type": "markdown",
   "metadata": {},
   "source": [
    "### Null Management"
   ]
  },
  {
   "cell_type": "code",
   "execution_count": 12,
   "metadata": {},
   "outputs": [
    {
     "data": {
      "text/html": [
       "<div>\n",
       "<style scoped>\n",
       "    .dataframe tbody tr th:only-of-type {\n",
       "        vertical-align: middle;\n",
       "    }\n",
       "\n",
       "    .dataframe tbody tr th {\n",
       "        vertical-align: top;\n",
       "    }\n",
       "\n",
       "    .dataframe thead th {\n",
       "        text-align: right;\n",
       "    }\n",
       "</style>\n",
       "<table border=\"1\" class=\"dataframe\">\n",
       "  <thead>\n",
       "    <tr style=\"text-align: right;\">\n",
       "      <th></th>\n",
       "      <th>Null_Count</th>\n",
       "      <th>Null_Percentage</th>\n",
       "    </tr>\n",
       "  </thead>\n",
       "  <tbody>\n",
       "    <tr>\n",
       "      <th>category_code</th>\n",
       "      <td>2060411</td>\n",
       "      <td>98</td>\n",
       "    </tr>\n",
       "    <tr>\n",
       "      <th>brand</th>\n",
       "      <td>891646</td>\n",
       "      <td>42</td>\n",
       "    </tr>\n",
       "    <tr>\n",
       "      <th>user_session</th>\n",
       "      <td>506</td>\n",
       "      <td>0</td>\n",
       "    </tr>\n",
       "    <tr>\n",
       "      <th>event_time</th>\n",
       "      <td>0</td>\n",
       "      <td>0</td>\n",
       "    </tr>\n",
       "    <tr>\n",
       "      <th>event_type</th>\n",
       "      <td>0</td>\n",
       "      <td>0</td>\n",
       "    </tr>\n",
       "    <tr>\n",
       "      <th>product_id</th>\n",
       "      <td>0</td>\n",
       "      <td>0</td>\n",
       "    </tr>\n",
       "    <tr>\n",
       "      <th>category_id</th>\n",
       "      <td>0</td>\n",
       "      <td>0</td>\n",
       "    </tr>\n",
       "    <tr>\n",
       "      <th>price</th>\n",
       "      <td>0</td>\n",
       "      <td>0</td>\n",
       "    </tr>\n",
       "    <tr>\n",
       "      <th>user_id</th>\n",
       "      <td>0</td>\n",
       "      <td>0</td>\n",
       "    </tr>\n",
       "  </tbody>\n",
       "</table>\n",
       "</div>"
      ],
      "text/plain": [
       "               Null_Count  Null_Percentage\n",
       "category_code     2060411               98\n",
       "brand              891646               42\n",
       "user_session          506                0\n",
       "event_time              0                0\n",
       "event_type              0                0\n",
       "product_id              0                0\n",
       "category_id             0                0\n",
       "price                   0                0\n",
       "user_id                 0                0"
      ]
     },
     "execution_count": 12,
     "metadata": {},
     "output_type": "execute_result"
    }
   ],
   "source": [
    "null_count  = df_ecom.isna().sum().sort_values(ascending=False)\n",
    "null_percentage = (df_ecom.isnull().mean() * 100).sort_values(ascending=False).astype(int)\n",
    "\n",
    "df_nulls = pd.DataFrame({'Null_Count':null_count, 'Null_Percentage':null_percentage})\n",
    "\n",
    "df_nulls"
   ]
  },
  {
   "cell_type": "code",
   "execution_count": 4,
   "metadata": {},
   "outputs": [
    {
     "data": {
      "text/html": [
       "<div>\n",
       "<style scoped>\n",
       "    .dataframe tbody tr th:only-of-type {\n",
       "        vertical-align: middle;\n",
       "    }\n",
       "\n",
       "    .dataframe tbody tr th {\n",
       "        vertical-align: top;\n",
       "    }\n",
       "\n",
       "    .dataframe thead th {\n",
       "        text-align: right;\n",
       "    }\n",
       "</style>\n",
       "<table border=\"1\" class=\"dataframe\">\n",
       "  <thead>\n",
       "    <tr style=\"text-align: right;\">\n",
       "      <th></th>\n",
       "      <th>event_time</th>\n",
       "      <th>event_type</th>\n",
       "      <th>product_id</th>\n",
       "      <th>category_id</th>\n",
       "      <th>price</th>\n",
       "      <th>user_id</th>\n",
       "      <th>user_session</th>\n",
       "    </tr>\n",
       "  </thead>\n",
       "  <tbody>\n",
       "    <tr>\n",
       "      <th>0</th>\n",
       "      <td>2019-10-01 00:01:46+00:00</td>\n",
       "      <td>view</td>\n",
       "      <td>5843665</td>\n",
       "      <td>1487580005092295511</td>\n",
       "      <td>9.44</td>\n",
       "      <td>462033176</td>\n",
       "      <td>a18e0999-61a1-4218-8f8f-61ec1d375361</td>\n",
       "    </tr>\n",
       "    <tr>\n",
       "      <th>1</th>\n",
       "      <td>2019-10-01 00:01:55+00:00</td>\n",
       "      <td>cart</td>\n",
       "      <td>5868461</td>\n",
       "      <td>1487580013069861041</td>\n",
       "      <td>3.57</td>\n",
       "      <td>514753614</td>\n",
       "      <td>e2fecb2d-22d0-df2c-c661-15da44b3ccf1</td>\n",
       "    </tr>\n",
       "    <tr>\n",
       "      <th>2</th>\n",
       "      <td>2019-10-01 00:02:50+00:00</td>\n",
       "      <td>view</td>\n",
       "      <td>5877456</td>\n",
       "      <td>1487580006300255120</td>\n",
       "      <td>122.22</td>\n",
       "      <td>527418424</td>\n",
       "      <td>86e77869-afbc-4dff-9aa2-6b7dd8c90770</td>\n",
       "    </tr>\n",
       "    <tr>\n",
       "      <th>3</th>\n",
       "      <td>2019-10-01 00:03:41+00:00</td>\n",
       "      <td>view</td>\n",
       "      <td>5649270</td>\n",
       "      <td>1487580013749338323</td>\n",
       "      <td>6.19</td>\n",
       "      <td>555448072</td>\n",
       "      <td>b5f72ceb-0730-44de-a932-d16db62390df</td>\n",
       "    </tr>\n",
       "    <tr>\n",
       "      <th>4</th>\n",
       "      <td>2019-10-01 00:03:44+00:00</td>\n",
       "      <td>view</td>\n",
       "      <td>18082</td>\n",
       "      <td>1487580005411062629</td>\n",
       "      <td>16.03</td>\n",
       "      <td>552006247</td>\n",
       "      <td>2d8f304b-de45-4e59-8f40-50c603843fe5</td>\n",
       "    </tr>\n",
       "    <tr>\n",
       "      <th>...</th>\n",
       "      <td>...</td>\n",
       "      <td>...</td>\n",
       "      <td>...</td>\n",
       "      <td>...</td>\n",
       "      <td>...</td>\n",
       "      <td>...</td>\n",
       "      <td>...</td>\n",
       "    </tr>\n",
       "    <tr>\n",
       "      <th>2095071</th>\n",
       "      <td>2020-02-29 23:58:49+00:00</td>\n",
       "      <td>cart</td>\n",
       "      <td>5815662</td>\n",
       "      <td>1487580006317032337</td>\n",
       "      <td>0.92</td>\n",
       "      <td>147995998</td>\n",
       "      <td>5ff96629-3627-493e-a25b-5a871ec78c90</td>\n",
       "    </tr>\n",
       "    <tr>\n",
       "      <th>2095072</th>\n",
       "      <td>2020-02-29 23:58:57+00:00</td>\n",
       "      <td>view</td>\n",
       "      <td>5815665</td>\n",
       "      <td>1487580006317032337</td>\n",
       "      <td>0.59</td>\n",
       "      <td>147995998</td>\n",
       "      <td>5ff96629-3627-493e-a25b-5a871ec78c90</td>\n",
       "    </tr>\n",
       "    <tr>\n",
       "      <th>2095073</th>\n",
       "      <td>2020-02-29 23:59:05+00:00</td>\n",
       "      <td>cart</td>\n",
       "      <td>5815665</td>\n",
       "      <td>1487580006317032337</td>\n",
       "      <td>0.59</td>\n",
       "      <td>147995998</td>\n",
       "      <td>5ff96629-3627-493e-a25b-5a871ec78c90</td>\n",
       "    </tr>\n",
       "    <tr>\n",
       "      <th>2095074</th>\n",
       "      <td>2020-02-29 23:59:28+00:00</td>\n",
       "      <td>view</td>\n",
       "      <td>5817692</td>\n",
       "      <td>1487580010872045658</td>\n",
       "      <td>0.79</td>\n",
       "      <td>619841242</td>\n",
       "      <td>18af673b-7fb9-4202-a66d-5c855bc0fd2d</td>\n",
       "    </tr>\n",
       "    <tr>\n",
       "      <th>2095075</th>\n",
       "      <td>2020-02-29 23:59:54+00:00</td>\n",
       "      <td>view</td>\n",
       "      <td>5716351</td>\n",
       "      <td>1487580010872045658</td>\n",
       "      <td>0.79</td>\n",
       "      <td>619841242</td>\n",
       "      <td>18af673b-7fb9-4202-a66d-5c855bc0fd2d</td>\n",
       "    </tr>\n",
       "  </tbody>\n",
       "</table>\n",
       "<p>2094570 rows × 7 columns</p>\n",
       "</div>"
      ],
      "text/plain": [
       "                       event_time event_type  product_id          category_id  \\\n",
       "0       2019-10-01 00:01:46+00:00       view     5843665  1487580005092295511   \n",
       "1       2019-10-01 00:01:55+00:00       cart     5868461  1487580013069861041   \n",
       "2       2019-10-01 00:02:50+00:00       view     5877456  1487580006300255120   \n",
       "3       2019-10-01 00:03:41+00:00       view     5649270  1487580013749338323   \n",
       "4       2019-10-01 00:03:44+00:00       view       18082  1487580005411062629   \n",
       "...                           ...        ...         ...                  ...   \n",
       "2095071 2020-02-29 23:58:49+00:00       cart     5815662  1487580006317032337   \n",
       "2095072 2020-02-29 23:58:57+00:00       view     5815665  1487580006317032337   \n",
       "2095073 2020-02-29 23:59:05+00:00       cart     5815665  1487580006317032337   \n",
       "2095074 2020-02-29 23:59:28+00:00       view     5817692  1487580010872045658   \n",
       "2095075 2020-02-29 23:59:54+00:00       view     5716351  1487580010872045658   \n",
       "\n",
       "          price    user_id                          user_session  \n",
       "0          9.44  462033176  a18e0999-61a1-4218-8f8f-61ec1d375361  \n",
       "1          3.57  514753614  e2fecb2d-22d0-df2c-c661-15da44b3ccf1  \n",
       "2        122.22  527418424  86e77869-afbc-4dff-9aa2-6b7dd8c90770  \n",
       "3          6.19  555448072  b5f72ceb-0730-44de-a932-d16db62390df  \n",
       "4         16.03  552006247  2d8f304b-de45-4e59-8f40-50c603843fe5  \n",
       "...         ...        ...                                   ...  \n",
       "2095071    0.92  147995998  5ff96629-3627-493e-a25b-5a871ec78c90  \n",
       "2095072    0.59  147995998  5ff96629-3627-493e-a25b-5a871ec78c90  \n",
       "2095073    0.59  147995998  5ff96629-3627-493e-a25b-5a871ec78c90  \n",
       "2095074    0.79  619841242  18af673b-7fb9-4202-a66d-5c855bc0fd2d  \n",
       "2095075    0.79  619841242  18af673b-7fb9-4202-a66d-5c855bc0fd2d  \n",
       "\n",
       "[2094570 rows x 7 columns]"
      ]
     },
     "execution_count": 4,
     "metadata": {},
     "output_type": "execute_result"
    }
   ],
   "source": [
    "# I remove two variables and the null values from the user_session\n",
    "\n",
    "df_ecom = df_ecom.drop(columns=[\"category_code\", \"brand\"]).dropna()\n",
    "\n",
    "df_ecom"
   ]
  },
  {
   "cell_type": "markdown",
   "metadata": {},
   "source": [
    "### Analysis of Numerical variables "
   ]
  },
  {
   "cell_type": "code",
   "execution_count": 7,
   "metadata": {},
   "outputs": [
    {
     "data": {
      "text/plain": [
       "count    2094570.00\n",
       "mean           8.42\n",
       "std           19.14\n",
       "min          -47.62\n",
       "25%            2.05\n",
       "50%            4.00\n",
       "75%            6.86\n",
       "max          327.78\n",
       "Name: price, dtype: float64"
      ]
     },
     "execution_count": 7,
     "metadata": {},
     "output_type": "execute_result"
    }
   ],
   "source": [
    "df_ecom['price'].describe().round(2)"
   ]
  },
  {
   "cell_type": "code",
   "execution_count": 11,
   "metadata": {},
   "outputs": [
    {
     "data": {
      "text/plain": [
       "20544"
      ]
     },
     "execution_count": 11,
     "metadata": {},
     "output_type": "execute_result"
    }
   ],
   "source": [
    "# Let's see how many prices are zero or negative\n",
    "\n",
    "df_ecom[df_ecom['price'] <= 0].shape[0]"
   ]
  },
  {
   "cell_type": "code",
   "execution_count": 14,
   "metadata": {},
   "outputs": [
    {
     "data": {
      "text/plain": [
       "array([5892052, 5889621, 5889622, ..., 5824841, 5826413, 5832437],\n",
       "      dtype=int64)"
      ]
     },
     "execution_count": 14,
     "metadata": {},
     "output_type": "execute_result"
    }
   ],
   "source": [
    "# Are these rows associated with a specific product?\n",
    "\n",
    "df_ecom[df_ecom['price'] <= 0]['product_id'].unique()\n"
   ]
  },
  {
   "cell_type": "code",
   "execution_count": 16,
   "metadata": {},
   "outputs": [],
   "source": [
    "# I remove  all the rows with zero or negative prices\n",
    "\n",
    "df_ecom = df_ecom[df_ecom['price'] > 0]"
   ]
  },
  {
   "cell_type": "markdown",
   "metadata": {},
   "source": [
    "### Analysis of Categorical variables"
   ]
  },
  {
   "cell_type": "code",
   "execution_count": 17,
   "metadata": {},
   "outputs": [
    {
     "data": {
      "text/plain": [
       "event_type\n",
       "view                961558\n",
       "cart                574547\n",
       "remove_from_cart    410357\n",
       "purchase            127564\n",
       "Name: count, dtype: int64"
      ]
     },
     "execution_count": 17,
     "metadata": {},
     "output_type": "execute_result"
    }
   ],
   "source": [
    "df_ecom.event_type.value_counts()"
   ]
  },
  {
   "cell_type": "code",
   "execution_count": 19,
   "metadata": {},
   "outputs": [
    {
     "data": {
      "text/plain": [
       "508"
      ]
     },
     "execution_count": 19,
     "metadata": {},
     "output_type": "execute_result"
    }
   ],
   "source": [
    "# How many unique categories are there?\n",
    "\n",
    "df_ecom.category_id.nunique()"
   ]
  },
  {
   "cell_type": "code",
   "execution_count": 20,
   "metadata": {},
   "outputs": [
    {
     "data": {
      "text/plain": [
       "45327"
      ]
     },
     "execution_count": 20,
     "metadata": {},
     "output_type": "execute_result"
    }
   ],
   "source": [
    "# How many unique products are there?\n",
    "\n",
    "df_ecom.product_id.nunique()"
   ]
  },
  {
   "cell_type": "markdown",
   "metadata": {},
   "source": [
    "### Index"
   ]
  },
  {
   "cell_type": "code",
   "execution_count": null,
   "metadata": {},
   "outputs": [],
   "source": [
    "# Let's set 'event_time' as the index\n",
    "\n",
    "df_ecom.set_index('event_time', inplace=True)"
   ]
  },
  {
   "cell_type": "code",
   "execution_count": 23,
   "metadata": {},
   "outputs": [
    {
     "data": {
      "text/html": [
       "<div>\n",
       "<style scoped>\n",
       "    .dataframe tbody tr th:only-of-type {\n",
       "        vertical-align: middle;\n",
       "    }\n",
       "\n",
       "    .dataframe tbody tr th {\n",
       "        vertical-align: top;\n",
       "    }\n",
       "\n",
       "    .dataframe thead th {\n",
       "        text-align: right;\n",
       "    }\n",
       "</style>\n",
       "<table border=\"1\" class=\"dataframe\">\n",
       "  <thead>\n",
       "    <tr style=\"text-align: right;\">\n",
       "      <th></th>\n",
       "      <th>event_type</th>\n",
       "      <th>product_id</th>\n",
       "      <th>category_id</th>\n",
       "      <th>price</th>\n",
       "      <th>user_id</th>\n",
       "      <th>user_session</th>\n",
       "    </tr>\n",
       "    <tr>\n",
       "      <th>event_time</th>\n",
       "      <th></th>\n",
       "      <th></th>\n",
       "      <th></th>\n",
       "      <th></th>\n",
       "      <th></th>\n",
       "      <th></th>\n",
       "    </tr>\n",
       "  </thead>\n",
       "  <tbody>\n",
       "    <tr>\n",
       "      <th>2019-10-01 00:01:46+00:00</th>\n",
       "      <td>view</td>\n",
       "      <td>5843665</td>\n",
       "      <td>1487580005092295511</td>\n",
       "      <td>9.44</td>\n",
       "      <td>462033176</td>\n",
       "      <td>a18e0999-61a1-4218-8f8f-61ec1d375361</td>\n",
       "    </tr>\n",
       "    <tr>\n",
       "      <th>2019-10-01 00:01:55+00:00</th>\n",
       "      <td>cart</td>\n",
       "      <td>5868461</td>\n",
       "      <td>1487580013069861041</td>\n",
       "      <td>3.57</td>\n",
       "      <td>514753614</td>\n",
       "      <td>e2fecb2d-22d0-df2c-c661-15da44b3ccf1</td>\n",
       "    </tr>\n",
       "  </tbody>\n",
       "</table>\n",
       "</div>"
      ],
      "text/plain": [
       "                          event_type  product_id          category_id  price  \\\n",
       "event_time                                                                     \n",
       "2019-10-01 00:01:46+00:00       view     5843665  1487580005092295511   9.44   \n",
       "2019-10-01 00:01:55+00:00       cart     5868461  1487580013069861041   3.57   \n",
       "\n",
       "                             user_id                          user_session  \n",
       "event_time                                                                  \n",
       "2019-10-01 00:01:46+00:00  462033176  a18e0999-61a1-4218-8f8f-61ec1d375361  \n",
       "2019-10-01 00:01:55+00:00  514753614  e2fecb2d-22d0-df2c-c661-15da44b3ccf1  "
      ]
     },
     "execution_count": 23,
     "metadata": {},
     "output_type": "execute_result"
    }
   ],
   "source": [
    "df_ecom.head(2)"
   ]
  },
  {
   "cell_type": "markdown",
   "metadata": {},
   "source": [
    "# **<font color = '#3498eb'>DATA TRANSFORMATION</font>**"
   ]
  },
  {
   "cell_type": "markdown",
   "metadata": {},
   "source": [
    "To conduct a more thorough analysis, I'll break down the components of event_time, include local holidays in the EEUU and incorporate days of special commercial interest."
   ]
  },
  {
   "cell_type": "markdown",
   "metadata": {},
   "source": [
    "### Components of event_time"
   ]
  },
  {
   "cell_type": "code",
   "execution_count": 2,
   "metadata": {},
   "outputs": [],
   "source": [
    "def date_components(dataframe):\n",
    "    date = dataframe.index.date\n",
    "    year = dataframe.index.year\n",
    "    month = dataframe.index.month\n",
    "    day = dataframe.index.day\n",
    "    hour = dataframe.index.hour\n",
    "    minute = dataframe.index.minute\n",
    "    second = dataframe.index.second\n",
    "    \n",
    "    return(pd.DataFrame({'date':date, 'year':year,'month':month, 'day':day, 'hour':hour, 'minute':minute, 'second':second}))"
   ]
  },
  {
   "cell_type": "code",
   "execution_count": 12,
   "metadata": {},
   "outputs": [],
   "source": [
    "df_ecom = pd.concat([df_ecom.reset_index(), date_components(df_ecom)], axis=1).set_index('event_time')"
   ]
  },
  {
   "cell_type": "code",
   "execution_count": 29,
   "metadata": {},
   "outputs": [
    {
     "data": {
      "text/html": [
       "<div>\n",
       "<style scoped>\n",
       "    .dataframe tbody tr th:only-of-type {\n",
       "        vertical-align: middle;\n",
       "    }\n",
       "\n",
       "    .dataframe tbody tr th {\n",
       "        vertical-align: top;\n",
       "    }\n",
       "\n",
       "    .dataframe thead th {\n",
       "        text-align: right;\n",
       "    }\n",
       "</style>\n",
       "<table border=\"1\" class=\"dataframe\">\n",
       "  <thead>\n",
       "    <tr style=\"text-align: right;\">\n",
       "      <th></th>\n",
       "      <th>event_type</th>\n",
       "      <th>product_id</th>\n",
       "      <th>category_id</th>\n",
       "      <th>price</th>\n",
       "      <th>user_id</th>\n",
       "      <th>user_session</th>\n",
       "      <th>date</th>\n",
       "      <th>year</th>\n",
       "      <th>month</th>\n",
       "      <th>day</th>\n",
       "      <th>hour</th>\n",
       "      <th>minute</th>\n",
       "      <th>second</th>\n",
       "      <th>date</th>\n",
       "      <th>year</th>\n",
       "      <th>month</th>\n",
       "      <th>day</th>\n",
       "      <th>hour</th>\n",
       "      <th>minute</th>\n",
       "      <th>second</th>\n",
       "    </tr>\n",
       "    <tr>\n",
       "      <th>event_time</th>\n",
       "      <th></th>\n",
       "      <th></th>\n",
       "      <th></th>\n",
       "      <th></th>\n",
       "      <th></th>\n",
       "      <th></th>\n",
       "      <th></th>\n",
       "      <th></th>\n",
       "      <th></th>\n",
       "      <th></th>\n",
       "      <th></th>\n",
       "      <th></th>\n",
       "      <th></th>\n",
       "      <th></th>\n",
       "      <th></th>\n",
       "      <th></th>\n",
       "      <th></th>\n",
       "      <th></th>\n",
       "      <th></th>\n",
       "      <th></th>\n",
       "    </tr>\n",
       "  </thead>\n",
       "  <tbody>\n",
       "    <tr>\n",
       "      <th>2019-10-01 00:01:46+00:00</th>\n",
       "      <td>view</td>\n",
       "      <td>5843665</td>\n",
       "      <td>1487580005092295511</td>\n",
       "      <td>9.44</td>\n",
       "      <td>462033176</td>\n",
       "      <td>a18e0999-61a1-4218-8f8f-61ec1d375361</td>\n",
       "      <td>2019-10-01</td>\n",
       "      <td>2019</td>\n",
       "      <td>10</td>\n",
       "      <td>1</td>\n",
       "      <td>0</td>\n",
       "      <td>1</td>\n",
       "      <td>46</td>\n",
       "      <td>2019-10-01</td>\n",
       "      <td>2019</td>\n",
       "      <td>10</td>\n",
       "      <td>1</td>\n",
       "      <td>0</td>\n",
       "      <td>1</td>\n",
       "      <td>46</td>\n",
       "    </tr>\n",
       "    <tr>\n",
       "      <th>2019-10-01 00:01:55+00:00</th>\n",
       "      <td>cart</td>\n",
       "      <td>5868461</td>\n",
       "      <td>1487580013069861041</td>\n",
       "      <td>3.57</td>\n",
       "      <td>514753614</td>\n",
       "      <td>e2fecb2d-22d0-df2c-c661-15da44b3ccf1</td>\n",
       "      <td>2019-10-01</td>\n",
       "      <td>2019</td>\n",
       "      <td>10</td>\n",
       "      <td>1</td>\n",
       "      <td>0</td>\n",
       "      <td>1</td>\n",
       "      <td>55</td>\n",
       "      <td>2019-10-01</td>\n",
       "      <td>2019</td>\n",
       "      <td>10</td>\n",
       "      <td>1</td>\n",
       "      <td>0</td>\n",
       "      <td>1</td>\n",
       "      <td>55</td>\n",
       "    </tr>\n",
       "  </tbody>\n",
       "</table>\n",
       "</div>"
      ],
      "text/plain": [
       "                          event_type  product_id          category_id  price  \\\n",
       "event_time                                                                     \n",
       "2019-10-01 00:01:46+00:00       view     5843665  1487580005092295511   9.44   \n",
       "2019-10-01 00:01:55+00:00       cart     5868461  1487580013069861041   3.57   \n",
       "\n",
       "                             user_id                          user_session  \\\n",
       "event_time                                                                   \n",
       "2019-10-01 00:01:46+00:00  462033176  a18e0999-61a1-4218-8f8f-61ec1d375361   \n",
       "2019-10-01 00:01:55+00:00  514753614  e2fecb2d-22d0-df2c-c661-15da44b3ccf1   \n",
       "\n",
       "                                 date  year  month  day  hour  minute  second  \\\n",
       "event_time                                                                      \n",
       "2019-10-01 00:01:46+00:00  2019-10-01  2019     10    1     0       1      46   \n",
       "2019-10-01 00:01:55+00:00  2019-10-01  2019     10    1     0       1      55   \n",
       "\n",
       "                                 date  year  month  day  hour  minute  second  \n",
       "event_time                                                                     \n",
       "2019-10-01 00:01:46+00:00  2019-10-01  2019     10    1     0       1      46  \n",
       "2019-10-01 00:01:55+00:00  2019-10-01  2019     10    1     0       1      55  "
      ]
     },
     "execution_count": 29,
     "metadata": {},
     "output_type": "execute_result"
    }
   ],
   "source": [
    "df_ecom.head(2)"
   ]
  },
  {
   "cell_type": "markdown",
   "metadata": {},
   "source": [
    "### Local holidays in EEUU"
   ]
  },
  {
   "cell_type": "code",
   "execution_count": null,
   "metadata": {},
   "outputs": [],
   "source": [
    "%conda install -c conda-forge holidays -y"
   ]
  },
  {
   "cell_type": "code",
   "execution_count": 10,
   "metadata": {},
   "outputs": [],
   "source": [
    "import holidays\n",
    "\n",
    "holidays_eeuu = holidays.US(years=2020)"
   ]
  },
  {
   "cell_type": "code",
   "execution_count": null,
   "metadata": {},
   "outputs": [],
   "source": [
    "# I'll add a variable that will indicate whether the record falls on a holiday or not\n",
    "\n",
    "df_ecom['holiday'] = df_ecom.date.apply(lambda record: 1 if (record in holidays_eeuu) else 0)"
   ]
  },
  {
   "cell_type": "code",
   "execution_count": 16,
   "metadata": {},
   "outputs": [
    {
     "data": {
      "text/plain": [
       "date\n",
       "2019-11-28    22560\n",
       "2020-02-17    15911\n",
       "2020-01-20    15328\n",
       "2019-10-14    13662\n",
       "2019-11-11    13520\n",
       "2019-12-25    11046\n",
       "2020-01-01     7644\n",
       "Name: count, dtype: int64"
      ]
     },
     "execution_count": 16,
     "metadata": {},
     "output_type": "execute_result"
    }
   ],
   "source": [
    "df_ecom[df_ecom.holiday == 1].date.value_counts()"
   ]
  },
  {
   "cell_type": "markdown",
   "metadata": {},
   "source": [
    "### Days of special commercial interest"
   ]
  },
  {
   "cell_type": "markdown",
   "metadata": {},
   "source": [
    "Since this is a cosmetics e-commerce, I will mark the records for dates that are especially significant for the target audience. My hypothesis is that around these dates we should see an increase in sales."
   ]
  },
  {
   "cell_type": "code",
   "execution_count": 21,
   "metadata": {},
   "outputs": [],
   "source": [
    "df_ecom['halloween'] = 0\n",
    "df_ecom.loc['2019-10-31', 'halloween'] = 1\n",
    "\n",
    "df_ecom['black_friday'] = 0\n",
    "df_ecom.loc['2019-11-29', 'black_friday'] = 1\n",
    "\n",
    "df_ecom['cyber_monday'] = 0\n",
    "df_ecom.loc['2019-12-02', 'cyber_monday'] = 1\n",
    "\n",
    "df_ecom['christmas'] = 0\n",
    "df_ecom.loc['2019-12-25', 'christmas'] = 1\n",
    "\n",
    "df_ecom['new_years_eve'] = 0\n",
    "df_ecom.loc['2019-12-31', 'new_years_eve'] = 1\n",
    "\n",
    "# Events in 2020\n",
    "df_ecom['valentines_day'] = 0\n",
    "df_ecom.loc['2020-02-14', 'valentines_day'] = 1\n",
    "\n",
    "df_ecom['womens_day'] = 0\n",
    "df_ecom.loc['2020-03-08', 'womens_day'] = 1\n",
    "\n",
    "df_ecom['mothers_day'] = 0\n",
    "df_ecom.loc['2020-05-10', 'mothers_day'] = 1\n",
    "\n",
    "df_ecom['prime_day'] = 0\n",
    "df_ecom.loc['2020-10-13', 'prime_day'] = 1\n",
    "\n",
    "df_ecom['halloween'] = 0  # Overriding to include 2020\n",
    "df_ecom.loc['2020-10-31', 'halloween'] = 1\n",
    "\n",
    "df_ecom['cyber_monday'] = 0  # Overriding to include 2020\n",
    "df_ecom.loc['2020-11-30', 'cyber_monday'] = 1\n",
    "\n",
    "df_ecom['christmas'] = 0  # Overriding to include 2020\n",
    "df_ecom.loc['2020-12-25', 'christmas'] = 1\n",
    "\n",
    "df_ecom['new_years_eve'] = 0  # Overriding to include 2020\n",
    "df_ecom.loc['2020-12-31', 'new_years_eve'] = 1\n"
   ]
  },
  {
   "cell_type": "code",
   "execution_count": 19,
   "metadata": {},
   "outputs": [
    {
     "data": {
      "text/html": [
       "<div>\n",
       "<style scoped>\n",
       "    .dataframe tbody tr th:only-of-type {\n",
       "        vertical-align: middle;\n",
       "    }\n",
       "\n",
       "    .dataframe tbody tr th {\n",
       "        vertical-align: top;\n",
       "    }\n",
       "\n",
       "    .dataframe thead th {\n",
       "        text-align: right;\n",
       "    }\n",
       "</style>\n",
       "<table border=\"1\" class=\"dataframe\">\n",
       "  <thead>\n",
       "    <tr style=\"text-align: right;\">\n",
       "      <th></th>\n",
       "      <th>event_type</th>\n",
       "      <th>product_id</th>\n",
       "      <th>category_id</th>\n",
       "      <th>price</th>\n",
       "      <th>user_id</th>\n",
       "      <th>user_session</th>\n",
       "      <th>date</th>\n",
       "      <th>year</th>\n",
       "      <th>month</th>\n",
       "      <th>day</th>\n",
       "      <th>...</th>\n",
       "      <th>second</th>\n",
       "      <th>holiday</th>\n",
       "      <th>valentines_day</th>\n",
       "      <th>mothers_day</th>\n",
       "      <th>cyber_monday</th>\n",
       "      <th>womens_day</th>\n",
       "      <th>halloween</th>\n",
       "      <th>prime_day</th>\n",
       "      <th>christmas</th>\n",
       "      <th>new_years_eve</th>\n",
       "    </tr>\n",
       "    <tr>\n",
       "      <th>event_time</th>\n",
       "      <th></th>\n",
       "      <th></th>\n",
       "      <th></th>\n",
       "      <th></th>\n",
       "      <th></th>\n",
       "      <th></th>\n",
       "      <th></th>\n",
       "      <th></th>\n",
       "      <th></th>\n",
       "      <th></th>\n",
       "      <th></th>\n",
       "      <th></th>\n",
       "      <th></th>\n",
       "      <th></th>\n",
       "      <th></th>\n",
       "      <th></th>\n",
       "      <th></th>\n",
       "      <th></th>\n",
       "      <th></th>\n",
       "      <th></th>\n",
       "      <th></th>\n",
       "    </tr>\n",
       "  </thead>\n",
       "  <tbody>\n",
       "    <tr>\n",
       "      <th>2019-10-01 00:01:46+00:00</th>\n",
       "      <td>view</td>\n",
       "      <td>5843665.0</td>\n",
       "      <td>1.487580e+18</td>\n",
       "      <td>9.44</td>\n",
       "      <td>462033176.0</td>\n",
       "      <td>a18e0999-61a1-4218-8f8f-61ec1d375361</td>\n",
       "      <td>2019-10-01</td>\n",
       "      <td>2019.0</td>\n",
       "      <td>10.0</td>\n",
       "      <td>1.0</td>\n",
       "      <td>...</td>\n",
       "      <td>46.0</td>\n",
       "      <td>0.0</td>\n",
       "      <td>0.0</td>\n",
       "      <td>0</td>\n",
       "      <td>0</td>\n",
       "      <td>0</td>\n",
       "      <td>0</td>\n",
       "      <td>0</td>\n",
       "      <td>0</td>\n",
       "      <td>0</td>\n",
       "    </tr>\n",
       "    <tr>\n",
       "      <th>2019-10-01 00:01:55+00:00</th>\n",
       "      <td>cart</td>\n",
       "      <td>5868461.0</td>\n",
       "      <td>1.487580e+18</td>\n",
       "      <td>3.57</td>\n",
       "      <td>514753614.0</td>\n",
       "      <td>e2fecb2d-22d0-df2c-c661-15da44b3ccf1</td>\n",
       "      <td>2019-10-01</td>\n",
       "      <td>2019.0</td>\n",
       "      <td>10.0</td>\n",
       "      <td>1.0</td>\n",
       "      <td>...</td>\n",
       "      <td>55.0</td>\n",
       "      <td>0.0</td>\n",
       "      <td>0.0</td>\n",
       "      <td>0</td>\n",
       "      <td>0</td>\n",
       "      <td>0</td>\n",
       "      <td>0</td>\n",
       "      <td>0</td>\n",
       "      <td>0</td>\n",
       "      <td>0</td>\n",
       "    </tr>\n",
       "  </tbody>\n",
       "</table>\n",
       "<p>2 rows × 22 columns</p>\n",
       "</div>"
      ],
      "text/plain": [
       "                          event_type  product_id   category_id  price  \\\n",
       "event_time                                                              \n",
       "2019-10-01 00:01:46+00:00       view   5843665.0  1.487580e+18   9.44   \n",
       "2019-10-01 00:01:55+00:00       cart   5868461.0  1.487580e+18   3.57   \n",
       "\n",
       "                               user_id                          user_session  \\\n",
       "event_time                                                                     \n",
       "2019-10-01 00:01:46+00:00  462033176.0  a18e0999-61a1-4218-8f8f-61ec1d375361   \n",
       "2019-10-01 00:01:55+00:00  514753614.0  e2fecb2d-22d0-df2c-c661-15da44b3ccf1   \n",
       "\n",
       "                                 date    year  month  day  ...  second  \\\n",
       "event_time                                                 ...           \n",
       "2019-10-01 00:01:46+00:00  2019-10-01  2019.0   10.0  1.0  ...    46.0   \n",
       "2019-10-01 00:01:55+00:00  2019-10-01  2019.0   10.0  1.0  ...    55.0   \n",
       "\n",
       "                           holiday  valentines_day  mothers_day  cyber_monday  \\\n",
       "event_time                                                                      \n",
       "2019-10-01 00:01:46+00:00      0.0             0.0            0             0   \n",
       "2019-10-01 00:01:55+00:00      0.0             0.0            0             0   \n",
       "\n",
       "                           womens_day  halloween  prime_day  christmas  \\\n",
       "event_time                                                               \n",
       "2019-10-01 00:01:46+00:00           0          0          0          0   \n",
       "2019-10-01 00:01:55+00:00           0          0          0          0   \n",
       "\n",
       "                           new_years_eve  \n",
       "event_time                                \n",
       "2019-10-01 00:01:46+00:00              0  \n",
       "2019-10-01 00:01:55+00:00              0  \n",
       "\n",
       "[2 rows x 22 columns]"
      ]
     },
     "execution_count": 19,
     "metadata": {},
     "output_type": "execute_result"
    }
   ],
   "source": [
    "df_ecom.head(2)"
   ]
  },
  {
   "cell_type": "code",
   "execution_count": 23,
   "metadata": {},
   "outputs": [
    {
     "data": {
      "text/plain": [
       "valentines_day\n",
       "0    2061781\n",
       "1      12246\n",
       "Name: count, dtype: int64"
      ]
     },
     "execution_count": 23,
     "metadata": {},
     "output_type": "execute_result"
    }
   ],
   "source": [
    "df_ecom['valentines_day'].value_counts()"
   ]
  },
  {
   "cell_type": "markdown",
   "metadata": {},
   "source": [
    "# **<font color = '#3498eb'>ANALYSIS AND INSIGHTS</font>**"
   ]
  },
  {
   "cell_type": "markdown",
   "metadata": {},
   "source": [
    "## UNDERSTANDING EVENTS"
   ]
  },
  {
   "cell_type": "markdown",
   "metadata": {},
   "source": [
    "### How does the customer journey work?"
   ]
  },
  {
   "cell_type": "markdown",
   "metadata": {},
   "source": [
    "I created this function to automate funnel analysis with new data."
   ]
  },
  {
   "cell_type": "code",
   "execution_count": 6,
   "metadata": {},
   "outputs": [
    {
     "name": "stdout",
     "output_type": "stream",
     "text": [
      "Requirement already satisfied: plotly in c:\\users\\usuario\\anaconda3\\envs\\entorno_ecommerce\\lib\\site-packages (5.17.0)Note: you may need to restart the kernel to use updated packages.\n",
      "\n",
      "Requirement already satisfied: tenacity>=6.2.0 in c:\\users\\usuario\\anaconda3\\envs\\entorno_ecommerce\\lib\\site-packages (from plotly) (8.2.3)\n",
      "Requirement already satisfied: packaging in c:\\users\\usuario\\anaconda3\\envs\\entorno_ecommerce\\lib\\site-packages (from plotly) (21.3)\n",
      "Requirement already satisfied: pyparsing!=3.0.5,>=2.0.2 in c:\\users\\usuario\\anaconda3\\envs\\entorno_ecommerce\\lib\\site-packages (from packaging->plotly) (3.0.4)\n"
     ]
    }
   ],
   "source": [
    "%pip install plotly"
   ]
  },
  {
   "cell_type": "code",
   "execution_count": 9,
   "metadata": {},
   "outputs": [],
   "source": [
    "# This function takes the values from the event_type variable as input\n",
    "\n",
    "def funnel_analytics(event_type_variable):\n",
    "    \n",
    "    # Storing the counts of all the event_type values in this variable\n",
    "    event_types_value_counts = df_ecom['event_type'].value_counts()\n",
    "    \n",
    "    # Creating variables to calculate percentages\n",
    "    kpi_views_perc = 100\n",
    "    kpi_cart_perc = (event_types_value_counts['cart'] / event_types_value_counts['view']) * 100\n",
    "    kpi_removed_perc = (event_types_value_counts['remove_from_cart'] / event_types_value_counts['cart']) * 100\n",
    "    kpi_purchase_perc = (event_types_value_counts['purchase'] / event_types_value_counts['cart']) * 100\n",
    "    \n",
    "    df_ecom_kpis = pd.DataFrame({'kpi': ['views', 'cart', 'purchase'], 'percentage': [kpi_views_perc, kpi_cart_perc, kpi_purchase_perc]}).round(1)\n",
    "    \n",
    "    # Creating the graphic\n",
    "    from plotly import graph_objects as go\n",
    "    fig = go.Figure(go.Funnel(y=df_ecom_kpis['kpi'], x=df_ecom_kpis['percentage'].round(2), marker={'color': ['red', 'yellow', 'green']}, opacity=0.4))\n",
    "    fig.show()\n",
    "    \n",
    "    # Printing a report with conclusions\n",
    "    print(f\"{kpi_cart_perc.round(1)}% of viewed products are added to the cart, leaving a {100 - kpi_cart_perc.round(1)}% of views that need to be converted into cart additions.\\n\")\n",
    "    print(f\"{kpi_purchase_perc.round(1)}% of cart items are purchased, leaving a {100 - kpi_purchase_perc.round(1)}% that needs to be converted into actual purchases.\\n\")\n"
   ]
  },
  {
   "cell_type": "code",
   "execution_count": 10,
   "metadata": {},
   "outputs": [
    {
     "data": {
      "application/vnd.plotly.v1+json": {
       "config": {
        "plotlyServerURL": "https://plot.ly"
       },
       "data": [
        {
         "marker": {
          "color": [
           "red",
           "yellow",
           "green"
          ]
         },
         "opacity": 0.4,
         "type": "funnel",
         "x": [
          100,
          59.8,
          22.2
         ],
         "y": [
          "views",
          "cart",
          "purchase"
         ]
        }
       ],
       "layout": {
        "template": {
         "data": {
          "bar": [
           {
            "error_x": {
             "color": "#2a3f5f"
            },
            "error_y": {
             "color": "#2a3f5f"
            },
            "marker": {
             "line": {
              "color": "#E5ECF6",
              "width": 0.5
             },
             "pattern": {
              "fillmode": "overlay",
              "size": 10,
              "solidity": 0.2
             }
            },
            "type": "bar"
           }
          ],
          "barpolar": [
           {
            "marker": {
             "line": {
              "color": "#E5ECF6",
              "width": 0.5
             },
             "pattern": {
              "fillmode": "overlay",
              "size": 10,
              "solidity": 0.2
             }
            },
            "type": "barpolar"
           }
          ],
          "carpet": [
           {
            "aaxis": {
             "endlinecolor": "#2a3f5f",
             "gridcolor": "white",
             "linecolor": "white",
             "minorgridcolor": "white",
             "startlinecolor": "#2a3f5f"
            },
            "baxis": {
             "endlinecolor": "#2a3f5f",
             "gridcolor": "white",
             "linecolor": "white",
             "minorgridcolor": "white",
             "startlinecolor": "#2a3f5f"
            },
            "type": "carpet"
           }
          ],
          "choropleth": [
           {
            "colorbar": {
             "outlinewidth": 0,
             "ticks": ""
            },
            "type": "choropleth"
           }
          ],
          "contour": [
           {
            "colorbar": {
             "outlinewidth": 0,
             "ticks": ""
            },
            "colorscale": [
             [
              0,
              "#0d0887"
             ],
             [
              0.1111111111111111,
              "#46039f"
             ],
             [
              0.2222222222222222,
              "#7201a8"
             ],
             [
              0.3333333333333333,
              "#9c179e"
             ],
             [
              0.4444444444444444,
              "#bd3786"
             ],
             [
              0.5555555555555556,
              "#d8576b"
             ],
             [
              0.6666666666666666,
              "#ed7953"
             ],
             [
              0.7777777777777778,
              "#fb9f3a"
             ],
             [
              0.8888888888888888,
              "#fdca26"
             ],
             [
              1,
              "#f0f921"
             ]
            ],
            "type": "contour"
           }
          ],
          "contourcarpet": [
           {
            "colorbar": {
             "outlinewidth": 0,
             "ticks": ""
            },
            "type": "contourcarpet"
           }
          ],
          "heatmap": [
           {
            "colorbar": {
             "outlinewidth": 0,
             "ticks": ""
            },
            "colorscale": [
             [
              0,
              "#0d0887"
             ],
             [
              0.1111111111111111,
              "#46039f"
             ],
             [
              0.2222222222222222,
              "#7201a8"
             ],
             [
              0.3333333333333333,
              "#9c179e"
             ],
             [
              0.4444444444444444,
              "#bd3786"
             ],
             [
              0.5555555555555556,
              "#d8576b"
             ],
             [
              0.6666666666666666,
              "#ed7953"
             ],
             [
              0.7777777777777778,
              "#fb9f3a"
             ],
             [
              0.8888888888888888,
              "#fdca26"
             ],
             [
              1,
              "#f0f921"
             ]
            ],
            "type": "heatmap"
           }
          ],
          "heatmapgl": [
           {
            "colorbar": {
             "outlinewidth": 0,
             "ticks": ""
            },
            "colorscale": [
             [
              0,
              "#0d0887"
             ],
             [
              0.1111111111111111,
              "#46039f"
             ],
             [
              0.2222222222222222,
              "#7201a8"
             ],
             [
              0.3333333333333333,
              "#9c179e"
             ],
             [
              0.4444444444444444,
              "#bd3786"
             ],
             [
              0.5555555555555556,
              "#d8576b"
             ],
             [
              0.6666666666666666,
              "#ed7953"
             ],
             [
              0.7777777777777778,
              "#fb9f3a"
             ],
             [
              0.8888888888888888,
              "#fdca26"
             ],
             [
              1,
              "#f0f921"
             ]
            ],
            "type": "heatmapgl"
           }
          ],
          "histogram": [
           {
            "marker": {
             "pattern": {
              "fillmode": "overlay",
              "size": 10,
              "solidity": 0.2
             }
            },
            "type": "histogram"
           }
          ],
          "histogram2d": [
           {
            "colorbar": {
             "outlinewidth": 0,
             "ticks": ""
            },
            "colorscale": [
             [
              0,
              "#0d0887"
             ],
             [
              0.1111111111111111,
              "#46039f"
             ],
             [
              0.2222222222222222,
              "#7201a8"
             ],
             [
              0.3333333333333333,
              "#9c179e"
             ],
             [
              0.4444444444444444,
              "#bd3786"
             ],
             [
              0.5555555555555556,
              "#d8576b"
             ],
             [
              0.6666666666666666,
              "#ed7953"
             ],
             [
              0.7777777777777778,
              "#fb9f3a"
             ],
             [
              0.8888888888888888,
              "#fdca26"
             ],
             [
              1,
              "#f0f921"
             ]
            ],
            "type": "histogram2d"
           }
          ],
          "histogram2dcontour": [
           {
            "colorbar": {
             "outlinewidth": 0,
             "ticks": ""
            },
            "colorscale": [
             [
              0,
              "#0d0887"
             ],
             [
              0.1111111111111111,
              "#46039f"
             ],
             [
              0.2222222222222222,
              "#7201a8"
             ],
             [
              0.3333333333333333,
              "#9c179e"
             ],
             [
              0.4444444444444444,
              "#bd3786"
             ],
             [
              0.5555555555555556,
              "#d8576b"
             ],
             [
              0.6666666666666666,
              "#ed7953"
             ],
             [
              0.7777777777777778,
              "#fb9f3a"
             ],
             [
              0.8888888888888888,
              "#fdca26"
             ],
             [
              1,
              "#f0f921"
             ]
            ],
            "type": "histogram2dcontour"
           }
          ],
          "mesh3d": [
           {
            "colorbar": {
             "outlinewidth": 0,
             "ticks": ""
            },
            "type": "mesh3d"
           }
          ],
          "parcoords": [
           {
            "line": {
             "colorbar": {
              "outlinewidth": 0,
              "ticks": ""
             }
            },
            "type": "parcoords"
           }
          ],
          "pie": [
           {
            "automargin": true,
            "type": "pie"
           }
          ],
          "scatter": [
           {
            "fillpattern": {
             "fillmode": "overlay",
             "size": 10,
             "solidity": 0.2
            },
            "type": "scatter"
           }
          ],
          "scatter3d": [
           {
            "line": {
             "colorbar": {
              "outlinewidth": 0,
              "ticks": ""
             }
            },
            "marker": {
             "colorbar": {
              "outlinewidth": 0,
              "ticks": ""
             }
            },
            "type": "scatter3d"
           }
          ],
          "scattercarpet": [
           {
            "marker": {
             "colorbar": {
              "outlinewidth": 0,
              "ticks": ""
             }
            },
            "type": "scattercarpet"
           }
          ],
          "scattergeo": [
           {
            "marker": {
             "colorbar": {
              "outlinewidth": 0,
              "ticks": ""
             }
            },
            "type": "scattergeo"
           }
          ],
          "scattergl": [
           {
            "marker": {
             "colorbar": {
              "outlinewidth": 0,
              "ticks": ""
             }
            },
            "type": "scattergl"
           }
          ],
          "scattermapbox": [
           {
            "marker": {
             "colorbar": {
              "outlinewidth": 0,
              "ticks": ""
             }
            },
            "type": "scattermapbox"
           }
          ],
          "scatterpolar": [
           {
            "marker": {
             "colorbar": {
              "outlinewidth": 0,
              "ticks": ""
             }
            },
            "type": "scatterpolar"
           }
          ],
          "scatterpolargl": [
           {
            "marker": {
             "colorbar": {
              "outlinewidth": 0,
              "ticks": ""
             }
            },
            "type": "scatterpolargl"
           }
          ],
          "scatterternary": [
           {
            "marker": {
             "colorbar": {
              "outlinewidth": 0,
              "ticks": ""
             }
            },
            "type": "scatterternary"
           }
          ],
          "surface": [
           {
            "colorbar": {
             "outlinewidth": 0,
             "ticks": ""
            },
            "colorscale": [
             [
              0,
              "#0d0887"
             ],
             [
              0.1111111111111111,
              "#46039f"
             ],
             [
              0.2222222222222222,
              "#7201a8"
             ],
             [
              0.3333333333333333,
              "#9c179e"
             ],
             [
              0.4444444444444444,
              "#bd3786"
             ],
             [
              0.5555555555555556,
              "#d8576b"
             ],
             [
              0.6666666666666666,
              "#ed7953"
             ],
             [
              0.7777777777777778,
              "#fb9f3a"
             ],
             [
              0.8888888888888888,
              "#fdca26"
             ],
             [
              1,
              "#f0f921"
             ]
            ],
            "type": "surface"
           }
          ],
          "table": [
           {
            "cells": {
             "fill": {
              "color": "#EBF0F8"
             },
             "line": {
              "color": "white"
             }
            },
            "header": {
             "fill": {
              "color": "#C8D4E3"
             },
             "line": {
              "color": "white"
             }
            },
            "type": "table"
           }
          ]
         },
         "layout": {
          "annotationdefaults": {
           "arrowcolor": "#2a3f5f",
           "arrowhead": 0,
           "arrowwidth": 1
          },
          "autotypenumbers": "strict",
          "coloraxis": {
           "colorbar": {
            "outlinewidth": 0,
            "ticks": ""
           }
          },
          "colorscale": {
           "diverging": [
            [
             0,
             "#8e0152"
            ],
            [
             0.1,
             "#c51b7d"
            ],
            [
             0.2,
             "#de77ae"
            ],
            [
             0.3,
             "#f1b6da"
            ],
            [
             0.4,
             "#fde0ef"
            ],
            [
             0.5,
             "#f7f7f7"
            ],
            [
             0.6,
             "#e6f5d0"
            ],
            [
             0.7,
             "#b8e186"
            ],
            [
             0.8,
             "#7fbc41"
            ],
            [
             0.9,
             "#4d9221"
            ],
            [
             1,
             "#276419"
            ]
           ],
           "sequential": [
            [
             0,
             "#0d0887"
            ],
            [
             0.1111111111111111,
             "#46039f"
            ],
            [
             0.2222222222222222,
             "#7201a8"
            ],
            [
             0.3333333333333333,
             "#9c179e"
            ],
            [
             0.4444444444444444,
             "#bd3786"
            ],
            [
             0.5555555555555556,
             "#d8576b"
            ],
            [
             0.6666666666666666,
             "#ed7953"
            ],
            [
             0.7777777777777778,
             "#fb9f3a"
            ],
            [
             0.8888888888888888,
             "#fdca26"
            ],
            [
             1,
             "#f0f921"
            ]
           ],
           "sequentialminus": [
            [
             0,
             "#0d0887"
            ],
            [
             0.1111111111111111,
             "#46039f"
            ],
            [
             0.2222222222222222,
             "#7201a8"
            ],
            [
             0.3333333333333333,
             "#9c179e"
            ],
            [
             0.4444444444444444,
             "#bd3786"
            ],
            [
             0.5555555555555556,
             "#d8576b"
            ],
            [
             0.6666666666666666,
             "#ed7953"
            ],
            [
             0.7777777777777778,
             "#fb9f3a"
            ],
            [
             0.8888888888888888,
             "#fdca26"
            ],
            [
             1,
             "#f0f921"
            ]
           ]
          },
          "colorway": [
           "#636efa",
           "#EF553B",
           "#00cc96",
           "#ab63fa",
           "#FFA15A",
           "#19d3f3",
           "#FF6692",
           "#B6E880",
           "#FF97FF",
           "#FECB52"
          ],
          "font": {
           "color": "#2a3f5f"
          },
          "geo": {
           "bgcolor": "white",
           "lakecolor": "white",
           "landcolor": "#E5ECF6",
           "showlakes": true,
           "showland": true,
           "subunitcolor": "white"
          },
          "hoverlabel": {
           "align": "left"
          },
          "hovermode": "closest",
          "mapbox": {
           "style": "light"
          },
          "paper_bgcolor": "white",
          "plot_bgcolor": "#E5ECF6",
          "polar": {
           "angularaxis": {
            "gridcolor": "white",
            "linecolor": "white",
            "ticks": ""
           },
           "bgcolor": "#E5ECF6",
           "radialaxis": {
            "gridcolor": "white",
            "linecolor": "white",
            "ticks": ""
           }
          },
          "scene": {
           "xaxis": {
            "backgroundcolor": "#E5ECF6",
            "gridcolor": "white",
            "gridwidth": 2,
            "linecolor": "white",
            "showbackground": true,
            "ticks": "",
            "zerolinecolor": "white"
           },
           "yaxis": {
            "backgroundcolor": "#E5ECF6",
            "gridcolor": "white",
            "gridwidth": 2,
            "linecolor": "white",
            "showbackground": true,
            "ticks": "",
            "zerolinecolor": "white"
           },
           "zaxis": {
            "backgroundcolor": "#E5ECF6",
            "gridcolor": "white",
            "gridwidth": 2,
            "linecolor": "white",
            "showbackground": true,
            "ticks": "",
            "zerolinecolor": "white"
           }
          },
          "shapedefaults": {
           "line": {
            "color": "#2a3f5f"
           }
          },
          "ternary": {
           "aaxis": {
            "gridcolor": "white",
            "linecolor": "white",
            "ticks": ""
           },
           "baxis": {
            "gridcolor": "white",
            "linecolor": "white",
            "ticks": ""
           },
           "bgcolor": "#E5ECF6",
           "caxis": {
            "gridcolor": "white",
            "linecolor": "white",
            "ticks": ""
           }
          },
          "title": {
           "x": 0.05
          },
          "xaxis": {
           "automargin": true,
           "gridcolor": "white",
           "linecolor": "white",
           "ticks": "",
           "title": {
            "standoff": 15
           },
           "zerolinecolor": "white",
           "zerolinewidth": 2
          },
          "yaxis": {
           "automargin": true,
           "gridcolor": "white",
           "linecolor": "white",
           "ticks": "",
           "title": {
            "standoff": 15
           },
           "zerolinecolor": "white",
           "zerolinewidth": 2
          }
         }
        }
       }
      }
     },
     "metadata": {},
     "output_type": "display_data"
    },
    {
     "name": "stdout",
     "output_type": "stream",
     "text": [
      "59.8% of viewed products are added to the cart, leaving a 40.2% of views that need to be converted into cart additions.\n",
      "\n",
      "22.2% of cart items are purchased, leaving a 77.8% that needs to be converted into actual purchases.\n",
      "\n"
     ]
    }
   ],
   "source": [
    "funnel_analytics(df_ecom.event_type)"
   ]
  },
  {
   "cell_type": "markdown",
   "metadata": {},
   "source": [
    "### On average, how many products are viewed, added to the cart, abandoned and purchased in each session?"
   ]
  },
  {
   "cell_type": "markdown",
   "metadata": {},
   "source": [
    "We have just looked at the customer journey on a broad scale for this e-commerce site; now we're going to examine the averages in each session.\n"
   ]
  },
  {
   "cell_type": "code",
   "execution_count": 17,
   "metadata": {},
   "outputs": [
    {
     "data": {
      "text/plain": [
       "user_session                          event_type\n",
       "0000597b-de39-4a77-9fe5-02c8792ca14e  view          3\n",
       "0000645a-8160-4a3d-91bf-154bff0a22e3  view          2\n",
       "000090e1-da13-42b1-a31b-91a9ee5e6a88  view          1\n",
       "0000b3cb-5422-4bf2-b8fe-5c1831d0dc1b  view          1\n",
       "0000de26-bd58-42c9-9173-4763c76b398e  view          1\n",
       "                                                   ..\n",
       "ffff6695-b64d-4a67-aa14-34b3b7f63c3f  view          2\n",
       "ffff7d69-b706-4c64-9d6d-da57a04bc32b  view          1\n",
       "ffff8044-2a22-4846-8a72-999e870abbe9  view          1\n",
       "ffff91d4-7879-4a4b-8b26-c67915a27dc8  view          1\n",
       "ffffbe0a-d2c2-47c7-afab-680bfdfda50d  view          1\n",
       "Name: product_id, Length: 581763, dtype: int64"
      ]
     },
     "execution_count": 17,
     "metadata": {},
     "output_type": "execute_result"
    }
   ],
   "source": [
    "# First I am going to create a df at the user_session-event_type level\n",
    "\n",
    "ecom_us_et = df_ecom.groupby(['user_session', 'event_type']).product_id.count()\n",
    "\n",
    "ecom_us_et"
   ]
  },
  {
   "cell_type": "code",
   "execution_count": 18,
   "metadata": {},
   "outputs": [
    {
     "data": {
      "text/html": [
       "<div>\n",
       "<style scoped>\n",
       "    .dataframe tbody tr th:only-of-type {\n",
       "        vertical-align: middle;\n",
       "    }\n",
       "\n",
       "    .dataframe tbody tr th {\n",
       "        vertical-align: top;\n",
       "    }\n",
       "\n",
       "    .dataframe thead th {\n",
       "        text-align: right;\n",
       "    }\n",
       "</style>\n",
       "<table border=\"1\" class=\"dataframe\">\n",
       "  <thead>\n",
       "    <tr style=\"text-align: right;\">\n",
       "      <th>event_type</th>\n",
       "      <th>cart</th>\n",
       "      <th>purchase</th>\n",
       "      <th>remove_from_cart</th>\n",
       "      <th>view</th>\n",
       "    </tr>\n",
       "    <tr>\n",
       "      <th>user_session</th>\n",
       "      <th></th>\n",
       "      <th></th>\n",
       "      <th></th>\n",
       "      <th></th>\n",
       "    </tr>\n",
       "  </thead>\n",
       "  <tbody>\n",
       "    <tr>\n",
       "      <th>0000597b-de39-4a77-9fe5-02c8792ca14e</th>\n",
       "      <td>0.0</td>\n",
       "      <td>0.0</td>\n",
       "      <td>0.0</td>\n",
       "      <td>3.0</td>\n",
       "    </tr>\n",
       "    <tr>\n",
       "      <th>0000645a-8160-4a3d-91bf-154bff0a22e3</th>\n",
       "      <td>0.0</td>\n",
       "      <td>0.0</td>\n",
       "      <td>0.0</td>\n",
       "      <td>2.0</td>\n",
       "    </tr>\n",
       "    <tr>\n",
       "      <th>000090e1-da13-42b1-a31b-91a9ee5e6a88</th>\n",
       "      <td>0.0</td>\n",
       "      <td>0.0</td>\n",
       "      <td>0.0</td>\n",
       "      <td>1.0</td>\n",
       "    </tr>\n",
       "    <tr>\n",
       "      <th>0000b3cb-5422-4bf2-b8fe-5c1831d0dc1b</th>\n",
       "      <td>0.0</td>\n",
       "      <td>0.0</td>\n",
       "      <td>0.0</td>\n",
       "      <td>1.0</td>\n",
       "    </tr>\n",
       "    <tr>\n",
       "      <th>0000de26-bd58-42c9-9173-4763c76b398e</th>\n",
       "      <td>0.0</td>\n",
       "      <td>0.0</td>\n",
       "      <td>0.0</td>\n",
       "      <td>1.0</td>\n",
       "    </tr>\n",
       "    <tr>\n",
       "      <th>...</th>\n",
       "      <td>...</td>\n",
       "      <td>...</td>\n",
       "      <td>...</td>\n",
       "      <td>...</td>\n",
       "    </tr>\n",
       "    <tr>\n",
       "      <th>ffff6695-b64d-4a67-aa14-34b3b7f63c3f</th>\n",
       "      <td>0.0</td>\n",
       "      <td>0.0</td>\n",
       "      <td>0.0</td>\n",
       "      <td>2.0</td>\n",
       "    </tr>\n",
       "    <tr>\n",
       "      <th>ffff7d69-b706-4c64-9d6d-da57a04bc32b</th>\n",
       "      <td>0.0</td>\n",
       "      <td>0.0</td>\n",
       "      <td>0.0</td>\n",
       "      <td>1.0</td>\n",
       "    </tr>\n",
       "    <tr>\n",
       "      <th>ffff8044-2a22-4846-8a72-999e870abbe9</th>\n",
       "      <td>0.0</td>\n",
       "      <td>0.0</td>\n",
       "      <td>0.0</td>\n",
       "      <td>1.0</td>\n",
       "    </tr>\n",
       "    <tr>\n",
       "      <th>ffff91d4-7879-4a4b-8b26-c67915a27dc8</th>\n",
       "      <td>0.0</td>\n",
       "      <td>0.0</td>\n",
       "      <td>0.0</td>\n",
       "      <td>1.0</td>\n",
       "    </tr>\n",
       "    <tr>\n",
       "      <th>ffffbe0a-d2c2-47c7-afab-680bfdfda50d</th>\n",
       "      <td>0.0</td>\n",
       "      <td>0.0</td>\n",
       "      <td>0.0</td>\n",
       "      <td>1.0</td>\n",
       "    </tr>\n",
       "  </tbody>\n",
       "</table>\n",
       "<p>446054 rows × 4 columns</p>\n",
       "</div>"
      ],
      "text/plain": [
       "event_type                            cart  purchase  remove_from_cart  view\n",
       "user_session                                                                \n",
       "0000597b-de39-4a77-9fe5-02c8792ca14e   0.0       0.0               0.0   3.0\n",
       "0000645a-8160-4a3d-91bf-154bff0a22e3   0.0       0.0               0.0   2.0\n",
       "000090e1-da13-42b1-a31b-91a9ee5e6a88   0.0       0.0               0.0   1.0\n",
       "0000b3cb-5422-4bf2-b8fe-5c1831d0dc1b   0.0       0.0               0.0   1.0\n",
       "0000de26-bd58-42c9-9173-4763c76b398e   0.0       0.0               0.0   1.0\n",
       "...                                    ...       ...               ...   ...\n",
       "ffff6695-b64d-4a67-aa14-34b3b7f63c3f   0.0       0.0               0.0   2.0\n",
       "ffff7d69-b706-4c64-9d6d-da57a04bc32b   0.0       0.0               0.0   1.0\n",
       "ffff8044-2a22-4846-8a72-999e870abbe9   0.0       0.0               0.0   1.0\n",
       "ffff91d4-7879-4a4b-8b26-c67915a27dc8   0.0       0.0               0.0   1.0\n",
       "ffffbe0a-d2c2-47c7-afab-680bfdfda50d   0.0       0.0               0.0   1.0\n",
       "\n",
       "[446054 rows x 4 columns]"
      ]
     },
     "execution_count": 18,
     "metadata": {},
     "output_type": "execute_result"
    }
   ],
   "source": [
    "# I will use the values of the `event_type` variable as columns.\n",
    "\n",
    "df_ecom_us_et = ecom_us_et.unstack().fillna(0)\n",
    "\n",
    "df_ecom_us_et"
   ]
  },
  {
   "cell_type": "code",
   "execution_count": 19,
   "metadata": {},
   "outputs": [
    {
     "data": {
      "text/html": [
       "<div>\n",
       "<style scoped>\n",
       "    .dataframe tbody tr th:only-of-type {\n",
       "        vertical-align: middle;\n",
       "    }\n",
       "\n",
       "    .dataframe tbody tr th {\n",
       "        vertical-align: top;\n",
       "    }\n",
       "\n",
       "    .dataframe thead th {\n",
       "        text-align: right;\n",
       "    }\n",
       "</style>\n",
       "<table border=\"1\" class=\"dataframe\">\n",
       "  <thead>\n",
       "    <tr style=\"text-align: right;\">\n",
       "      <th>event_type</th>\n",
       "      <th>view</th>\n",
       "      <th>cart</th>\n",
       "      <th>remove_from_cart</th>\n",
       "      <th>purchase</th>\n",
       "    </tr>\n",
       "    <tr>\n",
       "      <th>user_session</th>\n",
       "      <th></th>\n",
       "      <th></th>\n",
       "      <th></th>\n",
       "      <th></th>\n",
       "    </tr>\n",
       "  </thead>\n",
       "  <tbody>\n",
       "    <tr>\n",
       "      <th>0000597b-de39-4a77-9fe5-02c8792ca14e</th>\n",
       "      <td>3.0</td>\n",
       "      <td>0.0</td>\n",
       "      <td>0.0</td>\n",
       "      <td>0.0</td>\n",
       "    </tr>\n",
       "    <tr>\n",
       "      <th>0000645a-8160-4a3d-91bf-154bff0a22e3</th>\n",
       "      <td>2.0</td>\n",
       "      <td>0.0</td>\n",
       "      <td>0.0</td>\n",
       "      <td>0.0</td>\n",
       "    </tr>\n",
       "    <tr>\n",
       "      <th>000090e1-da13-42b1-a31b-91a9ee5e6a88</th>\n",
       "      <td>1.0</td>\n",
       "      <td>0.0</td>\n",
       "      <td>0.0</td>\n",
       "      <td>0.0</td>\n",
       "    </tr>\n",
       "    <tr>\n",
       "      <th>0000b3cb-5422-4bf2-b8fe-5c1831d0dc1b</th>\n",
       "      <td>1.0</td>\n",
       "      <td>0.0</td>\n",
       "      <td>0.0</td>\n",
       "      <td>0.0</td>\n",
       "    </tr>\n",
       "    <tr>\n",
       "      <th>0000de26-bd58-42c9-9173-4763c76b398e</th>\n",
       "      <td>1.0</td>\n",
       "      <td>0.0</td>\n",
       "      <td>0.0</td>\n",
       "      <td>0.0</td>\n",
       "    </tr>\n",
       "    <tr>\n",
       "      <th>...</th>\n",
       "      <td>...</td>\n",
       "      <td>...</td>\n",
       "      <td>...</td>\n",
       "      <td>...</td>\n",
       "    </tr>\n",
       "    <tr>\n",
       "      <th>ffff6695-b64d-4a67-aa14-34b3b7f63c3f</th>\n",
       "      <td>2.0</td>\n",
       "      <td>0.0</td>\n",
       "      <td>0.0</td>\n",
       "      <td>0.0</td>\n",
       "    </tr>\n",
       "    <tr>\n",
       "      <th>ffff7d69-b706-4c64-9d6d-da57a04bc32b</th>\n",
       "      <td>1.0</td>\n",
       "      <td>0.0</td>\n",
       "      <td>0.0</td>\n",
       "      <td>0.0</td>\n",
       "    </tr>\n",
       "    <tr>\n",
       "      <th>ffff8044-2a22-4846-8a72-999e870abbe9</th>\n",
       "      <td>1.0</td>\n",
       "      <td>0.0</td>\n",
       "      <td>0.0</td>\n",
       "      <td>0.0</td>\n",
       "    </tr>\n",
       "    <tr>\n",
       "      <th>ffff91d4-7879-4a4b-8b26-c67915a27dc8</th>\n",
       "      <td>1.0</td>\n",
       "      <td>0.0</td>\n",
       "      <td>0.0</td>\n",
       "      <td>0.0</td>\n",
       "    </tr>\n",
       "    <tr>\n",
       "      <th>ffffbe0a-d2c2-47c7-afab-680bfdfda50d</th>\n",
       "      <td>1.0</td>\n",
       "      <td>0.0</td>\n",
       "      <td>0.0</td>\n",
       "      <td>0.0</td>\n",
       "    </tr>\n",
       "  </tbody>\n",
       "</table>\n",
       "<p>446054 rows × 4 columns</p>\n",
       "</div>"
      ],
      "text/plain": [
       "event_type                            view  cart  remove_from_cart  purchase\n",
       "user_session                                                                \n",
       "0000597b-de39-4a77-9fe5-02c8792ca14e   3.0   0.0               0.0       0.0\n",
       "0000645a-8160-4a3d-91bf-154bff0a22e3   2.0   0.0               0.0       0.0\n",
       "000090e1-da13-42b1-a31b-91a9ee5e6a88   1.0   0.0               0.0       0.0\n",
       "0000b3cb-5422-4bf2-b8fe-5c1831d0dc1b   1.0   0.0               0.0       0.0\n",
       "0000de26-bd58-42c9-9173-4763c76b398e   1.0   0.0               0.0       0.0\n",
       "...                                    ...   ...               ...       ...\n",
       "ffff6695-b64d-4a67-aa14-34b3b7f63c3f   2.0   0.0               0.0       0.0\n",
       "ffff7d69-b706-4c64-9d6d-da57a04bc32b   1.0   0.0               0.0       0.0\n",
       "ffff8044-2a22-4846-8a72-999e870abbe9   1.0   0.0               0.0       0.0\n",
       "ffff91d4-7879-4a4b-8b26-c67915a27dc8   1.0   0.0               0.0       0.0\n",
       "ffffbe0a-d2c2-47c7-afab-680bfdfda50d   1.0   0.0               0.0       0.0\n",
       "\n",
       "[446054 rows x 4 columns]"
      ]
     },
     "execution_count": 19,
     "metadata": {},
     "output_type": "execute_result"
    }
   ],
   "source": [
    "#  I will reorder the columns from left to right to reflect the sequence in which the actions actually occur\n",
    "\n",
    "df_ecom_us_et = df_ecom_us_et[['view','cart','remove_from_cart','purchase']]\n",
    "\n",
    "df_ecom_us_et"
   ]
  },
  {
   "cell_type": "code",
   "execution_count": 21,
   "metadata": {},
   "outputs": [
    {
     "data": {
      "text/plain": [
       "event_type\n",
       "view                2.2\n",
       "cart                1.3\n",
       "remove_from_cart    0.9\n",
       "purchase            0.3\n",
       "dtype: float64"
      ]
     },
     "execution_count": 21,
     "metadata": {},
     "output_type": "execute_result"
    }
   ],
   "source": [
    "# I calculate the average of each event type per session. These are the numbers we need to improve\n",
    "\n",
    "df_ecom_us_et.mean().round(1)"
   ]
  },
  {
   "cell_type": "markdown",
   "metadata": {},
   "source": [
    "### Are there differences in events by the hour?"
   ]
  },
  {
   "cell_type": "code",
   "execution_count": 10,
   "metadata": {},
   "outputs": [
    {
     "data": {
      "text/plain": [
       "event_type  hour\n",
       "cart        0        6475\n",
       "            1        5555\n",
       "            2        6433\n",
       "            3        8544\n",
       "            4       11242\n",
       "                    ...  \n",
       "view        19      63730\n",
       "            20      57311\n",
       "            21      38905\n",
       "            22      23043\n",
       "            23      13307\n",
       "Name: product_id, Length: 96, dtype: int64"
      ]
     },
     "execution_count": 10,
     "metadata": {},
     "output_type": "execute_result"
    }
   ],
   "source": [
    "# First I am going to create a df at the event_type-hour level\n",
    "\n",
    "ecom_et_hour = df_ecom.groupby(['event_type', 'hour']).product_id.count()\n",
    "\n",
    "ecom_et_hour"
   ]
  },
  {
   "cell_type": "code",
   "execution_count": 25,
   "metadata": {},
   "outputs": [
    {
     "data": {
      "text/html": [
       "<div>\n",
       "<style scoped>\n",
       "    .dataframe tbody tr th:only-of-type {\n",
       "        vertical-align: middle;\n",
       "    }\n",
       "\n",
       "    .dataframe tbody tr th {\n",
       "        vertical-align: top;\n",
       "    }\n",
       "\n",
       "    .dataframe thead th {\n",
       "        text-align: right;\n",
       "    }\n",
       "</style>\n",
       "<table border=\"1\" class=\"dataframe\">\n",
       "  <thead>\n",
       "    <tr style=\"text-align: right;\">\n",
       "      <th>event_type</th>\n",
       "      <th>cart</th>\n",
       "      <th>purchase</th>\n",
       "      <th>remove_from_cart</th>\n",
       "      <th>view</th>\n",
       "    </tr>\n",
       "    <tr>\n",
       "      <th>hour</th>\n",
       "      <th></th>\n",
       "      <th></th>\n",
       "      <th></th>\n",
       "      <th></th>\n",
       "    </tr>\n",
       "  </thead>\n",
       "  <tbody>\n",
       "    <tr>\n",
       "      <th>11</th>\n",
       "      <td>33284</td>\n",
       "      <td>8495</td>\n",
       "      <td>25496</td>\n",
       "      <td>57594</td>\n",
       "    </tr>\n",
       "    <tr>\n",
       "      <th>12</th>\n",
       "      <td>34258</td>\n",
       "      <td>8250</td>\n",
       "      <td>23714</td>\n",
       "      <td>57530</td>\n",
       "    </tr>\n",
       "    <tr>\n",
       "      <th>18</th>\n",
       "      <td>36435</td>\n",
       "      <td>8211</td>\n",
       "      <td>30551</td>\n",
       "      <td>59533</td>\n",
       "    </tr>\n",
       "    <tr>\n",
       "      <th>13</th>\n",
       "      <td>31996</td>\n",
       "      <td>8133</td>\n",
       "      <td>22852</td>\n",
       "      <td>55534</td>\n",
       "    </tr>\n",
       "    <tr>\n",
       "      <th>10</th>\n",
       "      <td>32901</td>\n",
       "      <td>7816</td>\n",
       "      <td>23982</td>\n",
       "      <td>56458</td>\n",
       "    </tr>\n",
       "    <tr>\n",
       "      <th>9</th>\n",
       "      <td>32095</td>\n",
       "      <td>7593</td>\n",
       "      <td>21680</td>\n",
       "      <td>54185</td>\n",
       "    </tr>\n",
       "    <tr>\n",
       "      <th>19</th>\n",
       "      <td>39609</td>\n",
       "      <td>7435</td>\n",
       "      <td>27666</td>\n",
       "      <td>63730</td>\n",
       "    </tr>\n",
       "    <tr>\n",
       "      <th>20</th>\n",
       "      <td>34828</td>\n",
       "      <td>7256</td>\n",
       "      <td>24985</td>\n",
       "      <td>57311</td>\n",
       "    </tr>\n",
       "    <tr>\n",
       "      <th>8</th>\n",
       "      <td>29526</td>\n",
       "      <td>7158</td>\n",
       "      <td>21156</td>\n",
       "      <td>49587</td>\n",
       "    </tr>\n",
       "    <tr>\n",
       "      <th>14</th>\n",
       "      <td>30451</td>\n",
       "      <td>7122</td>\n",
       "      <td>21835</td>\n",
       "      <td>52184</td>\n",
       "    </tr>\n",
       "    <tr>\n",
       "      <th>16</th>\n",
       "      <td>28775</td>\n",
       "      <td>6531</td>\n",
       "      <td>19791</td>\n",
       "      <td>51055</td>\n",
       "    </tr>\n",
       "    <tr>\n",
       "      <th>15</th>\n",
       "      <td>28789</td>\n",
       "      <td>6485</td>\n",
       "      <td>20162</td>\n",
       "      <td>49809</td>\n",
       "    </tr>\n",
       "    <tr>\n",
       "      <th>17</th>\n",
       "      <td>32525</td>\n",
       "      <td>6242</td>\n",
       "      <td>24330</td>\n",
       "      <td>55667</td>\n",
       "    </tr>\n",
       "    <tr>\n",
       "      <th>7</th>\n",
       "      <td>27069</td>\n",
       "      <td>5951</td>\n",
       "      <td>17883</td>\n",
       "      <td>46072</td>\n",
       "    </tr>\n",
       "    <tr>\n",
       "      <th>6</th>\n",
       "      <td>21993</td>\n",
       "      <td>5125</td>\n",
       "      <td>16223</td>\n",
       "      <td>38055</td>\n",
       "    </tr>\n",
       "    <tr>\n",
       "      <th>21</th>\n",
       "      <td>23228</td>\n",
       "      <td>4606</td>\n",
       "      <td>17396</td>\n",
       "      <td>38905</td>\n",
       "    </tr>\n",
       "    <tr>\n",
       "      <th>5</th>\n",
       "      <td>16890</td>\n",
       "      <td>3491</td>\n",
       "      <td>11913</td>\n",
       "      <td>27438</td>\n",
       "    </tr>\n",
       "    <tr>\n",
       "      <th>22</th>\n",
       "      <td>13589</td>\n",
       "      <td>2883</td>\n",
       "      <td>8680</td>\n",
       "      <td>23043</td>\n",
       "    </tr>\n",
       "    <tr>\n",
       "      <th>4</th>\n",
       "      <td>11242</td>\n",
       "      <td>2389</td>\n",
       "      <td>8095</td>\n",
       "      <td>18365</td>\n",
       "    </tr>\n",
       "    <tr>\n",
       "      <th>23</th>\n",
       "      <td>8057</td>\n",
       "      <td>1547</td>\n",
       "      <td>5959</td>\n",
       "      <td>13307</td>\n",
       "    </tr>\n",
       "    <tr>\n",
       "      <th>3</th>\n",
       "      <td>8544</td>\n",
       "      <td>1535</td>\n",
       "      <td>5331</td>\n",
       "      <td>11807</td>\n",
       "    </tr>\n",
       "    <tr>\n",
       "      <th>2</th>\n",
       "      <td>6433</td>\n",
       "      <td>1220</td>\n",
       "      <td>3509</td>\n",
       "      <td>8378</td>\n",
       "    </tr>\n",
       "    <tr>\n",
       "      <th>1</th>\n",
       "      <td>5555</td>\n",
       "      <td>1128</td>\n",
       "      <td>3930</td>\n",
       "      <td>7280</td>\n",
       "    </tr>\n",
       "    <tr>\n",
       "      <th>0</th>\n",
       "      <td>6475</td>\n",
       "      <td>962</td>\n",
       "      <td>3238</td>\n",
       "      <td>8731</td>\n",
       "    </tr>\n",
       "  </tbody>\n",
       "</table>\n",
       "</div>"
      ],
      "text/plain": [
       "event_type   cart  purchase  remove_from_cart   view\n",
       "hour                                                \n",
       "11          33284      8495             25496  57594\n",
       "12          34258      8250             23714  57530\n",
       "18          36435      8211             30551  59533\n",
       "13          31996      8133             22852  55534\n",
       "10          32901      7816             23982  56458\n",
       "9           32095      7593             21680  54185\n",
       "19          39609      7435             27666  63730\n",
       "20          34828      7256             24985  57311\n",
       "8           29526      7158             21156  49587\n",
       "14          30451      7122             21835  52184\n",
       "16          28775      6531             19791  51055\n",
       "15          28789      6485             20162  49809\n",
       "17          32525      6242             24330  55667\n",
       "7           27069      5951             17883  46072\n",
       "6           21993      5125             16223  38055\n",
       "21          23228      4606             17396  38905\n",
       "5           16890      3491             11913  27438\n",
       "22          13589      2883              8680  23043\n",
       "4           11242      2389              8095  18365\n",
       "23           8057      1547              5959  13307\n",
       "3            8544      1535              5331  11807\n",
       "2            6433      1220              3509   8378\n",
       "1            5555      1128              3930   7280\n",
       "0            6475       962              3238   8731"
      ]
     },
     "execution_count": 25,
     "metadata": {},
     "output_type": "execute_result"
    }
   ],
   "source": [
    "# I will use the values of the `event_type` variable as columns\n",
    "\n",
    "ecom_et_hour = ecom_et_hour.unstack(level=0)\n",
    "\n",
    "ecom_et_hour.sort_values(by='purchase', ascending=False)"
   ]
  },
  {
   "cell_type": "code",
   "execution_count": 33,
   "metadata": {},
   "outputs": [
    {
     "data": {
      "image/png": "[encoded data removed]",
      "text/plain": [
       "<Figure size 1800x720 with 1 Axes>"
      ]
     },
     "metadata": {
      "needs_background": "light"
     },
     "output_type": "display_data"
    }
   ],
   "source": [
    "ecom_et_hour['purchase'].plot(figsize=(25, 10))\n",
    "plt.xticks(range(0, 24));"
   ]
  },
  {
   "cell_type": "markdown",
   "metadata": {},
   "source": [
    "**INSIGHT 1: The majority of purchases are made between 11 a.m. and 1 p.m. as well as at 7 p.m.**"
   ]
  },
  {
   "cell_type": "markdown",
   "metadata": {},
   "source": [
    "### On average, what is the monthly revenue?"
   ]
  },
  {
   "cell_type": "code",
   "execution_count": 36,
   "metadata": {},
   "outputs": [
    {
     "data": {
      "text/plain": [
       "124309"
      ]
     },
     "execution_count": 36,
     "metadata": {},
     "output_type": "execute_result"
    }
   ],
   "source": [
    "df_ecom.loc[df_ecom.event_type == 'purchase'].groupby('month').price.sum().mean().astype(int)"
   ]
  },
  {
   "cell_type": "markdown",
   "metadata": {},
   "source": [
    "### In the latest month, what is the trend?"
   ]
  },
  {
   "cell_type": "code",
   "execution_count": 49,
   "metadata": {},
   "outputs": [
    {
     "data": {
      "text/html": [
       "<div>\n",
       "<style scoped>\n",
       "    .dataframe tbody tr th:only-of-type {\n",
       "        vertical-align: middle;\n",
       "    }\n",
       "\n",
       "    .dataframe tbody tr th {\n",
       "        vertical-align: top;\n",
       "    }\n",
       "\n",
       "    .dataframe thead th {\n",
       "        text-align: right;\n",
       "    }\n",
       "</style>\n",
       "<table border=\"1\" class=\"dataframe\">\n",
       "  <thead>\n",
       "    <tr style=\"text-align: right;\">\n",
       "      <th>event_type</th>\n",
       "      <th>cart</th>\n",
       "      <th>purchase</th>\n",
       "      <th>remove_from_cart</th>\n",
       "      <th>view</th>\n",
       "    </tr>\n",
       "    <tr>\n",
       "      <th>event_time</th>\n",
       "      <th></th>\n",
       "      <th></th>\n",
       "      <th></th>\n",
       "      <th></th>\n",
       "    </tr>\n",
       "  </thead>\n",
       "  <tbody>\n",
       "    <tr>\n",
       "      <th>2019-11-24 00:00:00+00:00</th>\n",
       "      <td>38069</td>\n",
       "      <td>9754</td>\n",
       "      <td>27973</td>\n",
       "      <td>56477</td>\n",
       "    </tr>\n",
       "    <tr>\n",
       "      <th>2019-12-01 00:00:00+00:00</th>\n",
       "      <td>31994</td>\n",
       "      <td>7493</td>\n",
       "      <td>23106</td>\n",
       "      <td>48883</td>\n",
       "    </tr>\n",
       "    <tr>\n",
       "      <th>2020-02-02 00:00:00+00:00</th>\n",
       "      <td>29193</td>\n",
       "      <td>7120</td>\n",
       "      <td>21102</td>\n",
       "      <td>52432</td>\n",
       "    </tr>\n",
       "    <tr>\n",
       "      <th>2020-01-19 00:00:00+00:00</th>\n",
       "      <td>28402</td>\n",
       "      <td>6913</td>\n",
       "      <td>22945</td>\n",
       "      <td>50210</td>\n",
       "    </tr>\n",
       "    <tr>\n",
       "      <th>2019-11-10 00:00:00+00:00</th>\n",
       "      <td>29142</td>\n",
       "      <td>6663</td>\n",
       "      <td>24008</td>\n",
       "      <td>46177</td>\n",
       "    </tr>\n",
       "    <tr>\n",
       "      <th>2020-01-26 00:00:00+00:00</th>\n",
       "      <td>26353</td>\n",
       "      <td>6359</td>\n",
       "      <td>18544</td>\n",
       "      <td>48478</td>\n",
       "    </tr>\n",
       "    <tr>\n",
       "      <th>2020-02-16 00:00:00+00:00</th>\n",
       "      <td>27836</td>\n",
       "      <td>6332</td>\n",
       "      <td>22601</td>\n",
       "      <td>47213</td>\n",
       "    </tr>\n",
       "    <tr>\n",
       "      <th>2020-02-23 00:00:00+00:00</th>\n",
       "      <td>25619</td>\n",
       "      <td>6000</td>\n",
       "      <td>18146</td>\n",
       "      <td>43627</td>\n",
       "    </tr>\n",
       "    <tr>\n",
       "      <th>2019-12-15 00:00:00+00:00</th>\n",
       "      <td>24636</td>\n",
       "      <td>5953</td>\n",
       "      <td>18246</td>\n",
       "      <td>45874</td>\n",
       "    </tr>\n",
       "    <tr>\n",
       "      <th>2020-02-09 00:00:00+00:00</th>\n",
       "      <td>28796</td>\n",
       "      <td>5853</td>\n",
       "      <td>20050</td>\n",
       "      <td>48422</td>\n",
       "    </tr>\n",
       "    <tr>\n",
       "      <th>2019-11-03 00:00:00+00:00</th>\n",
       "      <td>24087</td>\n",
       "      <td>5746</td>\n",
       "      <td>16491</td>\n",
       "      <td>39365</td>\n",
       "    </tr>\n",
       "    <tr>\n",
       "      <th>2019-10-27 00:00:00+00:00</th>\n",
       "      <td>25651</td>\n",
       "      <td>5665</td>\n",
       "      <td>18411</td>\n",
       "      <td>40383</td>\n",
       "    </tr>\n",
       "    <tr>\n",
       "      <th>2020-01-12 00:00:00+00:00</th>\n",
       "      <td>26264</td>\n",
       "      <td>5589</td>\n",
       "      <td>17956</td>\n",
       "      <td>46873</td>\n",
       "    </tr>\n",
       "    <tr>\n",
       "      <th>2019-10-13 00:00:00+00:00</th>\n",
       "      <td>28151</td>\n",
       "      <td>5422</td>\n",
       "      <td>17989</td>\n",
       "      <td>44410</td>\n",
       "    </tr>\n",
       "    <tr>\n",
       "      <th>2020-03-01 00:00:00+00:00</th>\n",
       "      <td>22638</td>\n",
       "      <td>5283</td>\n",
       "      <td>16163</td>\n",
       "      <td>39721</td>\n",
       "    </tr>\n",
       "    <tr>\n",
       "      <th>2019-11-17 00:00:00+00:00</th>\n",
       "      <td>25335</td>\n",
       "      <td>5141</td>\n",
       "      <td>17215</td>\n",
       "      <td>41170</td>\n",
       "    </tr>\n",
       "    <tr>\n",
       "      <th>2019-12-08 00:00:00+00:00</th>\n",
       "      <td>23265</td>\n",
       "      <td>5105</td>\n",
       "      <td>19443</td>\n",
       "      <td>42055</td>\n",
       "    </tr>\n",
       "    <tr>\n",
       "      <th>2019-10-20 00:00:00+00:00</th>\n",
       "      <td>23920</td>\n",
       "      <td>5033</td>\n",
       "      <td>15303</td>\n",
       "      <td>39486</td>\n",
       "    </tr>\n",
       "    <tr>\n",
       "      <th>2019-12-22 00:00:00+00:00</th>\n",
       "      <td>19927</td>\n",
       "      <td>4701</td>\n",
       "      <td>15452</td>\n",
       "      <td>39237</td>\n",
       "    </tr>\n",
       "    <tr>\n",
       "      <th>2019-10-06 00:00:00+00:00</th>\n",
       "      <td>31483</td>\n",
       "      <td>4440</td>\n",
       "      <td>14647</td>\n",
       "      <td>36353</td>\n",
       "    </tr>\n",
       "    <tr>\n",
       "      <th>2019-12-29 00:00:00+00:00</th>\n",
       "      <td>17051</td>\n",
       "      <td>3705</td>\n",
       "      <td>11102</td>\n",
       "      <td>32803</td>\n",
       "    </tr>\n",
       "    <tr>\n",
       "      <th>2020-01-05 00:00:00+00:00</th>\n",
       "      <td>16735</td>\n",
       "      <td>3294</td>\n",
       "      <td>13464</td>\n",
       "      <td>31909</td>\n",
       "    </tr>\n",
       "  </tbody>\n",
       "</table>\n",
       "</div>"
      ],
      "text/plain": [
       "event_type                  cart  purchase  remove_from_cart   view\n",
       "event_time                                                         \n",
       "2019-11-24 00:00:00+00:00  38069      9754             27973  56477\n",
       "2019-12-01 00:00:00+00:00  31994      7493             23106  48883\n",
       "2020-02-02 00:00:00+00:00  29193      7120             21102  52432\n",
       "2020-01-19 00:00:00+00:00  28402      6913             22945  50210\n",
       "2019-11-10 00:00:00+00:00  29142      6663             24008  46177\n",
       "2020-01-26 00:00:00+00:00  26353      6359             18544  48478\n",
       "2020-02-16 00:00:00+00:00  27836      6332             22601  47213\n",
       "2020-02-23 00:00:00+00:00  25619      6000             18146  43627\n",
       "2019-12-15 00:00:00+00:00  24636      5953             18246  45874\n",
       "2020-02-09 00:00:00+00:00  28796      5853             20050  48422\n",
       "2019-11-03 00:00:00+00:00  24087      5746             16491  39365\n",
       "2019-10-27 00:00:00+00:00  25651      5665             18411  40383\n",
       "2020-01-12 00:00:00+00:00  26264      5589             17956  46873\n",
       "2019-10-13 00:00:00+00:00  28151      5422             17989  44410\n",
       "2020-03-01 00:00:00+00:00  22638      5283             16163  39721\n",
       "2019-11-17 00:00:00+00:00  25335      5141             17215  41170\n",
       "2019-12-08 00:00:00+00:00  23265      5105             19443  42055\n",
       "2019-10-20 00:00:00+00:00  23920      5033             15303  39486\n",
       "2019-12-22 00:00:00+00:00  19927      4701             15452  39237\n",
       "2019-10-06 00:00:00+00:00  31483      4440             14647  36353\n",
       "2019-12-29 00:00:00+00:00  17051      3705             11102  32803\n",
       "2020-01-05 00:00:00+00:00  16735      3294             13464  31909"
      ]
     },
     "execution_count": 49,
     "metadata": {},
     "output_type": "execute_result"
    }
   ],
   "source": [
    "df_ecom_trend = df_ecom.groupby(\"event_type\").resample('W').event_type.count().unstack(level=0)\n",
    "\n",
    "df_ecom_trend.sort_values('purchase', ascending=False)"
   ]
  },
  {
   "cell_type": "code",
   "execution_count": 56,
   "metadata": {},
   "outputs": [
    {
     "data": {
      "image/png": "[encoded data removed]",
      "text/plain": [
       "<Figure size 1800x720 with 1 Axes>"
      ]
     },
     "metadata": {
      "needs_background": "light"
     },
     "output_type": "display_data"
    }
   ],
   "source": [
    "# Extract x and y data for plotting\n",
    "x_data = np.arange(len(df_ecom_trend.index))\n",
    "y_data = df_ecom_trend['purchase'].values\n",
    "\n",
    "slope, intercept = np.polyfit(x_data, y_data, 1)\n",
    "line = slope * x_data + intercept\n",
    "\n",
    "plt.figure(figsize=(25, 10))\n",
    "plt.plot(df_ecom_trend.index, df_ecom_trend['purchase'], label='Original Data')\n",
    "plt.plot(df_ecom_trend.index, line, label='Trendline', linestyle='--')\n",
    "plt.xticks(rotation=90)\n",
    "plt.legend();"
   ]
  },
  {
   "cell_type": "code",
   "execution_count": 59,
   "metadata": {},
   "outputs": [
    {
     "data": {
      "text/plain": [
       "5"
      ]
     },
     "execution_count": 59,
     "metadata": {},
     "output_type": "execute_result"
    }
   ],
   "source": [
    "# Calculate the percentage change\n",
    "start_point = line[0]\n",
    "end_point = line[-1]\n",
    "\n",
    "percentage_change = ((end_point - start_point) / start_point) * 100\n",
    "\n",
    "percentage_change.astype(int)"
   ]
  },
  {
   "cell_type": "markdown",
   "metadata": {},
   "source": [
    "Statista reported that the growth rate of the global cosmetics market (not specifically e-commerce) was [5.25% in 2019](https://www.statista.com/statistics/297070/growth-rate-of-the-global-cosmetics-market/). Although I couldn't find information specific to the cosmetics e-commerce sector for comparison, I will continue to explore ways to improve these numbers."
   ]
  },
  {
   "cell_type": "markdown",
   "metadata": {},
   "source": [
    "Based on the previous graphic, I'd like to gather more information about purchases around Black Friday (2019-11-29) and Cyber Monday (2019-12-02)"
   ]
  },
  {
   "cell_type": "code",
   "execution_count": 13,
   "metadata": {},
   "outputs": [
    {
     "data": {
      "text/html": [
       "<div>\n",
       "<style scoped>\n",
       "    .dataframe tbody tr th:only-of-type {\n",
       "        vertical-align: middle;\n",
       "    }\n",
       "\n",
       "    .dataframe tbody tr th {\n",
       "        vertical-align: top;\n",
       "    }\n",
       "\n",
       "    .dataframe thead th {\n",
       "        text-align: right;\n",
       "    }\n",
       "</style>\n",
       "<table border=\"1\" class=\"dataframe\">\n",
       "  <thead>\n",
       "    <tr style=\"text-align: right;\">\n",
       "      <th></th>\n",
       "      <th>Date</th>\n",
       "      <th>Number_of_Purchases</th>\n",
       "    </tr>\n",
       "  </thead>\n",
       "  <tbody>\n",
       "    <tr>\n",
       "      <th>21</th>\n",
       "      <td>2019-11-22 00:00:00+00:00</td>\n",
       "      <td>2183</td>\n",
       "    </tr>\n",
       "    <tr>\n",
       "      <th>28</th>\n",
       "      <td>2019-11-29 00:00:00+00:00</td>\n",
       "      <td>1949</td>\n",
       "    </tr>\n",
       "    <tr>\n",
       "      <th>23</th>\n",
       "      <td>2019-11-24 00:00:00+00:00</td>\n",
       "      <td>1896</td>\n",
       "    </tr>\n",
       "    <tr>\n",
       "      <th>27</th>\n",
       "      <td>2019-11-28 00:00:00+00:00</td>\n",
       "      <td>1715</td>\n",
       "    </tr>\n",
       "    <tr>\n",
       "      <th>20</th>\n",
       "      <td>2019-11-21 00:00:00+00:00</td>\n",
       "      <td>1671</td>\n",
       "    </tr>\n",
       "  </tbody>\n",
       "</table>\n",
       "</div>"
      ],
      "text/plain": [
       "                        Date  Number_of_Purchases\n",
       "21 2019-11-22 00:00:00+00:00                 2183\n",
       "28 2019-11-29 00:00:00+00:00                 1949\n",
       "23 2019-11-24 00:00:00+00:00                 1896\n",
       "27 2019-11-28 00:00:00+00:00                 1715\n",
       "20 2019-11-21 00:00:00+00:00                 1671"
      ]
     },
     "execution_count": 13,
     "metadata": {},
     "output_type": "execute_result"
    }
   ],
   "source": [
    "# Filter DataFrame for 'purchase' event_type and specific date range\n",
    "df_ecom_et_purchasenovdec = df_ecom[(df_ecom['event_type'] == 'purchase') & (df_ecom.index >= '2019-11-01') & (df_ecom.index <= '2019-12-15')]\n",
    "\n",
    "# Group by date and count the number of purchases\n",
    "df_ecom_ev_purchasenovdec_daily = df_ecom_et_purchasenovdec.resample('D').count()['event_type'].reset_index()\n",
    "\n",
    "# Rename columns for better understanding\n",
    "df_ecom_ev_purchasenovdec_daily.columns = ['Date', 'Number_of_Purchases']\n",
    "\n",
    "# Sort the DataFrame by number of purchases in descending order\n",
    "df_ecom_ev_purchasenovdec_daily.sort_values(by='Number_of_Purchases', ascending=False).head(5)"
   ]
  },
  {
   "cell_type": "code",
   "execution_count": 7,
   "metadata": {},
   "outputs": [
    {
     "data": {
      "image/png": "[encoded data removed]",
      "text/plain": [
       "<Figure size 1800x720 with 1 Axes>"
      ]
     },
     "metadata": {
      "needs_background": "light"
     },
     "output_type": "display_data"
    }
   ],
   "source": [
    "# Filter only for 'purchase' event_type\n",
    "df_ecom_evtpruchase = df_ecom[df_ecom['event_type'] == 'purchase']\n",
    "\n",
    "# Resample the df to get daily counts of purchases\n",
    "df_ecom_evtpruchase_daily = df_ecom_evtpruchase.resample('D').count()['event_type']\n",
    "\n",
    "# Plotting the graph\n",
    "plt.figure(figsize=(25, 10))\n",
    "plt.xlabel(\"Date\")\n",
    "plt.ylabel(\"Number of Purchases\")\n",
    "\n",
    "plt.plot(df_ecom_evtpruchase_daily.index, df_ecom_evtpruchase_daily.values, marker='o')\n",
    "\n",
    "dates = pd.date_range('2019-11-01', '2020-12-15', freq='D')\n",
    "plt.xticks(dates, rotation=90) \n",
    "plt.xlim(pd.Timestamp('2019-11-01'), pd.Timestamp('2019-12-15'));  # Setting x-axis limits\n",
    "\n",
    "# Highlight Black Friday and Cyber Monday\n",
    "plt.axvline(pd.Timestamp('2019-11-29'), color='r', linestyle='--', linewidth=2, label='Black Friday')\n",
    "plt.axvline(pd.Timestamp('2019-12-02'), color='g', linestyle='--', linewidth=2, label='Cyber Monday')\n",
    "\n",
    "plt.legend();"
   ]
  },
  {
   "cell_type": "markdown",
   "metadata": {},
   "source": [
    "**INSIGHT!  The days with the highest sales fall between November 21st and November 30th.**"
   ]
  },
  {
   "cell_type": "markdown",
   "metadata": {},
   "source": [
    "## UNDERSTANDING CLIENTS"
   ]
  },
  {
   "cell_type": "markdown",
   "metadata": {},
   "source": [
    "### Introduccion"
   ]
  },
  {
   "cell_type": "markdown",
   "metadata": {},
   "source": [
    "I'm going to create a new DataFrame at the client level that will include the following information: total number of purchases, total products purchased, average product price, number of products per purchase, date of last purchase, total amount paid and average purchase amount."
   ]
  },
  {
   "cell_type": "code",
   "execution_count": 3,
   "metadata": {},
   "outputs": [
    {
     "data": {
      "text/html": [
       "<div>\n",
       "<style scoped>\n",
       "    .dataframe tbody tr th:only-of-type {\n",
       "        vertical-align: middle;\n",
       "    }\n",
       "\n",
       "    .dataframe tbody tr th {\n",
       "        vertical-align: top;\n",
       "    }\n",
       "\n",
       "    .dataframe thead th {\n",
       "        text-align: right;\n",
       "    }\n",
       "</style>\n",
       "<table border=\"1\" class=\"dataframe\">\n",
       "  <thead>\n",
       "    <tr style=\"text-align: right;\">\n",
       "      <th></th>\n",
       "      <th>tot_prod_purch</th>\n",
       "      <th>tot_purch</th>\n",
       "      <th>av_prod_price</th>\n",
       "      <th>last_purch</th>\n",
       "      <th>total_spending</th>\n",
       "      <th>prod_per_purch</th>\n",
       "    </tr>\n",
       "    <tr>\n",
       "      <th>user_id</th>\n",
       "      <th></th>\n",
       "      <th></th>\n",
       "      <th></th>\n",
       "      <th></th>\n",
       "      <th></th>\n",
       "      <th></th>\n",
       "    </tr>\n",
       "  </thead>\n",
       "  <tbody>\n",
       "    <tr>\n",
       "      <th>25392526</th>\n",
       "      <td>3</td>\n",
       "      <td>1</td>\n",
       "      <td>7.38</td>\n",
       "      <td>2019-12-18</td>\n",
       "      <td>22.14</td>\n",
       "      <td>3.0</td>\n",
       "    </tr>\n",
       "    <tr>\n",
       "      <th>27756757</th>\n",
       "      <td>1</td>\n",
       "      <td>1</td>\n",
       "      <td>20.63</td>\n",
       "      <td>2020-01-27</td>\n",
       "      <td>20.63</td>\n",
       "      <td>1.0</td>\n",
       "    </tr>\n",
       "    <tr>\n",
       "      <th>50748978</th>\n",
       "      <td>9</td>\n",
       "      <td>1</td>\n",
       "      <td>1.11</td>\n",
       "      <td>2019-12-14</td>\n",
       "      <td>9.99</td>\n",
       "      <td>9.0</td>\n",
       "    </tr>\n",
       "    <tr>\n",
       "      <th>52747911</th>\n",
       "      <td>3</td>\n",
       "      <td>1</td>\n",
       "      <td>7.67</td>\n",
       "      <td>2019-10-10</td>\n",
       "      <td>23.01</td>\n",
       "      <td>3.0</td>\n",
       "    </tr>\n",
       "    <tr>\n",
       "      <th>65241811</th>\n",
       "      <td>5</td>\n",
       "      <td>1</td>\n",
       "      <td>8.36</td>\n",
       "      <td>2019-11-11</td>\n",
       "      <td>41.80</td>\n",
       "      <td>5.0</td>\n",
       "    </tr>\n",
       "    <tr>\n",
       "      <th>...</th>\n",
       "      <td>...</td>\n",
       "      <td>...</td>\n",
       "      <td>...</td>\n",
       "      <td>...</td>\n",
       "      <td>...</td>\n",
       "      <td>...</td>\n",
       "    </tr>\n",
       "    <tr>\n",
       "      <th>621995551</th>\n",
       "      <td>5</td>\n",
       "      <td>1</td>\n",
       "      <td>2.09</td>\n",
       "      <td>2020-02-29</td>\n",
       "      <td>10.45</td>\n",
       "      <td>5.0</td>\n",
       "    </tr>\n",
       "    <tr>\n",
       "      <th>622021687</th>\n",
       "      <td>1</td>\n",
       "      <td>1</td>\n",
       "      <td>13.33</td>\n",
       "      <td>2020-02-29</td>\n",
       "      <td>13.33</td>\n",
       "      <td>1.0</td>\n",
       "    </tr>\n",
       "    <tr>\n",
       "      <th>622041514</th>\n",
       "      <td>3</td>\n",
       "      <td>1</td>\n",
       "      <td>0.63</td>\n",
       "      <td>2020-02-29</td>\n",
       "      <td>1.89</td>\n",
       "      <td>3.0</td>\n",
       "    </tr>\n",
       "    <tr>\n",
       "      <th>622042698</th>\n",
       "      <td>3</td>\n",
       "      <td>1</td>\n",
       "      <td>28.04</td>\n",
       "      <td>2020-02-29</td>\n",
       "      <td>84.12</td>\n",
       "      <td>3.0</td>\n",
       "    </tr>\n",
       "    <tr>\n",
       "      <th>622065819</th>\n",
       "      <td>4</td>\n",
       "      <td>1</td>\n",
       "      <td>5.12</td>\n",
       "      <td>2020-02-29</td>\n",
       "      <td>20.48</td>\n",
       "      <td>4.0</td>\n",
       "    </tr>\n",
       "  </tbody>\n",
       "</table>\n",
       "<p>11040 rows × 6 columns</p>\n",
       "</div>"
      ],
      "text/plain": [
       "           tot_prod_purch  tot_purch  av_prod_price  last_purch  \\\n",
       "user_id                                                           \n",
       "25392526                3          1           7.38  2019-12-18   \n",
       "27756757                1          1          20.63  2020-01-27   \n",
       "50748978                9          1           1.11  2019-12-14   \n",
       "52747911                3          1           7.67  2019-10-10   \n",
       "65241811                5          1           8.36  2019-11-11   \n",
       "...                   ...        ...            ...         ...   \n",
       "621995551               5          1           2.09  2020-02-29   \n",
       "622021687               1          1          13.33  2020-02-29   \n",
       "622041514               3          1           0.63  2020-02-29   \n",
       "622042698               3          1          28.04  2020-02-29   \n",
       "622065819               4          1           5.12  2020-02-29   \n",
       "\n",
       "           total_spending  prod_per_purch  \n",
       "user_id                                    \n",
       "25392526            22.14             3.0  \n",
       "27756757            20.63             1.0  \n",
       "50748978             9.99             9.0  \n",
       "52747911            23.01             3.0  \n",
       "65241811            41.80             5.0  \n",
       "...                   ...             ...  \n",
       "621995551           10.45             5.0  \n",
       "622021687           13.33             1.0  \n",
       "622041514            1.89             3.0  \n",
       "622042698           84.12             3.0  \n",
       "622065819           20.48             4.0  \n",
       "\n",
       "[11040 rows x 6 columns]"
      ]
     },
     "execution_count": 3,
     "metadata": {},
     "output_type": "execute_result"
    }
   ],
   "source": [
    "# Create a new DataFrame containing only the records where the value in the 'event_type' column is 'purchase'. Then, group the data by 'user_id' and aggregate various variables\n",
    "df_ecom_userid = df_ecom[df_ecom['event_type'] == 'purchase'].groupby(['user_id']).agg({'product_id':'count', 'user_session':'nunique', 'price':'mean', 'date':'max'}).round({'price':2})\n",
    "\n",
    "# Rename\n",
    "df_ecom_userid.columns = ['tot_prod_purch', 'tot_purch', 'av_prod_price', 'last_purch']\n",
    "\n",
    "# I add additional variables\n",
    "df_ecom_userid['total_spending'] = df_ecom_userid.tot_prod_purch * df_ecom_userid.av_prod_price\n",
    "df_ecom_userid['prod_per_purch'] = df_ecom_userid.tot_prod_purch / df_ecom_userid.tot_purch\n",
    "\n",
    "df_ecom_userid"
   ]
  },
  {
   "cell_type": "markdown",
   "metadata": {},
   "source": [
    "### How are customers distributed based on their spending?"
   ]
  },
  {
   "cell_type": "code",
   "execution_count": 16,
   "metadata": {},
   "outputs": [
    {
     "data": {
      "image/png": "[encoded data removed]",
      "text/plain": [
       "<Figure size 1500x700 with 1 Axes>"
      ]
     },
     "metadata": {},
     "output_type": "display_data"
    }
   ],
   "source": [
    "plt.figure(figsize=(15, 7))\n",
    "sns.histplot(data=df_ecom_userid, x='total_spending', bins=200)\n",
    "plt.xlim([0, 200]);"
   ]
  },
  {
   "cell_type": "markdown",
   "metadata": {},
   "source": [
    "The vast majority of clients spend less than 50€"
   ]
  },
  {
   "cell_type": "markdown",
   "metadata": {},
   "source": [
    "### How are customers distributed based on the number of purchases?"
   ]
  },
  {
   "cell_type": "code",
   "execution_count": 14,
   "metadata": {},
   "outputs": [
    {
     "data": {
      "image/png": "[encoded data removed]",
      "text/plain": [
       "<Figure size 1500x700 with 1 Axes>"
      ]
     },
     "metadata": {},
     "output_type": "display_data"
    }
   ],
   "source": [
    "plt.figure(figsize=(15, 7))\n",
    "sns.countplot(data=df_ecom_userid, x='tot_purch');\n",
    "plt.xlim([0, 10]);"
   ]
  },
  {
   "cell_type": "code",
   "execution_count": 30,
   "metadata": {},
   "outputs": [
    {
     "data": {
      "text/plain": [
       "78"
      ]
     },
     "execution_count": 30,
     "metadata": {},
     "output_type": "execute_result"
    }
   ],
   "source": [
    "# Percentage of customers who only make one purchase\n",
    "\n",
    "int((df_ecom_userid[df_ecom_userid['tot_purch'] == 1].shape[0] / df_ecom_userid.shape[0]) * 100)"
   ]
  },
  {
   "cell_type": "markdown",
   "metadata": {},
   "source": [
    "**INSIGHT! The vast majority of customers make only one purchase**"
   ]
  },
  {
   "cell_type": "markdown",
   "metadata": {},
   "source": [
    "### On average, how many products does a customer buy in a single purchase?"
   ]
  },
  {
   "cell_type": "code",
   "execution_count": 15,
   "metadata": {},
   "outputs": [
    {
     "data": {
      "text/plain": [
       "count    11040.0\n",
       "mean         7.8\n",
       "std          9.5\n",
       "min          1.0\n",
       "25%          3.0\n",
       "50%          5.0\n",
       "75%         10.0\n",
       "max        219.0\n",
       "Name: prod_per_purch, dtype: float64"
      ]
     },
     "execution_count": 15,
     "metadata": {},
     "output_type": "execute_result"
    }
   ],
   "source": [
    "df_ecom_userid.prod_per_purch.describe().round(1)"
   ]
  },
  {
   "cell_type": "markdown",
   "metadata": {},
   "source": [
    "**INSIGHT! The average is nearly eight products per purchase**"
   ]
  },
  {
   "cell_type": "markdown",
   "metadata": {},
   "source": [
    "### Which customers generated the most revenue?"
   ]
  },
  {
   "cell_type": "code",
   "execution_count": 28,
   "metadata": {},
   "outputs": [
    {
     "data": {
      "text/html": [
       "<div>\n",
       "<style scoped>\n",
       "    .dataframe tbody tr th:only-of-type {\n",
       "        vertical-align: middle;\n",
       "    }\n",
       "\n",
       "    .dataframe tbody tr th {\n",
       "        vertical-align: top;\n",
       "    }\n",
       "\n",
       "    .dataframe thead th {\n",
       "        text-align: right;\n",
       "    }\n",
       "</style>\n",
       "<table border=\"1\" class=\"dataframe\">\n",
       "  <thead>\n",
       "    <tr style=\"text-align: right;\">\n",
       "      <th></th>\n",
       "      <th>tot_prod_purch</th>\n",
       "      <th>tot_purch</th>\n",
       "      <th>av_prod_price</th>\n",
       "      <th>last_purch</th>\n",
       "      <th>total_spending</th>\n",
       "      <th>prod_per_purch</th>\n",
       "    </tr>\n",
       "    <tr>\n",
       "      <th>user_id</th>\n",
       "      <th></th>\n",
       "      <th></th>\n",
       "      <th></th>\n",
       "      <th></th>\n",
       "      <th></th>\n",
       "      <th></th>\n",
       "    </tr>\n",
       "  </thead>\n",
       "  <tbody>\n",
       "    <tr>\n",
       "      <th>573823111</th>\n",
       "      <td>268</td>\n",
       "      <td>2</td>\n",
       "      <td>5.82</td>\n",
       "      <td>2020-02-21</td>\n",
       "      <td>1559.76</td>\n",
       "      <td>134.000000</td>\n",
       "    </tr>\n",
       "    <tr>\n",
       "      <th>539751397</th>\n",
       "      <td>236</td>\n",
       "      <td>13</td>\n",
       "      <td>6.16</td>\n",
       "      <td>2020-02-19</td>\n",
       "      <td>1453.76</td>\n",
       "      <td>18.153846</td>\n",
       "    </tr>\n",
       "    <tr>\n",
       "      <th>556579890</th>\n",
       "      <td>506</td>\n",
       "      <td>4</td>\n",
       "      <td>2.75</td>\n",
       "      <td>2020-02-27</td>\n",
       "      <td>1391.50</td>\n",
       "      <td>126.500000</td>\n",
       "    </tr>\n",
       "    <tr>\n",
       "      <th>442763940</th>\n",
       "      <td>195</td>\n",
       "      <td>8</td>\n",
       "      <td>6.37</td>\n",
       "      <td>2019-12-23</td>\n",
       "      <td>1242.15</td>\n",
       "      <td>24.375000</td>\n",
       "    </tr>\n",
       "    <tr>\n",
       "      <th>561592095</th>\n",
       "      <td>94</td>\n",
       "      <td>3</td>\n",
       "      <td>11.81</td>\n",
       "      <td>2019-10-31</td>\n",
       "      <td>1110.14</td>\n",
       "      <td>31.333333</td>\n",
       "    </tr>\n",
       "    <tr>\n",
       "      <th>527739278</th>\n",
       "      <td>244</td>\n",
       "      <td>13</td>\n",
       "      <td>4.39</td>\n",
       "      <td>2020-02-16</td>\n",
       "      <td>1071.16</td>\n",
       "      <td>18.769231</td>\n",
       "    </tr>\n",
       "    <tr>\n",
       "      <th>430220205</th>\n",
       "      <td>190</td>\n",
       "      <td>6</td>\n",
       "      <td>4.99</td>\n",
       "      <td>2020-02-29</td>\n",
       "      <td>948.10</td>\n",
       "      <td>31.666667</td>\n",
       "    </tr>\n",
       "    <tr>\n",
       "      <th>527806771</th>\n",
       "      <td>195</td>\n",
       "      <td>13</td>\n",
       "      <td>4.86</td>\n",
       "      <td>2020-02-20</td>\n",
       "      <td>947.70</td>\n",
       "      <td>15.000000</td>\n",
       "    </tr>\n",
       "    <tr>\n",
       "      <th>491009486</th>\n",
       "      <td>219</td>\n",
       "      <td>1</td>\n",
       "      <td>4.32</td>\n",
       "      <td>2020-02-12</td>\n",
       "      <td>946.08</td>\n",
       "      <td>219.000000</td>\n",
       "    </tr>\n",
       "    <tr>\n",
       "      <th>520501669</th>\n",
       "      <td>64</td>\n",
       "      <td>11</td>\n",
       "      <td>14.27</td>\n",
       "      <td>2020-01-17</td>\n",
       "      <td>913.28</td>\n",
       "      <td>5.818182</td>\n",
       "    </tr>\n",
       "  </tbody>\n",
       "</table>\n",
       "</div>"
      ],
      "text/plain": [
       "           tot_prod_purch  tot_purch  av_prod_price  last_purch  \\\n",
       "user_id                                                           \n",
       "573823111             268          2           5.82  2020-02-21   \n",
       "539751397             236         13           6.16  2020-02-19   \n",
       "556579890             506          4           2.75  2020-02-27   \n",
       "442763940             195          8           6.37  2019-12-23   \n",
       "561592095              94          3          11.81  2019-10-31   \n",
       "527739278             244         13           4.39  2020-02-16   \n",
       "430220205             190          6           4.99  2020-02-29   \n",
       "527806771             195         13           4.86  2020-02-20   \n",
       "491009486             219          1           4.32  2020-02-12   \n",
       "520501669              64         11          14.27  2020-01-17   \n",
       "\n",
       "           total_spending  prod_per_purch  \n",
       "user_id                                    \n",
       "573823111         1559.76      134.000000  \n",
       "539751397         1453.76       18.153846  \n",
       "556579890         1391.50      126.500000  \n",
       "442763940         1242.15       24.375000  \n",
       "561592095         1110.14       31.333333  \n",
       "527739278         1071.16       18.769231  \n",
       "430220205          948.10       31.666667  \n",
       "527806771          947.70       15.000000  \n",
       "491009486          946.08      219.000000  \n",
       "520501669          913.28        5.818182  "
      ]
     },
     "execution_count": 28,
     "metadata": {},
     "output_type": "execute_result"
    }
   ],
   "source": [
    "df_ecom_userid.nlargest(n=10, columns='total_spending')"
   ]
  },
  {
   "cell_type": "markdown",
   "metadata": {},
   "source": [
    "### Which customers are most valuable for targeting in future campaigns?"
   ]
  },
  {
   "cell_type": "markdown",
   "metadata": {},
   "source": [
    "I will employ the RFM (Recency, Frequency, Monetary) technique here to identify the most valuable customers for targeted marketing campaigns. \n",
    "\n",
    "RFM stands for Recency (how recently a customer has made a purchase), Frequency (how often they purchase) and Monetary (how much the customer spends). \n",
    "\n",
    "By segmenting customers based on these three dimensions, we can better understand customer behavior and pinpoint those who are most likely to respond to future marketing efforts. This strategic approach enables us to allocate our resources more efficiently."
   ]
  },
  {
   "cell_type": "code",
   "execution_count": 6,
   "metadata": {},
   "outputs": [
    {
     "data": {
      "text/plain": [
       "Frequency\n",
       "1     1.3\n",
       "2     7.1\n",
       "3    12.0\n",
       "4    16.5\n",
       "5    23.5\n",
       "Name: tot_purch, dtype: float64"
      ]
     },
     "execution_count": 6,
     "metadata": {},
     "output_type": "execute_result"
    }
   ],
   "source": [
    "df_ecom_userid['Frequency'] = df_ecom_userid.tot_purch.transform(lambda x: pd.cut(x, 5, labels=False)) + 1\n",
    "\n",
    "df_ecom_userid.groupby('Frequency').tot_purch.mean().round(1)"
   ]
  },
  {
   "cell_type": "code",
   "execution_count": 8,
   "metadata": {},
   "outputs": [
    {
     "data": {
      "text/plain": [
       "Monetary\n",
       "1      48.4\n",
       "2     411.0\n",
       "3     765.2\n",
       "4    1044.2\n",
       "5    1468.3\n",
       "Name: total_spending, dtype: float64"
      ]
     },
     "execution_count": 8,
     "metadata": {},
     "output_type": "execute_result"
    }
   ],
   "source": [
    "df_ecom_userid['Monetary'] = df_ecom_userid.total_spending.transform(lambda x: pd.cut(x, 5, labels=False)) + 1\n",
    "\n",
    "df_ecom_userid.groupby('Monetary').total_spending.mean().round(1)"
   ]
  },
  {
   "cell_type": "markdown",
   "metadata": {},
   "source": [
    "## UNDERSTANDING PRODUCTS?"
   ]
  },
  {
   "cell_type": "markdown",
   "metadata": {},
   "source": [
    "### Introduccion"
   ]
  },
  {
   "cell_type": "markdown",
   "metadata": {},
   "source": [
    "### What are the most purchased products?"
   ]
  },
  {
   "cell_type": "markdown",
   "metadata": {},
   "source": [
    "### Are there products that haven't been purchased and can be removed from the catalog?"
   ]
  },
  {
   "cell_type": "markdown",
   "metadata": {},
   "source": [
    "### What is the correlation between the price of a product and its sales volume?"
   ]
  },
  {
   "cell_type": "markdown",
   "metadata": {},
   "source": [
    "### Are there products that are more frequently removed from the cart?"
   ]
  },
  {
   "cell_type": "markdown",
   "metadata": {},
   "source": [
    "### What are the most viewed products?"
   ]
  },
  {
   "cell_type": "markdown",
   "metadata": {},
   "source": [
    "### Are there products that are viewed frequently but not purchased?"
   ]
  },
  {
   "cell_type": "markdown",
   "metadata": {},
   "source": [
    "### Building a product recommendation system"
   ]
  },
  {
   "cell_type": "markdown",
   "metadata": {},
   "source": [
    "# **<font color = '#3498eb'>CONCLUSIONS</font>**"
   ]
  },
  {
   "cell_type": "markdown",
   "metadata": {},
   "source": [
    "# **<font color = 'purple'>I save all the work I did today</font>**"
   ]
  },
  {
   "cell_type": "code",
   "execution_count": 40,
   "metadata": {},
   "outputs": [],
   "source": [
    "# 14/10/2023 17:05\n",
    "df_ecom.to_pickle('F:\\\\GDrive_DATA\\\\DS4B\\\\DS_MASTERY\\\\02_BUSINESS_ANALYTICS\\\\07_CASOS\\\\CASO3_OPTIMIZACIÓN_ECOMMERCE\\\\df_ecomNoindex.pickle')"
   ]
  },
  {
   "cell_type": "code",
   "execution_count": 2,
   "metadata": {},
   "outputs": [
    {
     "data": {
      "text/html": [
       "<div>\n",
       "<style scoped>\n",
       "    .dataframe tbody tr th:only-of-type {\n",
       "        vertical-align: middle;\n",
       "    }\n",
       "\n",
       "    .dataframe tbody tr th {\n",
       "        vertical-align: top;\n",
       "    }\n",
       "\n",
       "    .dataframe thead th {\n",
       "        text-align: right;\n",
       "    }\n",
       "</style>\n",
       "<table border=\"1\" class=\"dataframe\">\n",
       "  <thead>\n",
       "    <tr style=\"text-align: right;\">\n",
       "      <th></th>\n",
       "      <th>event_type</th>\n",
       "      <th>product_id</th>\n",
       "      <th>category_id</th>\n",
       "      <th>price</th>\n",
       "      <th>user_id</th>\n",
       "      <th>user_session</th>\n",
       "      <th>date</th>\n",
       "      <th>year</th>\n",
       "      <th>month</th>\n",
       "      <th>day</th>\n",
       "      <th>hour</th>\n",
       "      <th>minute</th>\n",
       "      <th>second</th>\n",
       "      <th>holiday</th>\n",
       "      <th>valentines_day</th>\n",
       "      <th>mothers_day</th>\n",
       "      <th>cyber_monday</th>\n",
       "      <th>womens_day</th>\n",
       "      <th>halloween</th>\n",
       "      <th>prime_day</th>\n",
       "      <th>christmas</th>\n",
       "      <th>new_years_eve</th>\n",
       "      <th>black_friday</th>\n",
       "    </tr>\n",
       "    <tr>\n",
       "      <th>event_time</th>\n",
       "      <th></th>\n",
       "      <th></th>\n",
       "      <th></th>\n",
       "      <th></th>\n",
       "      <th></th>\n",
       "      <th></th>\n",
       "      <th></th>\n",
       "      <th></th>\n",
       "      <th></th>\n",
       "      <th></th>\n",
       "      <th></th>\n",
       "      <th></th>\n",
       "      <th></th>\n",
       "      <th></th>\n",
       "      <th></th>\n",
       "      <th></th>\n",
       "      <th></th>\n",
       "      <th></th>\n",
       "      <th></th>\n",
       "      <th></th>\n",
       "      <th></th>\n",
       "      <th></th>\n",
       "      <th></th>\n",
       "    </tr>\n",
       "  </thead>\n",
       "  <tbody>\n",
       "    <tr>\n",
       "      <th>2019-10-01 00:01:46+00:00</th>\n",
       "      <td>view</td>\n",
       "      <td>5843665</td>\n",
       "      <td>1487580005092295424</td>\n",
       "      <td>9.44</td>\n",
       "      <td>462033176</td>\n",
       "      <td>a18e0999-61a1-4218-8f8f-61ec1d375361</td>\n",
       "      <td>2019-10-01</td>\n",
       "      <td>2019</td>\n",
       "      <td>10</td>\n",
       "      <td>1</td>\n",
       "      <td>0</td>\n",
       "      <td>1</td>\n",
       "      <td>46</td>\n",
       "      <td>0</td>\n",
       "      <td>0</td>\n",
       "      <td>0</td>\n",
       "      <td>0</td>\n",
       "      <td>0</td>\n",
       "      <td>0</td>\n",
       "      <td>0</td>\n",
       "      <td>0</td>\n",
       "      <td>0</td>\n",
       "      <td>0</td>\n",
       "    </tr>\n",
       "    <tr>\n",
       "      <th>2019-10-01 00:01:55+00:00</th>\n",
       "      <td>cart</td>\n",
       "      <td>5868461</td>\n",
       "      <td>1487580013069861120</td>\n",
       "      <td>3.57</td>\n",
       "      <td>514753614</td>\n",
       "      <td>e2fecb2d-22d0-df2c-c661-15da44b3ccf1</td>\n",
       "      <td>2019-10-01</td>\n",
       "      <td>2019</td>\n",
       "      <td>10</td>\n",
       "      <td>1</td>\n",
       "      <td>0</td>\n",
       "      <td>1</td>\n",
       "      <td>55</td>\n",
       "      <td>0</td>\n",
       "      <td>0</td>\n",
       "      <td>0</td>\n",
       "      <td>0</td>\n",
       "      <td>0</td>\n",
       "      <td>0</td>\n",
       "      <td>0</td>\n",
       "      <td>0</td>\n",
       "      <td>0</td>\n",
       "      <td>0</td>\n",
       "    </tr>\n",
       "  </tbody>\n",
       "</table>\n",
       "</div>"
      ],
      "text/plain": [
       "                          event_type  product_id          category_id  price  \\\n",
       "event_time                                                                     \n",
       "2019-10-01 00:01:46+00:00       view     5843665  1487580005092295424   9.44   \n",
       "2019-10-01 00:01:55+00:00       cart     5868461  1487580013069861120   3.57   \n",
       "\n",
       "                             user_id                          user_session  \\\n",
       "event_time                                                                   \n",
       "2019-10-01 00:01:46+00:00  462033176  a18e0999-61a1-4218-8f8f-61ec1d375361   \n",
       "2019-10-01 00:01:55+00:00  514753614  e2fecb2d-22d0-df2c-c661-15da44b3ccf1   \n",
       "\n",
       "                                 date  year  month  day  hour  minute  second  \\\n",
       "event_time                                                                      \n",
       "2019-10-01 00:01:46+00:00  2019-10-01  2019     10    1     0       1      46   \n",
       "2019-10-01 00:01:55+00:00  2019-10-01  2019     10    1     0       1      55   \n",
       "\n",
       "                           holiday  valentines_day  mothers_day  cyber_monday  \\\n",
       "event_time                                                                      \n",
       "2019-10-01 00:01:46+00:00        0               0            0             0   \n",
       "2019-10-01 00:01:55+00:00        0               0            0             0   \n",
       "\n",
       "                           womens_day  halloween  prime_day  christmas  \\\n",
       "event_time                                                               \n",
       "2019-10-01 00:01:46+00:00           0          0          0          0   \n",
       "2019-10-01 00:01:55+00:00           0          0          0          0   \n",
       "\n",
       "                           new_years_eve  black_friday  \n",
       "event_time                                              \n",
       "2019-10-01 00:01:46+00:00              0             0  \n",
       "2019-10-01 00:01:55+00:00              0             0  "
      ]
     },
     "execution_count": 2,
     "metadata": {},
     "output_type": "execute_result"
    }
   ],
   "source": [
    "pd.set_option('display.max_columns', None)\n",
    "\n",
    "df_ecom = pd.read_pickle('F:\\\\GDrive_DATA\\\\DS4B\\\\DS_MASTERY\\\\02_BUSINESS_ANALYTICS\\\\07_CASOS\\\\CASO3_OPTIMIZACIÓN_ECOMMERCE\\\\df_ecomNoindex.pickle')\n",
    "\n",
    "df_ecom.head(2)"
   ]
  }
 ],
 "metadata": {
  "kernelspec": {
   "display_name": "entorno_Ecommerce",
   "language": "python",
   "name": "python3"
  },
  "language_info": {
   "codemirror_mode": {
    "name": "ipython",
    "version": 3
   },
   "file_extension": ".py",
   "mimetype": "text/x-python",
   "name": "python",
   "nbconvert_exporter": "python",
   "pygments_lexer": "ipython3",
   "version": "3.11.5"
  },
  "orig_nbformat": 4
 },
 "nbformat": 4,
 "nbformat_minor": 2
}
