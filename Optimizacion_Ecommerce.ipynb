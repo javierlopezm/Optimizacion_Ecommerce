{
 "cells": [
  {
   "cell_type": "markdown",
   "metadata": {},
   "source": [
    "# **<font color = '#3498eb'>OBJETIVES</font>**"
   ]
  },
  {
   "cell_type": "markdown",
   "metadata": {},
   "source": [
    "· This cosmetics e-commerce has experienced flat growth over the past few months and, in general terms, aims to increase the number of conversions and the AOV (Average Order Value).\n",
    "\n",
    "· We want to create an RFM (Recency, Frequency, Monetary Value) segmentation and a recommendation system (Identify which products we want to put in front of every client).\n",
    "\n",
    "· We want to optimize every step of the customer journey (awareness, consideration, purchase, retention, and recommendation).\n",
    "\n",
    "· Optimize the campaigns.\n",
    "\n",
    "· Optimize the product catalog."
   ]
  },
  {
   "cell_type": "markdown",
   "metadata": {},
   "source": [
    "# **<font color = '#3498eb'>SECTOR & COMPANY</font>**"
   ]
  },
  {
   "cell_type": "markdown",
   "metadata": {},
   "source": [
    "# **<font color = '#3498eb'>SOME QUESTIONS TO START THE ANALYSIS</font>**"
   ]
  },
  {
   "cell_type": "markdown",
   "metadata": {},
   "source": [
    "- **Customer Journey**\n",
    "\n",
    "· What is the typical buying process.\n",
    "\n",
    "· In each session, how many products are viewed, added to the cart, abandoned, and purchased.\n",
    "\n",
    "· What has been the trend of these indicators in recent months.\n",
    "\n",
    "- **Clients**\n",
    "\n",
    "· How many products does each customer purchase.\n",
    "\n",
    "· How much does each customer spend.\n",
    "\n",
    "· Are there \"best customers\" that we want to identify and treat differently?\n",
    "\n",
    "· Are customers making repeat purchases in subsequent months?\n",
    "\n",
    "· What is the average LTV of a customer?\n",
    "\n",
    "· Can we create personalized campaigns, taking into account the LTV of the customer?\n",
    "\n",
    "- **Products**\n",
    "\n",
    "· Which products are most frequently purchased?\n",
    "\n",
    "· Are there products that are not being purchased?\n",
    "\n",
    "· Is there a correlation between product price and purchase volume?\n",
    "\n",
    "· Are there products that are viewed but not purchased?\n",
    "\n",
    "· Are there products that are removed from the shopping cart?\n",
    "\n",
    "· Can we make personalized product recommendations for each customer?"
   ]
  },
  {
   "cell_type": "markdown",
   "metadata": {},
   "source": [
    "# **<font color = '#3498eb'>LIBRARIES</font>**"
   ]
  },
  {
   "cell_type": "code",
   "execution_count": 5,
   "metadata": {},
   "outputs": [
    {
     "name": "stdout",
     "output_type": "stream",
     "text": [
      "Requirement already satisfied: tabulate in c:\\users\\usuario\\anaconda3\\envs\\entorno_ecommerce\\lib\\site-packages (0.9.0)\n",
      "Note: you may need to restart the kernel to use updated packages.\n"
     ]
    }
   ],
   "source": [
    "%pip install tabulate"
   ]
  },
  {
   "cell_type": "code",
   "execution_count": 1,
   "metadata": {},
   "outputs": [],
   "source": [
    "import numpy as np\n",
    "import pandas as pd\n",
    "import matplotlib.pyplot as plt\n",
    "%matplotlib inline\n",
    "import seaborn as sns\n",
    "%config IPCompleter.greedy=True\n",
    "import tabulate # Mejora la legibilidad de los resultados con independencia de la librería usada\n",
    "\n",
    "import sqlalchemy as sa\n",
    "from sqlalchemy import inspect"
   ]
  },
  {
   "cell_type": "markdown",
   "metadata": {},
   "source": [
    "# **<font color = '#3498eb'>DATA LOADING</font>**"
   ]
  },
  {
   "cell_type": "code",
   "execution_count": 2,
   "metadata": {},
   "outputs": [],
   "source": [
    "conn_sqlite = sa.create_engine(r'sqlite:///F:\\GDrive_DATA\\DS4B\\DS_MASTERY\\02_BUSINESS_ANALYTICS\\07_CASOS\\CASO3_OPTIMIZACIÓN_ECOMMERCE\\ecommerce.db')"
   ]
  },
  {
   "cell_type": "code",
   "execution_count": 4,
   "metadata": {},
   "outputs": [
    {
     "data": {
      "text/plain": [
       "['2019-Dec', '2019-Nov', '2019-Oct', '2020-Feb', '2020-Jan']"
      ]
     },
     "execution_count": 4,
     "metadata": {},
     "output_type": "execute_result"
    }
   ],
   "source": [
    "inspect(conn_sqlite).get_table_names()"
   ]
  },
  {
   "cell_type": "code",
   "execution_count": 3,
   "metadata": {},
   "outputs": [],
   "source": [
    "oct19 = pd.read_sql('2019-Oct', conn_sqlite)\n",
    "nov19 = pd.read_sql('2019-Nov', conn_sqlite)\n",
    "dec19 = pd.read_sql('2019-Dec', conn_sqlite)\n",
    "jan19 = pd.read_sql('2020-Jan', conn_sqlite)\n",
    "feb19 = pd.read_sql('2020-Feb', conn_sqlite)"
   ]
  },
  {
   "cell_type": "code",
   "execution_count": 5,
   "metadata": {},
   "outputs": [
    {
     "data": {
      "text/html": [
       "<div>\n",
       "<style scoped>\n",
       "    .dataframe tbody tr th:only-of-type {\n",
       "        vertical-align: middle;\n",
       "    }\n",
       "\n",
       "    .dataframe tbody tr th {\n",
       "        vertical-align: top;\n",
       "    }\n",
       "\n",
       "    .dataframe thead th {\n",
       "        text-align: right;\n",
       "    }\n",
       "</style>\n",
       "<table border=\"1\" class=\"dataframe\">\n",
       "  <thead>\n",
       "    <tr style=\"text-align: right;\">\n",
       "      <th></th>\n",
       "      <th>index</th>\n",
       "      <th>event_time</th>\n",
       "      <th>event_type</th>\n",
       "      <th>product_id</th>\n",
       "      <th>category_id</th>\n",
       "      <th>category_code</th>\n",
       "      <th>brand</th>\n",
       "      <th>price</th>\n",
       "      <th>user_id</th>\n",
       "      <th>user_session</th>\n",
       "    </tr>\n",
       "  </thead>\n",
       "  <tbody>\n",
       "    <tr>\n",
       "      <th>0</th>\n",
       "      <td>68</td>\n",
       "      <td>2019-10-01 00:01:46 UTC</td>\n",
       "      <td>view</td>\n",
       "      <td>5843665</td>\n",
       "      <td>1487580005092295511</td>\n",
       "      <td>None</td>\n",
       "      <td>f.o.x</td>\n",
       "      <td>9.44</td>\n",
       "      <td>462033176</td>\n",
       "      <td>a18e0999-61a1-4218-8f8f-61ec1d375361</td>\n",
       "    </tr>\n",
       "    <tr>\n",
       "      <th>1</th>\n",
       "      <td>72</td>\n",
       "      <td>2019-10-01 00:01:55 UTC</td>\n",
       "      <td>cart</td>\n",
       "      <td>5868461</td>\n",
       "      <td>1487580013069861041</td>\n",
       "      <td>None</td>\n",
       "      <td>italwax</td>\n",
       "      <td>3.57</td>\n",
       "      <td>514753614</td>\n",
       "      <td>e2fecb2d-22d0-df2c-c661-15da44b3ccf1</td>\n",
       "    </tr>\n",
       "    <tr>\n",
       "      <th>2</th>\n",
       "      <td>95</td>\n",
       "      <td>2019-10-01 00:02:50 UTC</td>\n",
       "      <td>view</td>\n",
       "      <td>5877456</td>\n",
       "      <td>1487580006300255120</td>\n",
       "      <td>None</td>\n",
       "      <td>jessnail</td>\n",
       "      <td>122.22</td>\n",
       "      <td>527418424</td>\n",
       "      <td>86e77869-afbc-4dff-9aa2-6b7dd8c90770</td>\n",
       "    </tr>\n",
       "    <tr>\n",
       "      <th>3</th>\n",
       "      <td>122</td>\n",
       "      <td>2019-10-01 00:03:41 UTC</td>\n",
       "      <td>view</td>\n",
       "      <td>5649270</td>\n",
       "      <td>1487580013749338323</td>\n",
       "      <td>None</td>\n",
       "      <td>concept</td>\n",
       "      <td>6.19</td>\n",
       "      <td>555448072</td>\n",
       "      <td>b5f72ceb-0730-44de-a932-d16db62390df</td>\n",
       "    </tr>\n",
       "    <tr>\n",
       "      <th>4</th>\n",
       "      <td>124</td>\n",
       "      <td>2019-10-01 00:03:44 UTC</td>\n",
       "      <td>view</td>\n",
       "      <td>18082</td>\n",
       "      <td>1487580005411062629</td>\n",
       "      <td>None</td>\n",
       "      <td>cnd</td>\n",
       "      <td>16.03</td>\n",
       "      <td>552006247</td>\n",
       "      <td>2d8f304b-de45-4e59-8f40-50c603843fe5</td>\n",
       "    </tr>\n",
       "    <tr>\n",
       "      <th>...</th>\n",
       "      <td>...</td>\n",
       "      <td>...</td>\n",
       "      <td>...</td>\n",
       "      <td>...</td>\n",
       "      <td>...</td>\n",
       "      <td>...</td>\n",
       "      <td>...</td>\n",
       "      <td>...</td>\n",
       "      <td>...</td>\n",
       "      <td>...</td>\n",
       "    </tr>\n",
       "    <tr>\n",
       "      <th>429785</th>\n",
       "      <td>4156660</td>\n",
       "      <td>2020-02-29 23:58:49 UTC</td>\n",
       "      <td>cart</td>\n",
       "      <td>5815662</td>\n",
       "      <td>1487580006317032337</td>\n",
       "      <td>None</td>\n",
       "      <td>None</td>\n",
       "      <td>0.92</td>\n",
       "      <td>147995998</td>\n",
       "      <td>5ff96629-3627-493e-a25b-5a871ec78c90</td>\n",
       "    </tr>\n",
       "    <tr>\n",
       "      <th>429786</th>\n",
       "      <td>4156663</td>\n",
       "      <td>2020-02-29 23:58:57 UTC</td>\n",
       "      <td>view</td>\n",
       "      <td>5815665</td>\n",
       "      <td>1487580006317032337</td>\n",
       "      <td>None</td>\n",
       "      <td>None</td>\n",
       "      <td>0.59</td>\n",
       "      <td>147995998</td>\n",
       "      <td>5ff96629-3627-493e-a25b-5a871ec78c90</td>\n",
       "    </tr>\n",
       "    <tr>\n",
       "      <th>429787</th>\n",
       "      <td>4156668</td>\n",
       "      <td>2020-02-29 23:59:05 UTC</td>\n",
       "      <td>cart</td>\n",
       "      <td>5815665</td>\n",
       "      <td>1487580006317032337</td>\n",
       "      <td>None</td>\n",
       "      <td>None</td>\n",
       "      <td>0.59</td>\n",
       "      <td>147995998</td>\n",
       "      <td>5ff96629-3627-493e-a25b-5a871ec78c90</td>\n",
       "    </tr>\n",
       "    <tr>\n",
       "      <th>429788</th>\n",
       "      <td>4156675</td>\n",
       "      <td>2020-02-29 23:59:28 UTC</td>\n",
       "      <td>view</td>\n",
       "      <td>5817692</td>\n",
       "      <td>1487580010872045658</td>\n",
       "      <td>None</td>\n",
       "      <td>None</td>\n",
       "      <td>0.79</td>\n",
       "      <td>619841242</td>\n",
       "      <td>18af673b-7fb9-4202-a66d-5c855bc0fd2d</td>\n",
       "    </tr>\n",
       "    <tr>\n",
       "      <th>429789</th>\n",
       "      <td>4156680</td>\n",
       "      <td>2020-02-29 23:59:54 UTC</td>\n",
       "      <td>view</td>\n",
       "      <td>5716351</td>\n",
       "      <td>1487580010872045658</td>\n",
       "      <td>None</td>\n",
       "      <td>irisk</td>\n",
       "      <td>0.79</td>\n",
       "      <td>619841242</td>\n",
       "      <td>18af673b-7fb9-4202-a66d-5c855bc0fd2d</td>\n",
       "    </tr>\n",
       "  </tbody>\n",
       "</table>\n",
       "<p>2095076 rows × 10 columns</p>\n",
       "</div>"
      ],
      "text/plain": [
       "          index               event_time event_type  product_id  \\\n",
       "0            68  2019-10-01 00:01:46 UTC       view     5843665   \n",
       "1            72  2019-10-01 00:01:55 UTC       cart     5868461   \n",
       "2            95  2019-10-01 00:02:50 UTC       view     5877456   \n",
       "3           122  2019-10-01 00:03:41 UTC       view     5649270   \n",
       "4           124  2019-10-01 00:03:44 UTC       view       18082   \n",
       "...         ...                      ...        ...         ...   \n",
       "429785  4156660  2020-02-29 23:58:49 UTC       cart     5815662   \n",
       "429786  4156663  2020-02-29 23:58:57 UTC       view     5815665   \n",
       "429787  4156668  2020-02-29 23:59:05 UTC       cart     5815665   \n",
       "429788  4156675  2020-02-29 23:59:28 UTC       view     5817692   \n",
       "429789  4156680  2020-02-29 23:59:54 UTC       view     5716351   \n",
       "\n",
       "                category_id category_code     brand   price    user_id  \\\n",
       "0       1487580005092295511          None     f.o.x    9.44  462033176   \n",
       "1       1487580013069861041          None   italwax    3.57  514753614   \n",
       "2       1487580006300255120          None  jessnail  122.22  527418424   \n",
       "3       1487580013749338323          None   concept    6.19  555448072   \n",
       "4       1487580005411062629          None       cnd   16.03  552006247   \n",
       "...                     ...           ...       ...     ...        ...   \n",
       "429785  1487580006317032337          None      None    0.92  147995998   \n",
       "429786  1487580006317032337          None      None    0.59  147995998   \n",
       "429787  1487580006317032337          None      None    0.59  147995998   \n",
       "429788  1487580010872045658          None      None    0.79  619841242   \n",
       "429789  1487580010872045658          None     irisk    0.79  619841242   \n",
       "\n",
       "                                user_session  \n",
       "0       a18e0999-61a1-4218-8f8f-61ec1d375361  \n",
       "1       e2fecb2d-22d0-df2c-c661-15da44b3ccf1  \n",
       "2       86e77869-afbc-4dff-9aa2-6b7dd8c90770  \n",
       "3       b5f72ceb-0730-44de-a932-d16db62390df  \n",
       "4       2d8f304b-de45-4e59-8f40-50c603843fe5  \n",
       "...                                      ...  \n",
       "429785  5ff96629-3627-493e-a25b-5a871ec78c90  \n",
       "429786  5ff96629-3627-493e-a25b-5a871ec78c90  \n",
       "429787  5ff96629-3627-493e-a25b-5a871ec78c90  \n",
       "429788  18af673b-7fb9-4202-a66d-5c855bc0fd2d  \n",
       "429789  18af673b-7fb9-4202-a66d-5c855bc0fd2d  \n",
       "\n",
       "[2095076 rows x 10 columns]"
      ]
     },
     "execution_count": 5,
     "metadata": {},
     "output_type": "execute_result"
    }
   ],
   "source": [
    "df_ecom = pd.concat([oct19, nov19, dec19, jan19, feb19], axis=0)\n",
    "\n",
    "df_ecom"
   ]
  },
  {
   "cell_type": "markdown",
   "metadata": {},
   "source": [
    "# **<font color = '#3498eb'>DATA QUALITY</font>**"
   ]
  },
  {
   "cell_type": "markdown",
   "metadata": {},
   "source": [
    "## VARIABLE TYPES"
   ]
  },
  {
   "cell_type": "code",
   "execution_count": 20,
   "metadata": {},
   "outputs": [
    {
     "name": "stdout",
     "output_type": "stream",
     "text": [
      "<class 'pandas.core.frame.DataFrame'>\n",
      "Index: 2095076 entries, 0 to 429789\n",
      "Data columns (total 10 columns):\n",
      " #   Column         Dtype  \n",
      "---  ------         -----  \n",
      " 0   index          int64  \n",
      " 1   event_time     object \n",
      " 2   event_type     object \n",
      " 3   product_id     int64  \n",
      " 4   category_id    int64  \n",
      " 5   category_code  object \n",
      " 6   brand          object \n",
      " 7   price          float64\n",
      " 8   user_id        int64  \n",
      " 9   user_session   object \n",
      "dtypes: float64(1), int64(4), object(5)\n",
      "memory usage: 175.8+ MB\n"
     ]
    }
   ],
   "source": [
    "df_ecom.info()"
   ]
  },
  {
   "cell_type": "code",
   "execution_count": 6,
   "metadata": {},
   "outputs": [],
   "source": [
    "# I delete the index column\n",
    "\n",
    "df_ecom.drop(columns='index', inplace=True)"
   ]
  },
  {
   "cell_type": "code",
   "execution_count": null,
   "metadata": {},
   "outputs": [],
   "source": [
    "# Convert event_time to datetime\n",
    "\n"
   ]
  },
  {
   "cell_type": "markdown",
   "metadata": {},
   "source": [
    "# **<font color = 'purple'>I save all the work I did today</font>**"
   ]
  },
  {
   "cell_type": "markdown",
   "metadata": {},
   "source": [
    "26/9/2023"
   ]
  },
  {
   "cell_type": "code",
   "execution_count": 9,
   "metadata": {},
   "outputs": [],
   "source": [
    "df_ecom.to_csv(\"F:\\\\GDrive_DATA\\\\DS4B\\\\DS_MASTERY\\\\02_BUSINESS_ANALYTICS\\\\07_CASOS\\\\CASO3_OPTIMIZACIÓN_ECOMMERCE\\\\df_ecomNoindex.csv\", index=False)"
   ]
  },
  {
   "cell_type": "code",
   "execution_count": null,
   "metadata": {},
   "outputs": [],
   "source": [
    "df_ecom"
   ]
  }
 ],
 "metadata": {
  "kernelspec": {
   "display_name": "entorno_Ecommerce",
   "language": "python",
   "name": "python3"
  },
  "language_info": {
   "codemirror_mode": {
    "name": "ipython",
    "version": 3
   },
   "file_extension": ".py",
   "mimetype": "text/x-python",
   "name": "python",
   "nbconvert_exporter": "python",
   "pygments_lexer": "ipython3",
   "version": "3.11.0"
  },
  "orig_nbformat": 4
 },
 "nbformat": 4,
 "nbformat_minor": 2
}
